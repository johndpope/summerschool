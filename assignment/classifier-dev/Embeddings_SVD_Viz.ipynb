{
 "cells": [
  {
   "cell_type": "markdown",
   "metadata": {},
   "source": [
    "# Word Embeddings - Co-occurrence and Visualization\n",
    "\n",
    "In this notebook, we'll explore continuous word representations. Particularly, we'll focus on SVD based embeddings. We'll work through how to build and factorize a co-occurrence matrix, and do some simple visualization of the embeddings.\n",
    "\n",
    "**Note:** If viewing on GitHub, please use this NBViewer link for proper rendering: http://nbviewer.jupyter.org/github/jsalt18-sentence-repl/blob/master/assignment/classifier/Embeddings_SVD_Viz.ipynb"
   ]
  },
  {
   "cell_type": "code",
   "execution_count": 3,
   "metadata": {
    "code_folding": []
   },
   "outputs": [
    {
     "name": "stderr",
     "output_type": "stream",
     "text": [
      "/home/iftenney/anaconda3/lib/python3.6/importlib/_bootstrap.py:219: RuntimeWarning: compiletime version 3.5 of module 'tensorflow.python.framework.fast_tensor_util' does not match runtime version 3.6\n",
      "  return f(*args, **kwds)\n"
     ]
    },
    {
     "data": {
      "text/html": [
       "\n",
       "    <div class=\"bk-root\">\n",
       "        <a href=\"https://bokeh.pydata.org\" target=\"_blank\" class=\"bk-logo bk-logo-small bk-logo-notebook\"></a>\n",
       "        <span id=\"fb70313b-eda8-4cf1-9f40-4cb535aa6b7d\">Loading BokehJS ...</span>\n",
       "    </div>"
      ]
     },
     "metadata": {},
     "output_type": "display_data"
    },
    {
     "data": {
      "application/javascript": [
       "\n",
       "(function(root) {\n",
       "  function now() {\n",
       "    return new Date();\n",
       "  }\n",
       "\n",
       "  var force = true;\n",
       "\n",
       "  if (typeof (root._bokeh_onload_callbacks) === \"undefined\" || force === true) {\n",
       "    root._bokeh_onload_callbacks = [];\n",
       "    root._bokeh_is_loading = undefined;\n",
       "  }\n",
       "\n",
       "  var JS_MIME_TYPE = 'application/javascript';\n",
       "  var HTML_MIME_TYPE = 'text/html';\n",
       "  var EXEC_MIME_TYPE = 'application/vnd.bokehjs_exec.v0+json';\n",
       "  var CLASS_NAME = 'output_bokeh rendered_html';\n",
       "\n",
       "  /**\n",
       "   * Render data to the DOM node\n",
       "   */\n",
       "  function render(props, node) {\n",
       "    var script = document.createElement(\"script\");\n",
       "    node.appendChild(script);\n",
       "  }\n",
       "\n",
       "  /**\n",
       "   * Handle when an output is cleared or removed\n",
       "   */\n",
       "  function handleClearOutput(event, handle) {\n",
       "    var cell = handle.cell;\n",
       "\n",
       "    var id = cell.output_area._bokeh_element_id;\n",
       "    var server_id = cell.output_area._bokeh_server_id;\n",
       "    // Clean up Bokeh references\n",
       "    if (id !== undefined) {\n",
       "      Bokeh.index[id].model.document.clear();\n",
       "      delete Bokeh.index[id];\n",
       "    }\n",
       "\n",
       "    if (server_id !== undefined) {\n",
       "      // Clean up Bokeh references\n",
       "      var cmd = \"from bokeh.io.state import curstate; print(curstate().uuid_to_server['\" + server_id + \"'].get_sessions()[0].document.roots[0]._id)\";\n",
       "      cell.notebook.kernel.execute(cmd, {\n",
       "        iopub: {\n",
       "          output: function(msg) {\n",
       "            var element_id = msg.content.text.trim();\n",
       "            Bokeh.index[element_id].model.document.clear();\n",
       "            delete Bokeh.index[element_id];\n",
       "          }\n",
       "        }\n",
       "      });\n",
       "      // Destroy server and session\n",
       "      var cmd = \"import bokeh.io.notebook as ion; ion.destroy_server('\" + server_id + \"')\";\n",
       "      cell.notebook.kernel.execute(cmd);\n",
       "    }\n",
       "  }\n",
       "\n",
       "  /**\n",
       "   * Handle when a new output is added\n",
       "   */\n",
       "  function handleAddOutput(event, handle) {\n",
       "    var output_area = handle.output_area;\n",
       "    var output = handle.output;\n",
       "\n",
       "    // limit handleAddOutput to display_data with EXEC_MIME_TYPE content only\n",
       "    if ((output.output_type != \"display_data\") || (!output.data.hasOwnProperty(EXEC_MIME_TYPE))) {\n",
       "      return\n",
       "    }\n",
       "\n",
       "    var toinsert = output_area.element.find(\".\" + CLASS_NAME.split(' ')[0]);\n",
       "\n",
       "    if (output.metadata[EXEC_MIME_TYPE][\"id\"] !== undefined) {\n",
       "      toinsert[0].firstChild.textContent = output.data[JS_MIME_TYPE];\n",
       "      // store reference to embed id on output_area\n",
       "      output_area._bokeh_element_id = output.metadata[EXEC_MIME_TYPE][\"id\"];\n",
       "    }\n",
       "    if (output.metadata[EXEC_MIME_TYPE][\"server_id\"] !== undefined) {\n",
       "      var bk_div = document.createElement(\"div\");\n",
       "      bk_div.innerHTML = output.data[HTML_MIME_TYPE];\n",
       "      var script_attrs = bk_div.children[0].attributes;\n",
       "      for (var i = 0; i < script_attrs.length; i++) {\n",
       "        toinsert[0].firstChild.setAttribute(script_attrs[i].name, script_attrs[i].value);\n",
       "      }\n",
       "      // store reference to server id on output_area\n",
       "      output_area._bokeh_server_id = output.metadata[EXEC_MIME_TYPE][\"server_id\"];\n",
       "    }\n",
       "  }\n",
       "\n",
       "  function register_renderer(events, OutputArea) {\n",
       "\n",
       "    function append_mime(data, metadata, element) {\n",
       "      // create a DOM node to render to\n",
       "      var toinsert = this.create_output_subarea(\n",
       "        metadata,\n",
       "        CLASS_NAME,\n",
       "        EXEC_MIME_TYPE\n",
       "      );\n",
       "      this.keyboard_manager.register_events(toinsert);\n",
       "      // Render to node\n",
       "      var props = {data: data, metadata: metadata[EXEC_MIME_TYPE]};\n",
       "      render(props, toinsert[0]);\n",
       "      element.append(toinsert);\n",
       "      return toinsert\n",
       "    }\n",
       "\n",
       "    /* Handle when an output is cleared or removed */\n",
       "    events.on('clear_output.CodeCell', handleClearOutput);\n",
       "    events.on('delete.Cell', handleClearOutput);\n",
       "\n",
       "    /* Handle when a new output is added */\n",
       "    events.on('output_added.OutputArea', handleAddOutput);\n",
       "\n",
       "    /**\n",
       "     * Register the mime type and append_mime function with output_area\n",
       "     */\n",
       "    OutputArea.prototype.register_mime_type(EXEC_MIME_TYPE, append_mime, {\n",
       "      /* Is output safe? */\n",
       "      safe: true,\n",
       "      /* Index of renderer in `output_area.display_order` */\n",
       "      index: 0\n",
       "    });\n",
       "  }\n",
       "\n",
       "  // register the mime type if in Jupyter Notebook environment and previously unregistered\n",
       "  if (root.Jupyter !== undefined) {\n",
       "    var events = require('base/js/events');\n",
       "    var OutputArea = require('notebook/js/outputarea').OutputArea;\n",
       "\n",
       "    if (OutputArea.prototype.mime_types().indexOf(EXEC_MIME_TYPE) == -1) {\n",
       "      register_renderer(events, OutputArea);\n",
       "    }\n",
       "  }\n",
       "\n",
       "  \n",
       "  if (typeof (root._bokeh_timeout) === \"undefined\" || force === true) {\n",
       "    root._bokeh_timeout = Date.now() + 5000;\n",
       "    root._bokeh_failed_load = false;\n",
       "  }\n",
       "\n",
       "  var NB_LOAD_WARNING = {'data': {'text/html':\n",
       "     \"<div style='background-color: #fdd'>\\n\"+\n",
       "     \"<p>\\n\"+\n",
       "     \"BokehJS does not appear to have successfully loaded. If loading BokehJS from CDN, this \\n\"+\n",
       "     \"may be due to a slow or bad network connection. Possible fixes:\\n\"+\n",
       "     \"</p>\\n\"+\n",
       "     \"<ul>\\n\"+\n",
       "     \"<li>re-rerun `output_notebook()` to attempt to load from CDN again, or</li>\\n\"+\n",
       "     \"<li>use INLINE resources instead, as so:</li>\\n\"+\n",
       "     \"</ul>\\n\"+\n",
       "     \"<code>\\n\"+\n",
       "     \"from bokeh.resources import INLINE\\n\"+\n",
       "     \"output_notebook(resources=INLINE)\\n\"+\n",
       "     \"</code>\\n\"+\n",
       "     \"</div>\"}};\n",
       "\n",
       "  function display_loaded() {\n",
       "    var el = document.getElementById(\"fb70313b-eda8-4cf1-9f40-4cb535aa6b7d\");\n",
       "    if (el != null) {\n",
       "      el.textContent = \"BokehJS is loading...\";\n",
       "    }\n",
       "    if (root.Bokeh !== undefined) {\n",
       "      if (el != null) {\n",
       "        el.textContent = \"BokehJS \" + root.Bokeh.version + \" successfully loaded.\";\n",
       "      }\n",
       "    } else if (Date.now() < root._bokeh_timeout) {\n",
       "      setTimeout(display_loaded, 100)\n",
       "    }\n",
       "  }\n",
       "\n",
       "\n",
       "  function run_callbacks() {\n",
       "    try {\n",
       "      root._bokeh_onload_callbacks.forEach(function(callback) { callback() });\n",
       "    }\n",
       "    finally {\n",
       "      delete root._bokeh_onload_callbacks\n",
       "    }\n",
       "    console.info(\"Bokeh: all callbacks have finished\");\n",
       "  }\n",
       "\n",
       "  function load_libs(js_urls, callback) {\n",
       "    root._bokeh_onload_callbacks.push(callback);\n",
       "    if (root._bokeh_is_loading > 0) {\n",
       "      console.log(\"Bokeh: BokehJS is being loaded, scheduling callback at\", now());\n",
       "      return null;\n",
       "    }\n",
       "    if (js_urls == null || js_urls.length === 0) {\n",
       "      run_callbacks();\n",
       "      return null;\n",
       "    }\n",
       "    console.log(\"Bokeh: BokehJS not loaded, scheduling load and callback at\", now());\n",
       "    root._bokeh_is_loading = js_urls.length;\n",
       "    for (var i = 0; i < js_urls.length; i++) {\n",
       "      var url = js_urls[i];\n",
       "      var s = document.createElement('script');\n",
       "      s.src = url;\n",
       "      s.async = false;\n",
       "      s.onreadystatechange = s.onload = function() {\n",
       "        root._bokeh_is_loading--;\n",
       "        if (root._bokeh_is_loading === 0) {\n",
       "          console.log(\"Bokeh: all BokehJS libraries loaded\");\n",
       "          run_callbacks()\n",
       "        }\n",
       "      };\n",
       "      s.onerror = function() {\n",
       "        console.warn(\"failed to load library \" + url);\n",
       "      };\n",
       "      console.log(\"Bokeh: injecting script tag for BokehJS library: \", url);\n",
       "      document.getElementsByTagName(\"head\")[0].appendChild(s);\n",
       "    }\n",
       "  };var element = document.getElementById(\"fb70313b-eda8-4cf1-9f40-4cb535aa6b7d\");\n",
       "  if (element == null) {\n",
       "    console.log(\"Bokeh: ERROR: autoload.js configured with elementid 'fb70313b-eda8-4cf1-9f40-4cb535aa6b7d' but no matching script tag was found. \")\n",
       "    return false;\n",
       "  }\n",
       "\n",
       "  var js_urls = [\"https://cdn.pydata.org/bokeh/release/bokeh-0.12.13.min.js\", \"https://cdn.pydata.org/bokeh/release/bokeh-widgets-0.12.13.min.js\", \"https://cdn.pydata.org/bokeh/release/bokeh-tables-0.12.13.min.js\", \"https://cdn.pydata.org/bokeh/release/bokeh-gl-0.12.13.min.js\"];\n",
       "\n",
       "  var inline_js = [\n",
       "    function(Bokeh) {\n",
       "      Bokeh.set_log_level(\"info\");\n",
       "    },\n",
       "    \n",
       "    function(Bokeh) {\n",
       "      \n",
       "    },\n",
       "    function(Bokeh) {\n",
       "      console.log(\"Bokeh: injecting CSS: https://cdn.pydata.org/bokeh/release/bokeh-0.12.13.min.css\");\n",
       "      Bokeh.embed.inject_css(\"https://cdn.pydata.org/bokeh/release/bokeh-0.12.13.min.css\");\n",
       "      console.log(\"Bokeh: injecting CSS: https://cdn.pydata.org/bokeh/release/bokeh-widgets-0.12.13.min.css\");\n",
       "      Bokeh.embed.inject_css(\"https://cdn.pydata.org/bokeh/release/bokeh-widgets-0.12.13.min.css\");\n",
       "      console.log(\"Bokeh: injecting CSS: https://cdn.pydata.org/bokeh/release/bokeh-tables-0.12.13.min.css\");\n",
       "      Bokeh.embed.inject_css(\"https://cdn.pydata.org/bokeh/release/bokeh-tables-0.12.13.min.css\");\n",
       "    }\n",
       "  ];\n",
       "\n",
       "  function run_inline_js() {\n",
       "    \n",
       "    if ((root.Bokeh !== undefined) || (force === true)) {\n",
       "      for (var i = 0; i < inline_js.length; i++) {\n",
       "        inline_js[i].call(root, root.Bokeh);\n",
       "      }if (force === true) {\n",
       "        display_loaded();\n",
       "      }} else if (Date.now() < root._bokeh_timeout) {\n",
       "      setTimeout(run_inline_js, 100);\n",
       "    } else if (!root._bokeh_failed_load) {\n",
       "      console.log(\"Bokeh: BokehJS failed to load within specified timeout.\");\n",
       "      root._bokeh_failed_load = true;\n",
       "    } else if (force !== true) {\n",
       "      var cell = $(document.getElementById(\"fb70313b-eda8-4cf1-9f40-4cb535aa6b7d\")).parents('.cell').data().cell;\n",
       "      cell.output_area.append_execute_result(NB_LOAD_WARNING)\n",
       "    }\n",
       "\n",
       "  }\n",
       "\n",
       "  if (root._bokeh_is_loading === 0) {\n",
       "    console.log(\"Bokeh: BokehJS loaded, going straight to plotting\");\n",
       "    run_inline_js();\n",
       "  } else {\n",
       "    load_libs(js_urls, function() {\n",
       "      console.log(\"Bokeh: BokehJS plotting callback run at\", now());\n",
       "      run_inline_js();\n",
       "    });\n",
       "  }\n",
       "}(window));"
      ],
      "application/vnd.bokehjs_load.v0+json": "\n(function(root) {\n  function now() {\n    return new Date();\n  }\n\n  var force = true;\n\n  if (typeof (root._bokeh_onload_callbacks) === \"undefined\" || force === true) {\n    root._bokeh_onload_callbacks = [];\n    root._bokeh_is_loading = undefined;\n  }\n\n  \n\n  \n  if (typeof (root._bokeh_timeout) === \"undefined\" || force === true) {\n    root._bokeh_timeout = Date.now() + 5000;\n    root._bokeh_failed_load = false;\n  }\n\n  var NB_LOAD_WARNING = {'data': {'text/html':\n     \"<div style='background-color: #fdd'>\\n\"+\n     \"<p>\\n\"+\n     \"BokehJS does not appear to have successfully loaded. If loading BokehJS from CDN, this \\n\"+\n     \"may be due to a slow or bad network connection. Possible fixes:\\n\"+\n     \"</p>\\n\"+\n     \"<ul>\\n\"+\n     \"<li>re-rerun `output_notebook()` to attempt to load from CDN again, or</li>\\n\"+\n     \"<li>use INLINE resources instead, as so:</li>\\n\"+\n     \"</ul>\\n\"+\n     \"<code>\\n\"+\n     \"from bokeh.resources import INLINE\\n\"+\n     \"output_notebook(resources=INLINE)\\n\"+\n     \"</code>\\n\"+\n     \"</div>\"}};\n\n  function display_loaded() {\n    var el = document.getElementById(\"fb70313b-eda8-4cf1-9f40-4cb535aa6b7d\");\n    if (el != null) {\n      el.textContent = \"BokehJS is loading...\";\n    }\n    if (root.Bokeh !== undefined) {\n      if (el != null) {\n        el.textContent = \"BokehJS \" + root.Bokeh.version + \" successfully loaded.\";\n      }\n    } else if (Date.now() < root._bokeh_timeout) {\n      setTimeout(display_loaded, 100)\n    }\n  }\n\n\n  function run_callbacks() {\n    try {\n      root._bokeh_onload_callbacks.forEach(function(callback) { callback() });\n    }\n    finally {\n      delete root._bokeh_onload_callbacks\n    }\n    console.info(\"Bokeh: all callbacks have finished\");\n  }\n\n  function load_libs(js_urls, callback) {\n    root._bokeh_onload_callbacks.push(callback);\n    if (root._bokeh_is_loading > 0) {\n      console.log(\"Bokeh: BokehJS is being loaded, scheduling callback at\", now());\n      return null;\n    }\n    if (js_urls == null || js_urls.length === 0) {\n      run_callbacks();\n      return null;\n    }\n    console.log(\"Bokeh: BokehJS not loaded, scheduling load and callback at\", now());\n    root._bokeh_is_loading = js_urls.length;\n    for (var i = 0; i < js_urls.length; i++) {\n      var url = js_urls[i];\n      var s = document.createElement('script');\n      s.src = url;\n      s.async = false;\n      s.onreadystatechange = s.onload = function() {\n        root._bokeh_is_loading--;\n        if (root._bokeh_is_loading === 0) {\n          console.log(\"Bokeh: all BokehJS libraries loaded\");\n          run_callbacks()\n        }\n      };\n      s.onerror = function() {\n        console.warn(\"failed to load library \" + url);\n      };\n      console.log(\"Bokeh: injecting script tag for BokehJS library: \", url);\n      document.getElementsByTagName(\"head\")[0].appendChild(s);\n    }\n  };var element = document.getElementById(\"fb70313b-eda8-4cf1-9f40-4cb535aa6b7d\");\n  if (element == null) {\n    console.log(\"Bokeh: ERROR: autoload.js configured with elementid 'fb70313b-eda8-4cf1-9f40-4cb535aa6b7d' but no matching script tag was found. \")\n    return false;\n  }\n\n  var js_urls = [\"https://cdn.pydata.org/bokeh/release/bokeh-0.12.13.min.js\", \"https://cdn.pydata.org/bokeh/release/bokeh-widgets-0.12.13.min.js\", \"https://cdn.pydata.org/bokeh/release/bokeh-tables-0.12.13.min.js\", \"https://cdn.pydata.org/bokeh/release/bokeh-gl-0.12.13.min.js\"];\n\n  var inline_js = [\n    function(Bokeh) {\n      Bokeh.set_log_level(\"info\");\n    },\n    \n    function(Bokeh) {\n      \n    },\n    function(Bokeh) {\n      console.log(\"Bokeh: injecting CSS: https://cdn.pydata.org/bokeh/release/bokeh-0.12.13.min.css\");\n      Bokeh.embed.inject_css(\"https://cdn.pydata.org/bokeh/release/bokeh-0.12.13.min.css\");\n      console.log(\"Bokeh: injecting CSS: https://cdn.pydata.org/bokeh/release/bokeh-widgets-0.12.13.min.css\");\n      Bokeh.embed.inject_css(\"https://cdn.pydata.org/bokeh/release/bokeh-widgets-0.12.13.min.css\");\n      console.log(\"Bokeh: injecting CSS: https://cdn.pydata.org/bokeh/release/bokeh-tables-0.12.13.min.css\");\n      Bokeh.embed.inject_css(\"https://cdn.pydata.org/bokeh/release/bokeh-tables-0.12.13.min.css\");\n    }\n  ];\n\n  function run_inline_js() {\n    \n    if ((root.Bokeh !== undefined) || (force === true)) {\n      for (var i = 0; i < inline_js.length; i++) {\n        inline_js[i].call(root, root.Bokeh);\n      }if (force === true) {\n        display_loaded();\n      }} else if (Date.now() < root._bokeh_timeout) {\n      setTimeout(run_inline_js, 100);\n    } else if (!root._bokeh_failed_load) {\n      console.log(\"Bokeh: BokehJS failed to load within specified timeout.\");\n      root._bokeh_failed_load = true;\n    } else if (force !== true) {\n      var cell = $(document.getElementById(\"fb70313b-eda8-4cf1-9f40-4cb535aa6b7d\")).parents('.cell').data().cell;\n      cell.output_area.append_execute_result(NB_LOAD_WARNING)\n    }\n\n  }\n\n  if (root._bokeh_is_loading === 0) {\n    console.log(\"Bokeh: BokehJS loaded, going straight to plotting\");\n    run_inline_js();\n  } else {\n    load_libs(js_urls, function() {\n      console.log(\"Bokeh: BokehJS plotting callback run at\", now());\n      run_inline_js();\n    });\n  }\n}(window));"
     },
     "metadata": {},
     "output_type": "display_data"
    }
   ],
   "source": [
    "from __future__ import absolute_import\n",
    "from __future__ import print_function\n",
    "from __future__ import division\n",
    "\n",
    "# Standard python helper libraries.\n",
    "import os, sys, time, shutil\n",
    "import itertools, collections\n",
    "from IPython.display import display\n",
    "\n",
    "# NumPy and SciPy for matrix ops\n",
    "import numpy as np\n",
    "import scipy.sparse\n",
    "\n",
    "# NLTK for NLP utils\n",
    "import nltk\n",
    "\n",
    "# Helper libraries.\n",
    "from common import utils, vocabulary, tf_embed_viz\n",
    "\n",
    "# Bokeh for plotting.\n",
    "utils.require_package(\"bokeh\")\n",
    "import bokeh.plotting as bp\n",
    "from bokeh.models import LabelSet, HoverTool, WheelZoomTool\n",
    "bp.output_notebook()"
   ]
  },
  {
   "cell_type": "markdown",
   "metadata": {},
   "source": [
    "We'll use the Brown corpus as our dataset, and do our usual simple preprocessing. Since we're just going to explore the embeddings, we don't need a train/dev/test split."
   ]
  },
  {
   "cell_type": "code",
   "execution_count": 4,
   "metadata": {},
   "outputs": [
    {
     "name": "stdout",
     "output_type": "stream",
     "text": [
      "[nltk_data] Downloading package brown to /home/iftenney/nltk_data...\n",
      "[nltk_data]   Package brown is already up-to-date!\n",
      "Vocabulary: 48,174 words\n",
      "Corpus: 1,218,533 tokens (counting <s>)\n"
     ]
    }
   ],
   "source": [
    "assert(nltk.download('brown'))  # make sure we have the data\n",
    "corpus = nltk.corpus.brown\n",
    "vocab = vocabulary.Vocabulary(utils.canonicalize_word(w) for w in utils.flatten(corpus.sents()))\n",
    "print(\"Vocabulary: {:,} words\".format(vocab.size))\n",
    "\n",
    "tokens = utils.preprocess_sentences(corpus.sents(), vocab, use_eos=False, emit_ids=False)\n",
    "print(\"Corpus: {:,} tokens (counting <s>)\".format(len(tokens)))"
   ]
  },
  {
   "cell_type": "markdown",
   "metadata": {},
   "source": [
    "# The Co-occurrence Matrix\n",
    "\n",
    "The base for our word embeddings will be a co-occurrence matrix $M$. In the most general form, we'll consider this to be a **word-context matrix**, where the row indices $i$ correspond to words (types) $w_i$ in the vocabulary. Context could be:\n",
    "\n",
    "- Documents\n",
    "- Paragraphs or sentences\n",
    "- Syntactic contexts\n",
    "- Topics\n",
    "- Nearby words\n",
    "\n",
    "We're really interested in the words, so we're going to jump right to the last one. How do we define \"nearby\"? The simplest way is to just position: we'll define a *window* and say that two words co-occur if they appear in this window. For example:\n",
    "```\n",
    "the quick brown fox jumped over the lazy dog\n",
    "```\n",
    "With a window of $\\pm 2$ words, we say that `brown`, `fox`, `over`, and `the` are in the context of `jumped`, and so in our co-occurence matrix $C \\in M^{|V|\\times|V|}$ we have $C_{\\mathtt{brown,jumped}} = 1$, $C_{\\mathtt{fox,jumped}} = 1$, and so on.\n",
    "\n",
    "\n",
    "\n",
    "\n"
   ]
  },
  {
   "cell_type": "markdown",
   "metadata": {},
   "source": [
    "_**Note:**_ It turns out that we can transform any word-context matrix $M$ into a word-word matrix:\n",
    "\n",
    "Let \n",
    "$$ M_{i\\ell} = \\mathbf{Count}[w_i \\in \\text{context}\\ \\ell] $$ \n",
    "\n",
    "Then for $i \\ne j$:\n",
    "\n",
    "$$ (MM^T)_{ij} = \\sum_{\\ell} M_{i\\ell} M_{j\\ell} = \\mathbf{Count}[w_i \\text{ in same context as } w_j] = C_{ij} $$\n",
    "\n",
    "There's a correction we'd need to do for the diagonal, but it won't change the structure of the representations that we get via the SVD. So regardless of the underlying context type, it's common to just deal with a word-word cooccurence matrix $C_{ij}$."
   ]
  },
  {
   "cell_type": "markdown",
   "metadata": {},
   "source": [
    "## Constructing the Co-occurrence Matrix\n",
    "\n",
    "In order to put our words in a matrix, we need to assign each one to a row index. Fortunately, our `Vocabulary` class does this automatically:"
   ]
  },
  {
   "cell_type": "code",
   "execution_count": 5,
   "metadata": {},
   "outputs": [
    {
     "name": "stdout",
     "output_type": "stream",
     "text": [
      "Sample words: ['<s>' 'the' 'fulton' 'county' 'grand']\n",
      "Sample ids:   [0, 3, 5405, 652, 2287]\n"
     ]
    }
   ],
   "source": [
    "token_ids = vocab.words_to_ids(tokens)\n",
    "print(\"Sample words: \" + str(tokens[:5]))\n",
    "print(\"Sample ids:   \" + str(token_ids[:5]))"
   ]
  },
  {
   "cell_type": "markdown",
   "metadata": {},
   "source": [
    "Our co-occurence counts are pairwise between words, so we'll want to have a sparse representation. The total number of matrix elements is:"
   ]
  },
  {
   "cell_type": "code",
   "execution_count": 6,
   "metadata": {},
   "outputs": [
    {
     "name": "stdout",
     "output_type": "stream",
     "text": [
      "Total matrix elements: 48,174 x 48,174 = 2,320,734,276\n"
     ]
    }
   ],
   "source": [
    "V = vocab.size\n",
    "print(\"Total matrix elements: {:,} x {:,} = {:,}\".format(V, V, V**2))"
   ]
  },
  {
   "cell_type": "markdown",
   "metadata": {},
   "source": [
    "But as with bigrams, most of these will be zero. So, we'll define $C$ as a `scipy.sparse` matrix. Like the sparse dicts we used in the [language modeling demo](../../materials/simple_lm/lm1.py), the sparse matrix will only store the nonzero elements we need.\n",
    "\n",
    "_**Mathematical note:**_  \n",
    "We can compute each element by sliding a window over each position $\\ell$ in the corpus. Suppose our window is size $W = 2K + 1$. Then:\n",
    "\n",
    "$$ C_{ij} = \\sum_\\ell^{|\\text{tokens}|} \\sum_{k \\in [-K,K],\\ \\delta \\ne 0 } \\mathbf{1}[w_\\ell = i \\text{ and } w_{\\ell+k} = j] $$\n",
    "\n",
    "We'll hack this a little bit and change the order of the sum, which makes for simpler code:\n",
    "\n",
    "$$ C_{ij} = \\sum_{k \\in [-K,K],\\ k \\ne 0 } \\sum_\\ell^{|\\text{tokens}|} \\mathbf{1}[w_\\ell = i \\text{ and } w_{\\ell+k} = j] $$\n",
    "\n",
    "Conveniently, the above is symmetric, so we'll simplify further to:\n",
    "\n",
    "$$ C_{ij}^+ = \\sum_{k = 1}^K \\sum_\\ell^{|\\text{tokens}|} \\mathbf{1}[w_\\ell = i \\text{ and } w_{\\ell+k} = j] = \\sum_{k = 1}^K C_{ij}^+(k)$$\n",
    "\n",
    "$$ C_{ij}^- = \\sum_{k = -K}^1 \\sum_\\ell^{|\\text{tokens}|} \\mathbf{1}[w_\\ell = i \\text{ and } w_{\\ell+k} = j] = \\sum_{k = -K}^1 C_{ij}^-(k)$$\n",
    "\n",
    "It's easy to see that $C_{ij} = C_{ij}^+ + C_{ij}^-$, and since $C_{ij}^+ = C_{ji}^-$, $C$ is a symmetric matrix.\n",
    "\n",
    "Now we can write the formula in code, where our outer loop sums over $k$:"
   ]
  },
  {
   "cell_type": "code",
   "execution_count": 7,
   "metadata": {
    "collapsed": true
   },
   "outputs": [],
   "source": [
    "def cooccurrence_matrix(token_ids, V, K=2):\n",
    "    # We'll use this as an \"accumulator\" matrix\n",
    "    C = scipy.sparse.csc_matrix((V,V), dtype=np.float32)\n",
    "\n",
    "    for k in range(1, K+1):\n",
    "        print(u\"Counting pairs (i, i \\u00B1 {:d}) ...\".format(k))\n",
    "        i = token_ids[:-k]  # current word\n",
    "        j = token_ids[k:]   # k words ahead\n",
    "        data = (np.ones_like(i), (i,j))  # values, indices\n",
    "        Ck_plus = scipy.sparse.csc_matrix(data, shape=C.shape, dtype=np.float32)\n",
    "        Ck_minus = Ck_plus.T  # Consider k words behind\n",
    "        C += Ck_plus + Ck_minus\n",
    "\n",
    "    print(\"Co-occurrence matrix: {:,} words x {:,} words\".format(*C.shape))\n",
    "    print(\"  {:.02g} nonzero elements\".format(C.nnz))\n",
    "    return C"
   ]
  },
  {
   "cell_type": "markdown",
   "metadata": {},
   "source": [
    "Let's look at a toy corpus to see how this works. With a window of 1, we should see co-occurrence counts for each pair of neighboring words:  \n",
    "`(<s>, nlp)`,  \n",
    "`(nlp, class)`,  \n",
    "`(class, is)`,  \n",
    "and so on - as well as their reversed versions (remember, C is symmetric!)"
   ]
  },
  {
   "cell_type": "code",
   "execution_count": 8,
   "metadata": {
    "code_folding": []
   },
   "outputs": [
    {
     "name": "stdout",
     "output_type": "stream",
     "text": [
      "Counting pairs (i, i ± 1) ...\n",
      "Co-occurrence matrix: 8 words x 8 words\n",
      "  16 nonzero elements\n"
     ]
    },
    {
     "data": {
      "text/html": [
       "<div>\n",
       "<style>\n",
       "    .dataframe thead tr:only-child th {\n",
       "        text-align: right;\n",
       "    }\n",
       "\n",
       "    .dataframe thead th {\n",
       "        text-align: left;\n",
       "    }\n",
       "\n",
       "    .dataframe tbody tr th {\n",
       "        vertical-align: top;\n",
       "    }\n",
       "</style>\n",
       "<table border=\"1\" class=\"dataframe\">\n",
       "  <thead>\n",
       "    <tr style=\"text-align: right;\">\n",
       "      <th></th>\n",
       "      <th>&lt;s&gt;</th>\n",
       "      <th>&lt;/s&gt;</th>\n",
       "      <th>&lt;unk&gt;</th>\n",
       "      <th>nlp</th>\n",
       "      <th>class</th>\n",
       "      <th>is</th>\n",
       "      <th>awesome</th>\n",
       "      <th>fun</th>\n",
       "    </tr>\n",
       "  </thead>\n",
       "  <tbody>\n",
       "    <tr>\n",
       "      <th>&lt;s&gt;</th>\n",
       "      <td>0</td>\n",
       "      <td>1</td>\n",
       "      <td>0</td>\n",
       "      <td>2</td>\n",
       "      <td>0</td>\n",
       "      <td>0</td>\n",
       "      <td>0</td>\n",
       "      <td>0</td>\n",
       "    </tr>\n",
       "    <tr>\n",
       "      <th>&lt;/s&gt;</th>\n",
       "      <td>1</td>\n",
       "      <td>0</td>\n",
       "      <td>0</td>\n",
       "      <td>0</td>\n",
       "      <td>0</td>\n",
       "      <td>0</td>\n",
       "      <td>1</td>\n",
       "      <td>1</td>\n",
       "    </tr>\n",
       "    <tr>\n",
       "      <th>&lt;unk&gt;</th>\n",
       "      <td>0</td>\n",
       "      <td>0</td>\n",
       "      <td>0</td>\n",
       "      <td>0</td>\n",
       "      <td>0</td>\n",
       "      <td>0</td>\n",
       "      <td>0</td>\n",
       "      <td>0</td>\n",
       "    </tr>\n",
       "    <tr>\n",
       "      <th>nlp</th>\n",
       "      <td>2</td>\n",
       "      <td>0</td>\n",
       "      <td>0</td>\n",
       "      <td>0</td>\n",
       "      <td>2</td>\n",
       "      <td>0</td>\n",
       "      <td>0</td>\n",
       "      <td>0</td>\n",
       "    </tr>\n",
       "    <tr>\n",
       "      <th>class</th>\n",
       "      <td>0</td>\n",
       "      <td>0</td>\n",
       "      <td>0</td>\n",
       "      <td>2</td>\n",
       "      <td>0</td>\n",
       "      <td>2</td>\n",
       "      <td>0</td>\n",
       "      <td>0</td>\n",
       "    </tr>\n",
       "    <tr>\n",
       "      <th>is</th>\n",
       "      <td>0</td>\n",
       "      <td>0</td>\n",
       "      <td>0</td>\n",
       "      <td>0</td>\n",
       "      <td>2</td>\n",
       "      <td>0</td>\n",
       "      <td>1</td>\n",
       "      <td>1</td>\n",
       "    </tr>\n",
       "    <tr>\n",
       "      <th>awesome</th>\n",
       "      <td>0</td>\n",
       "      <td>1</td>\n",
       "      <td>0</td>\n",
       "      <td>0</td>\n",
       "      <td>0</td>\n",
       "      <td>1</td>\n",
       "      <td>0</td>\n",
       "      <td>0</td>\n",
       "    </tr>\n",
       "    <tr>\n",
       "      <th>fun</th>\n",
       "      <td>0</td>\n",
       "      <td>1</td>\n",
       "      <td>0</td>\n",
       "      <td>0</td>\n",
       "      <td>0</td>\n",
       "      <td>1</td>\n",
       "      <td>0</td>\n",
       "      <td>0</td>\n",
       "    </tr>\n",
       "  </tbody>\n",
       "</table>\n",
       "</div>"
      ],
      "text/plain": [
       "<IPython.core.display.HTML object>"
      ]
     },
     "metadata": {},
     "output_type": "display_data"
    }
   ],
   "source": [
    "# Show co-occurrence on a toy corpus\n",
    "toy_corpus = [\n",
    "    \"nlp class is awesome\",\n",
    "    \"nlp class is fun\"\n",
    "]\n",
    "\n",
    "toy_tokens = list(utils.flatten(s.split() for s in toy_corpus))\n",
    "toy_vocab = vocabulary.Vocabulary(toy_tokens)\n",
    "# sentence_to_ids adds \"<s>\" and \"</s>\"\n",
    "toy_token_ids = list(utils.flatten(toy_vocab.sentence_to_ids(s.split()) \n",
    "                     for s in toy_corpus))\n",
    "\n",
    "# Here's the important part\n",
    "toy_C = cooccurrence_matrix(toy_token_ids, toy_vocab.size, K=1)\n",
    "\n",
    "toy_labels = toy_vocab.ordered_words()\n",
    "utils.pretty_print_matrix(toy_C.toarray(), rows=toy_labels, cols=toy_labels, dtype=int)"
   ]
  },
  {
   "cell_type": "markdown",
   "metadata": {},
   "source": [
    "## Computing Word Vectors\n",
    "\n",
    "In order to go from our co-occurrence matrix to word vectors, we need to do two things:\n",
    "\n",
    "- First, convert to **PPMI** to reduce the impact of common words.\n",
    "- Compute the **SVD**, and extract our vectors.\n",
    "\n",
    "### PPMI\n",
    "\n",
    "PPMI stands for Positive [Pointwise Mutual Information](https://en.wikipedia.org/wiki/Pointwise_mutual_information), which you've seen on [Assignment 1](../../assignment/a1/information_theory.ipynb#Pointwise-Mutual-Information). PMI is a generalization of the idea of correlation, but for arbitrary variables. Here, we're interested in the correlation between word $i$ and word $j$, where we take the samples to be all the word-word pairs in our corpus.  \n",
    "Positive just means we'll truncate at zero: $\\text{PPMI}(i,j) = \\max(0, \\text{PMI}(i,j))$\n",
    "\n",
    "We'll apply PPMI as a transformation of our counts matrix. First, compute probabilities:\n",
    "$$ P(i,j) = \\frac{C(i,j)}{\\sum_{k,l} C(k,l)} = \\frac{C_{ij}}{Z}$$\n",
    "$$ P(i) = \\frac{\\sum_{k} C(i,k)}{\\sum_{k,l} C(k,l)} = \\frac{Z_i}{Z}$$\n",
    "\n",
    "Then compute PMI:\n",
    "$$ \\text{PMI}(i,j) = \\log \\frac{P(i,j)}{P(i)P(j)} = \\log \\frac{C_{ij} \\cdot Z}{Z_i \\cdot Z_j} $$\n",
    "\n",
    "Then truncate to ignore negatively-correlated pairs:\n",
    "$$\\text{PPMI}(i,j) = \\max(0, \\text{PMI}(i,j))$$\n",
    "\n",
    "#### Note on Sparse Matricies\n",
    "\n",
    "In order to compute PPMI, we'll need to \"unpack\" the nonzero elements. Recall when we were constructing it, we constructed a list of `(values, (indices))`:\n",
    "```\n",
    "data = (np.ones_like(i), (i,j))  # values, indices\n",
    "```\n",
    "We'll do the inverse of this here, then transform all the values in parallel, then pack them back into a sparse matrix."
   ]
  },
  {
   "cell_type": "code",
   "execution_count": 9,
   "metadata": {
    "code_folding": [],
    "collapsed": true
   },
   "outputs": [],
   "source": [
    "def PPMI(C):\n",
    "    \"\"\"Tranform a counts matrix to PPMI.\n",
    "    \n",
    "    Args:\n",
    "      C: scipy.sparse.csc_matrix of counts C_ij\n",
    "    \n",
    "    Returns:\n",
    "      (scipy.sparse.csc_matrix) PPMI(C) as defined above\n",
    "    \"\"\"\n",
    "    Z = float(C.sum())  # total counts\n",
    "    # sum each column (along rows)\n",
    "    Zc = np.array(C.sum(axis=0), dtype=np.float64).flatten()\n",
    "    # sum each row (along columns)\n",
    "    Zr = np.array(C.sum(axis=1), dtype=np.float64).flatten()\n",
    "    \n",
    "    # Get indices of relevant elements\n",
    "    ii, jj = C.nonzero()  # row, column indices\n",
    "    Cij = np.array(C[ii,jj], dtype=np.float64).flatten()\n",
    "    \n",
    "    ##\n",
    "    # PMI equation\n",
    "    pmi = np.log(Cij * Z / (Zr[ii] * Zc[jj]))\n",
    "    ##\n",
    "    # Truncate to positive only\n",
    "    ppmi = np.maximum(0, pmi)  # take positive only\n",
    "    \n",
    "    # Re-format as sparse matrix\n",
    "    ret = scipy.sparse.csc_matrix((ppmi, (ii,jj)), shape=C.shape,\n",
    "                                  dtype=np.float64)\n",
    "    ret.eliminate_zeros()  # remove zeros\n",
    "    return ret"
   ]
  },
  {
   "cell_type": "markdown",
   "metadata": {},
   "source": [
    "Let's see what this does on our toy corpus:"
   ]
  },
  {
   "cell_type": "code",
   "execution_count": 10,
   "metadata": {
    "scrolled": true
   },
   "outputs": [
    {
     "data": {
      "text/html": [
       "<div>\n",
       "<style>\n",
       "    .dataframe thead tr:only-child th {\n",
       "        text-align: right;\n",
       "    }\n",
       "\n",
       "    .dataframe thead th {\n",
       "        text-align: left;\n",
       "    }\n",
       "\n",
       "    .dataframe tbody tr th {\n",
       "        vertical-align: top;\n",
       "    }\n",
       "</style>\n",
       "<table border=\"1\" class=\"dataframe\">\n",
       "  <thead>\n",
       "    <tr style=\"text-align: right;\">\n",
       "      <th></th>\n",
       "      <th>&lt;s&gt;</th>\n",
       "      <th>&lt;/s&gt;</th>\n",
       "      <th>&lt;unk&gt;</th>\n",
       "      <th>nlp</th>\n",
       "      <th>class</th>\n",
       "      <th>is</th>\n",
       "      <th>awesome</th>\n",
       "      <th>fun</th>\n",
       "    </tr>\n",
       "  </thead>\n",
       "  <tbody>\n",
       "    <tr>\n",
       "      <th>&lt;s&gt;</th>\n",
       "      <td>0.0000</td>\n",
       "      <td>0.8938</td>\n",
       "      <td>0.0000</td>\n",
       "      <td>1.2993</td>\n",
       "      <td>0.0000</td>\n",
       "      <td>0.0000</td>\n",
       "      <td>0.0000</td>\n",
       "      <td>0.0000</td>\n",
       "    </tr>\n",
       "    <tr>\n",
       "      <th>&lt;/s&gt;</th>\n",
       "      <td>0.8938</td>\n",
       "      <td>0.0000</td>\n",
       "      <td>0.0000</td>\n",
       "      <td>0.0000</td>\n",
       "      <td>0.0000</td>\n",
       "      <td>0.0000</td>\n",
       "      <td>1.2993</td>\n",
       "      <td>1.2993</td>\n",
       "    </tr>\n",
       "    <tr>\n",
       "      <th>&lt;unk&gt;</th>\n",
       "      <td>0.0000</td>\n",
       "      <td>0.0000</td>\n",
       "      <td>0.0000</td>\n",
       "      <td>0.0000</td>\n",
       "      <td>0.0000</td>\n",
       "      <td>0.0000</td>\n",
       "      <td>0.0000</td>\n",
       "      <td>0.0000</td>\n",
       "    </tr>\n",
       "    <tr>\n",
       "      <th>nlp</th>\n",
       "      <td>1.2993</td>\n",
       "      <td>0.0000</td>\n",
       "      <td>0.0000</td>\n",
       "      <td>0.0000</td>\n",
       "      <td>1.0116</td>\n",
       "      <td>0.0000</td>\n",
       "      <td>0.0000</td>\n",
       "      <td>0.0000</td>\n",
       "    </tr>\n",
       "    <tr>\n",
       "      <th>class</th>\n",
       "      <td>0.0000</td>\n",
       "      <td>0.0000</td>\n",
       "      <td>0.0000</td>\n",
       "      <td>1.0116</td>\n",
       "      <td>0.0000</td>\n",
       "      <td>1.0116</td>\n",
       "      <td>0.0000</td>\n",
       "      <td>0.0000</td>\n",
       "    </tr>\n",
       "    <tr>\n",
       "      <th>is</th>\n",
       "      <td>0.0000</td>\n",
       "      <td>0.0000</td>\n",
       "      <td>0.0000</td>\n",
       "      <td>0.0000</td>\n",
       "      <td>1.0116</td>\n",
       "      <td>0.0000</td>\n",
       "      <td>1.0116</td>\n",
       "      <td>1.0116</td>\n",
       "    </tr>\n",
       "    <tr>\n",
       "      <th>awesome</th>\n",
       "      <td>0.0000</td>\n",
       "      <td>1.2993</td>\n",
       "      <td>0.0000</td>\n",
       "      <td>0.0000</td>\n",
       "      <td>0.0000</td>\n",
       "      <td>1.0116</td>\n",
       "      <td>0.0000</td>\n",
       "      <td>0.0000</td>\n",
       "    </tr>\n",
       "    <tr>\n",
       "      <th>fun</th>\n",
       "      <td>0.0000</td>\n",
       "      <td>1.2993</td>\n",
       "      <td>0.0000</td>\n",
       "      <td>0.0000</td>\n",
       "      <td>0.0000</td>\n",
       "      <td>1.0116</td>\n",
       "      <td>0.0000</td>\n",
       "      <td>0.0000</td>\n",
       "    </tr>\n",
       "  </tbody>\n",
       "</table>\n",
       "</div>"
      ],
      "text/plain": [
       "<IPython.core.display.HTML object>"
      ]
     },
     "metadata": {},
     "output_type": "display_data"
    }
   ],
   "source": [
    "utils.pretty_print_matrix(PPMI(toy_C).toarray(), rows=toy_labels, \n",
    "                          cols=toy_labels, dtype=float)"
   ]
  },
  {
   "cell_type": "markdown",
   "metadata": {},
   "source": [
    "### The SVD\n",
    "\n",
    "Recall from async that the [singular value decomposition (SVD)](https://en.wikipedia.org/wiki/Singular_value_decomposition) decomposes an $m \\times n$ matrix $X$ as:\n",
    "\n",
    "$$ X = UDV^T $$ \n",
    "\n",
    "where $U$ is $m\\times m$, $D$ is $m \\times n$, and $V$ is $n \\times n$, $U$ and $V$ are orthonormal matricies, and $D$ is diagonal. \n",
    "\n",
    "Conventionally, we take the diagonal elements of $D$ to be in order, so $D_{00}$ is the largest singular value, and so on. Then we can take the first $d$ columns of $U$ to be our word vector representations.\n",
    "\n",
    "This is a very standard algorithm with many implementations. We'll use the one in [`sklearn.decomposition.TruncatedSVD`](http://scikit-learn.org/stable/modules/generated/sklearn.decomposition.TruncatedSVD.html), which will only compute the $d \\ll |V|$ components we need.\n",
    "\n",
    "#### Note: known Anaconda bug\n",
    "\n",
    "There's a [known bug](https://github.com/BVLC/caffe/issues/3884) with Anaconda's configuration of some linear algebra libraries. If your Python kernel crashes on running the SVD, open a terminal and run:\n",
    "```\n",
    "conda install mkl\n",
    "```\n",
    "That should re-link the packages. You may need to restart your kernel for it to take effect."
   ]
  },
  {
   "cell_type": "code",
   "execution_count": 11,
   "metadata": {
    "collapsed": true
   },
   "outputs": [],
   "source": [
    "from sklearn.decomposition import TruncatedSVD\n",
    "def SVD(X, d=100):\n",
    "    \"\"\"Returns word vectors from SVD.\n",
    "    \n",
    "    Args:\n",
    "      X: m x n matrix\n",
    "      d: word vector dimension\n",
    "      \n",
    "    Returns:\n",
    "      Wv : m x d matrix, each row is a word vector.\n",
    "    \"\"\"\n",
    "    transformer = TruncatedSVD(n_components=d, random_state=1)\n",
    "    Wv = transformer.fit_transform(X)\n",
    "    # Normalize to unit length\n",
    "    Wv = Wv / np.linalg.norm(Wv, axis=1).reshape([-1,1])\n",
    "    return Wv, transformer.explained_variance_"
   ]
  },
  {
   "cell_type": "markdown",
   "metadata": {},
   "source": [
    "Again, applied to our toy corpus. Note that \"fun\" and \"awesome\" appear in identical contexts, so they get identical vector representations:"
   ]
  },
  {
   "cell_type": "code",
   "execution_count": 12,
   "metadata": {},
   "outputs": [
    {
     "data": {
      "text/html": [
       "<div>\n",
       "<style>\n",
       "    .dataframe thead tr:only-child th {\n",
       "        text-align: right;\n",
       "    }\n",
       "\n",
       "    .dataframe thead th {\n",
       "        text-align: left;\n",
       "    }\n",
       "\n",
       "    .dataframe tbody tr th {\n",
       "        vertical-align: top;\n",
       "    }\n",
       "</style>\n",
       "<table border=\"1\" class=\"dataframe\">\n",
       "  <thead>\n",
       "    <tr style=\"text-align: right;\">\n",
       "      <th></th>\n",
       "      <th>0</th>\n",
       "      <th>1</th>\n",
       "      <th>2</th>\n",
       "    </tr>\n",
       "  </thead>\n",
       "  <tbody>\n",
       "    <tr>\n",
       "      <th>&lt;s&gt;</th>\n",
       "      <td>1.0000</td>\n",
       "      <td>0.0000</td>\n",
       "      <td>-0.0000</td>\n",
       "    </tr>\n",
       "    <tr>\n",
       "      <th>&lt;/s&gt;</th>\n",
       "      <td>-0.0000</td>\n",
       "      <td>0.9743</td>\n",
       "      <td>-0.2250</td>\n",
       "    </tr>\n",
       "    <tr>\n",
       "      <th>&lt;unk&gt;</th>\n",
       "      <td>0.1040</td>\n",
       "      <td>-0.0735</td>\n",
       "      <td>0.9919</td>\n",
       "    </tr>\n",
       "    <tr>\n",
       "      <th>nlp</th>\n",
       "      <td>0.0000</td>\n",
       "      <td>0.5542</td>\n",
       "      <td>0.8324</td>\n",
       "    </tr>\n",
       "    <tr>\n",
       "      <th>class</th>\n",
       "      <td>1.0000</td>\n",
       "      <td>0.0000</td>\n",
       "      <td>-0.0000</td>\n",
       "    </tr>\n",
       "    <tr>\n",
       "      <th>is</th>\n",
       "      <td>0.0000</td>\n",
       "      <td>0.9858</td>\n",
       "      <td>-0.1677</td>\n",
       "    </tr>\n",
       "    <tr>\n",
       "      <th>awesome</th>\n",
       "      <td>1.0000</td>\n",
       "      <td>0.0000</td>\n",
       "      <td>-0.0000</td>\n",
       "    </tr>\n",
       "    <tr>\n",
       "      <th>fun</th>\n",
       "      <td>1.0000</td>\n",
       "      <td>0.0000</td>\n",
       "      <td>-0.0000</td>\n",
       "    </tr>\n",
       "  </tbody>\n",
       "</table>\n",
       "</div>"
      ],
      "text/plain": [
       "<IPython.core.display.HTML object>"
      ]
     },
     "metadata": {},
     "output_type": "display_data"
    }
   ],
   "source": [
    "d = 3\n",
    "utils.pretty_print_matrix(SVD(PPMI(toy_C).toarray(), d=d)[0], \n",
    "                          rows=toy_labels, cols=range(d), dtype=float)"
   ]
  },
  {
   "cell_type": "markdown",
   "metadata": {
    "collapsed": true
   },
   "source": [
    "Now we can compute our word vectors on our whole corpus:"
   ]
  },
  {
   "cell_type": "code",
   "execution_count": 13,
   "metadata": {},
   "outputs": [
    {
     "name": "stdout",
     "output_type": "stream",
     "text": [
      "Counting pairs (i, i ± 1) ...\n",
      "Co-occurrence matrix: 48,174 words x 48,174 words\n",
      "  8.1e+05 nonzero elements\n",
      "Computed Co-occurrence matrix in 0:00:00\n",
      "Computed PPMI in 0:00:00\n",
      "Computed SVD in 0:00:01\n"
     ]
    }
   ],
   "source": [
    "K = 1\n",
    "d = 25\n",
    "t0 = time.time()\n",
    "C = cooccurrence_matrix(token_ids, vocab.size, K=K)\n",
    "print(\"Computed Co-occurrence matrix in {:s}\".format(utils.pretty_timedelta(since=t0))); t0 = time.time()\n",
    "C_ppmi = PPMI(C)\n",
    "print(\"Computed PPMI in {:s}\".format(utils.pretty_timedelta(since=t0))); t0 = time.time()\n",
    "Wv, _ = SVD(C_ppmi, d=d)\n",
    "print(\"Computed SVD in {:s}\".format(utils.pretty_timedelta(since=t0)))"
   ]
  },
  {
   "cell_type": "markdown",
   "metadata": {},
   "source": [
    "# Visualization\n",
    "\n",
    "For a quick visualization, we can plot the first two dimensions directly. Plotly makes this quite easy, and gives us free hovertext:"
   ]
  },
  {
   "cell_type": "code",
   "execution_count": 14,
   "metadata": {},
   "outputs": [
    {
     "data": {
      "text/html": [
       "\n",
       "<div class=\"bk-root\">\n",
       "    <div class=\"bk-plotdiv\" id=\"85f72cf9-1d84-4f5f-873d-dd5643b4d873\"></div>\n",
       "</div>"
      ]
     },
     "metadata": {},
     "output_type": "display_data"
    },
    {
     "data": {
      "application/javascript": [
       "(function(root) {\n",
       "  function embed_document(root) {\n",
       "    \n",
       "  var docs_json = {\"93bd06b3-4ef4-43ae-93dc-34c6ce5f3aa5\":{\"roots\":{\"references\":[{\"attributes\":{},\"id\":\"f6895b4d-c156-4743-bb51-af9d73db22d8\",\"type\":\"WheelZoomTool\"},{\"attributes\":{},\"id\":\"be682200-67e0-46df-8c01-9a8885cab403\",\"type\":\"BasicTickFormatter\"},{\"attributes\":{\"fill_alpha\":{\"value\":0.1},\"fill_color\":{\"value\":\"#1f77b4\"},\"line_alpha\":{\"value\":0.1},\"line_color\":{\"value\":\"#1f77b4\"},\"x\":{\"field\":\"x\"},\"y\":{\"field\":\"y\"}},\"id\":\"558fb7b6-7fe4-4baf-82f8-79fa162da56a\",\"type\":\"Circle\"},{\"attributes\":{},\"id\":\"65706563-9307-435c-8746-12012932ba9b\",\"type\":\"LinearScale\"},{\"attributes\":{\"source\":{\"id\":\"047c7d67-e7d9-4db0-b33f-658bce8aa4b0\",\"type\":\"ColumnDataSource\"}},\"id\":\"f622ef8e-7294-47af-a409-218f21bc68b9\",\"type\":\"CDSView\"},{\"attributes\":{},\"id\":\"0dd3a6cc-302b-443e-ba01-cca81ca1d01f\",\"type\":\"BasicTicker\"},{\"attributes\":{\"below\":[{\"id\":\"e7fdf9f9-3926-408e-93f6-feff28ec680a\",\"type\":\"LinearAxis\"}],\"left\":[{\"id\":\"8891b94b-5d12-4fac-8440-da2098ca67e0\",\"type\":\"LinearAxis\"}],\"renderers\":[{\"id\":\"e7fdf9f9-3926-408e-93f6-feff28ec680a\",\"type\":\"LinearAxis\"},{\"id\":\"4cd6deb6-05ff-47df-91a3-28f826988ff6\",\"type\":\"Grid\"},{\"id\":\"8891b94b-5d12-4fac-8440-da2098ca67e0\",\"type\":\"LinearAxis\"},{\"id\":\"3e0b1ed0-8181-4cc4-937f-2361fd4612f4\",\"type\":\"Grid\"},{\"id\":\"7901a0cd-a290-4b97-b0c6-8dcb589b7ae2\",\"type\":\"GlyphRenderer\"},{\"id\":\"7edc4fb6-aa3d-4d27-937b-c960bf5d871d\",\"type\":\"LabelSet\"}],\"title\":{\"id\":\"bb5c35c2-6244-48dc-9bea-5c96d070df69\",\"type\":\"Title\"},\"toolbar\":{\"id\":\"f655b8bc-13d0-4069-b3b4-6dc21f442e45\",\"type\":\"Toolbar\"},\"x_range\":{\"id\":\"6db121bf-8300-4414-83f9-7115e4abb6a5\",\"type\":\"DataRange1d\"},\"x_scale\":{\"id\":\"65706563-9307-435c-8746-12012932ba9b\",\"type\":\"LinearScale\"},\"y_range\":{\"id\":\"f8d41a93-6124-42b7-b635-9427f2c498e3\",\"type\":\"DataRange1d\"},\"y_scale\":{\"id\":\"eae72220-c6e3-48b8-886c-f0dd40224cbf\",\"type\":\"LinearScale\"}},\"id\":\"3faf1ff4-6302-4d9d-872f-f63245856f5a\",\"subtype\":\"Figure\",\"type\":\"Plot\"},{\"attributes\":{\"callback\":null},\"id\":\"f8d41a93-6124-42b7-b635-9427f2c498e3\",\"type\":\"DataRange1d\"},{\"attributes\":{\"callback\":null,\"column_names\":[\"x\",\"y\",\"desc\"],\"data\":{\"desc\":[\"<s>\",\"</s>\",\"<unk>\",\"the\",\",\",\".\",\"of\",\"and\",\"to\",\"a\",\"in\",\"that\",\"is\",\"was\",\"he\",\"for\",\"``\",\"''\",\"it\",\"with\",\"as\",\"his\",\"on\",\"be\",\";\",\"at\",\"by\",\"i\",\"this\",\"had\",\"?\",\"not\",\"are\",\"but\",\"from\",\"or\",\"have\",\"an\",\"they\",\"which\",\"--\",\"one\",\"you\",\"were\",\"her\",\"all\",\"she\",\"there\",\"would\",\"their\",\"we\",\"him\",\"been\",\")\",\"has\",\"(\",\"when\",\"who\",\"will\",\"more\",\"if\",\"no\",\"out\",\"DG\",\"so\",\"said\",\"DGDGDGDG\",\"DGDG\",\"what\",\"up\",\"its\",\"about\",\":\",\"into\",\"than\",\"them\",\"can\",\"only\",\"other\",\"new\",\"some\",\"could\",\"time\",\"!\",\"these\",\"two\",\"may\",\"then\",\"do\",\"first\",\"any\",\"my\",\"now\",\"such\",\"like\",\"our\",\"over\",\"man\",\"me\",\"even\",\"most\",\"made\",\"also\",\"after\",\"did\",\"many\",\"before\",\"must\",\"af\",\"through\",\"back\",\"years\",\"where\",\"much\",\"your\",\"way\",\"well\",\"down\",\"should\",\"because\",\"each\",\"just\",\"those\",\"people\",\"mr.\",\"too\",\"how\",\"little\",\"state\",\"good\",\"very\",\"make\",\"world\",\"still\",\"see\",\"own\",\"men\",\"work\",\"long\",\"here\",\"get\",\"both\",\"between\",\"life\",\"being\",\"under\",\"never\",\"day\",\"same\",\"another\",\"know\",\"while\",\"last\",\"us\",\"might\",\"great\",\"old\",\"year\",\"off\",\"come\",\"since\",\"against\",\"go\",\"DGDGDG\",\"came\",\"right\",\"used\",\"take\",\"three\",\"himself\",\"states\",\"few\",\"house\",\"use\",\"during\",\"without\",\"again\",\"place\",\"american\",\"around\",\"however\",\"home\",\"small\",\"found\",\"mrs.\",\"thought\",\"went\",\"say\",\"part\",\"once\",\"general\",\"high\",\"upon\",\"school\",\"every\",\"don't\",\"does\",\"got\",\"united\",\"left\",\"number\",\"course\",\"war\",\"until\",\"always\",\"away\",\"something\",\"fact\",\"water\",\"though\",\"public\",\"less\",\"put\",\"think\",\"almost\",\"hand\",\"enough\",\"took\",\"far\",\"head\",\"yet\",\"government\",\"system\",\"set\",\"better\",\"told\",\"night\",\"nothing\",\"end\",\"why\",\"didn't\",\"called\",\"eyes\",\"find\",\"going\",\"look\",\"asked\",\"later\",\"knew\",\"point\",\"next\",\"program\",\"city\",\"business\",\"group\",\"give\",\"toward\",\"young\",\"let\",\"days\",\"room\",\"president\",\"side\",\"social\",\"present\",\"given\",\"several\",\"order\",\"national\",\"possible\",\"rather\",\"second\",\"face\",\"per\",\"among\",\"form\",\"often\",\"important\",\"things\",\"looked\",\"early\",\"white\",\"john\",\"case\",\"large\",\"four\",\"need\",\"big\",\"become\",\"within\",\"felt\",\"children\",\"along\",\"saw\",\"best\",\"church\",\"ever\",\"least\",\"power\",\"development\",\"seemed\",\"thing\",\"light\",\"family\",\"interest\",\"want\",\"members\",\"mind\",\"area\",\"country\",\"others\",\"although\",\"turned\",\"done\",\"open\",\"'\",\"god\",\"service\",\"problem\",\"certain\",\"kind\",\"different\",\"thus\",\"began\",\"door\",\"help\",\"sense\",\"means\",\"whole\",\"matter\",\"perhaps\",\"itself\",\"york\",\"it's\",\"times\",\"law\",\"human\",\"line\",\"above\",\"name\",\"example\",\"action\",\"company\",\"hands\",\"local\",\"show\",\"whether\",\"five\",\"history\",\"gave\",\"today\",\"either\",\"act\",\"feet\",\"across\",\"taken\",\"past\",\"quite\",\"anything\",\"seen\",\"having\",\"death\",\"experience\",\"body\",\"week\",\"half\",\"really\",\"word\",\"field\",\"car\",\"words\",\"already\",\"themselves\",\"i'm\",\"information\",\"tell\",\"shall\",\"together\",\"college\",\"money\",\"period\",\"held\",\"keep\",\"sure\",\"probably\",\"free\",\"seems\",\"political\",\"real\",\"cannot\",\"behind\",\"question\",\"air\",\"office\",\"making\",\"brought\",\"miss\",\"whose\",\"special\",\"major\",\"heard\",\"problems\",\"federal\",\"became\",\"study\",\"ago\",\"moment\",\"available\",\"known\",\"result\",\"street\",\"economic\",\"boy\",\"position\",\"reason\",\"change\",\"south\",\"board\",\"individual\",\"job\",\"am\",\"society\",\"areas\",\"west\",\"close\",\"turn\",\"community\",\"true\",\"love\",\"court\",\"force\",\"full\",\"cost\",\"seem\",\"wife\",\"future\",\"age\",\"wanted\",\"voice\",\"department\",\"center\",\"woman\",\"control\",\"common\",\"policy\",\"necessary\",\"following\",\"front\",\"sometimes\",\"six\",\"girl\",\"clear\",\"further\",\"land\",\"provide\",\"feel\",\"party\",\"able\",\"mother\",\"music\",\"education\",\"university\",\"child\",\"effect\",\"students\",\"level\",\"run\",\"stood\",\"military\",\"town\",\"short\",\"morning\",\"total\",\"outside\",\"rate\",\"figure\",\"art\",\"century\",\"class\",\"washington\",\"north\",\"usually\",\"plan\",\"leave\",\"therefore\",\"evidence\",\"top\",\"million\",\"sound\",\"black\",\"strong\",\"hard\",\"tax\",\"various\",\"says\",\"believe\",\"type\",\"value\",\"play\",\"surface\",\"soon\",\"mean\",\"near\",\"lines\",\"table\",\"peace\",\"modern\",\"road\",\"red\",\"book\",\"personal\",\"process\",\"situation\",\"minutes\",\"increase\",\"schools\",\"idea\",\"english\",\"alone\",\"women\",\"gone\",\"nor\",\"living\",\"america\",\"started\",\"longer\",\"dr.\",\"cut\",\"finally\",\"secretary\",\"nature\",\"private\",\"third\",\"months\",\"section\",\"greater\",\"call\",\"fire\",\"expected\",\"needed\",\"that's\",\"kept\",\"ground\",\"view\",\"values\",\"everything\",\"pressure\",\"dark\",\"basis\",\"space\",\"east\",\"father\",\"required\",\"union\",\"spirit\",\"complete\",\"except\",\"wrote\",\"i'll\",\"moved\",\"support\",\"return\",\"conditions\",\"recent\",\"attention\",\"late\",\"particular\",\"live\",\"hope\",\"costs\",\"else\",\"brown\",\"taking\",\"couldn't\",\"forces\",\"nations\",\"beyond\",\"stage\",\"read\",\"report\",\"coming\",\"hours\",\"person\",\"inside\",\"dead\",\"material\",\"instead\",\"lost\",\"heart\",\"looking\",\"low\",\"miles\",\"data\",\"added\",\"pay\",\"amount\",\"followed\",\"feeling\",\"single\",\"makes\",\"research\",\"including\",\"basic\",\"hundred\",\"move\",\"industry\",\"cold\",\"simply\",\"developed\",\"tried\",\"hold\",\"can't\",\"reached\",\"committee\",\"island\",\"defense\",\"equipment\",\"actually\",\"shown\",\"son\",\"central\",\"religious\",\"river\",\"getting\",\"st.\",\"beginning\",\"sort\",\"ten\",\"received\",\"&\",\"doing\",\"terms\",\"trying\",\"rest\",\"medical\",\"u.s.\",\"care\",\"especially\",\"friends\",\"picture\",\"indeed\",\"administration\",\"fine\",\"subject\",\"difficult\",\"building\",\"higher\",\"wall\",\"simple\",\"meeting\",\"walked\",\"floor\",\"foreign\",\"bring\",\"similar\",\"passed\",\"range\",\"paper\",\"property\",\"natural\",\"final\",\"training\",\"county\",\"police\",\"cent\",\"international\",\"growth\",\"market\",\"wasn't\",\"talk\",\"start\",\"england\",\"written\",\"hear\",\"suddenly\",\"story\",\"issue\",\"congress\",\"needs\",\"answer\",\"hall\",\"likely\",\"working\",\"countries\",\"considered\",\"you're\",\"earth\",\"sat\",\"purpose\",\"meet\",\"labor\",\"results\",\"entire\",\"happened\",\"william\",\"cases\",\"stand\",\"difference\",\"production\",\"hair\",\"involved\",\"fall\",\"stock\",\"food\",\"earlier\",\"increased\",\"whom\",\"particularly\",\"paid\",\"sent\",\"effort\",\"knowledge\",\"hour\",\"letter\",\"club\",\"using\",\"below\",\"thinking\",\"yes\",\"christian\",\"blue\",\"ready\",\"bill\",\"deal\",\"points\",\"trade\",\"certainly\",\"ideas\",\"industrial\",\"square\",\"boys\",\"methods\",\"addition\",\"method\",\"bad\",\"due\",\"girls\",\"moral\",\"decided\",\"reading\",\"statement\",\"weeks\",\"neither\",\"nearly\",\"directly\",\"showed\",\"throughout\",\"according\",\"questions\",\"color\",\"kennedy\",\"anyone\",\"try\",\"services\",\"DG.DG\",\"programs\",\"nation\",\"lay\",\"french\",\"size\",\"remember\",\"physical\",\"record\",\"member\",\"comes\",\"understand\",\"southern\",\"western\",\"strength\",\"population\",\"normal\",\"merely\",\"district\",\"volume\",\"concerned\",\"appeared\",\"temperature\",\"aid\",\"trouble\",\"trial\",\"summer\",\"direction\",\"ran\",\"sales\",\"list\",\"continued\",\"friend\",\"evening\",\"maybe\",\"literature\",\"generally\",\"association\",\"provided\",\"led\",\"army\",\"met\",\"influence\",\"opened\",\"former\",\"science\",\"student\",\"step\",\"changes\",\"chance\",\"husband\",\"hot\",\"series\",\"average\",\"works\",\"month\",\"cause\",\"effective\",\"george\",\"planning\",\"systems\",\"wouldn't\",\"direct\",\"soviet\",\"stopped\",\"wrong\",\"lead\",\"myself\",\"piece\",\"theory\",\"ask\",\"worked\",\"freedom\",\"organization\",\"clearly\",\"movement\",\"ways\",\"press\",\"somewhat\",\"spring\",\"efforts\",\"consider\",\"meaning\",\"bed\",\"fear\",\"lot\",\"treatment\",\"beautiful\",\"note\",\"forms\",\"placed\",\"hotel\",\"truth\",\"apparently\",\"degree\",\"groups\",\"he's\",\"plant\",\"carried\",\"wide\",\"i've\",\"respect\",\"man's\",\"herself\",\"numbers\",\"manner\",\"$DGDGDG\",\"reaction\",\"easy\",\"farm\",\"immediately\",\"running\",\"approach\",\"game\",\"recently\",\"larger\",\"lower\",\"charge\",\"couple\",\"de\",\"daily\",\"eye\",\"performance\",\"feed\",\"oh\",\"march\",\"persons\",\"understanding\",\"arms\",\"opportunity\",\"c\",\"blood\",\"additional\",\"j.\",\"technical\",\"fiscal\",\"radio\",\"described\",\"stop\",\"progress\",\"steps\",\"test\",\"chief\",\"reported\",\"served\",\"based\",\"main\",\"determined\",\"image\",\"decision\",\"window\",\"religion\",\"aj\",\"gun\",\"responsibility\",\"middle\",\"europe\",\"british\",\"character\",\"learned\",\"horse\",\"writing\",\"appear\",\"s.\",\"account\",\"ones\",\"serious\",\"activity\",\"types\",\"green\",\"length\",\"lived\",\"audience\",\"letters\",\"returned\",\"obtained\",\"nuclear\",\"specific\",\"corner\",\"forward\",\"activities\",\"slowly\",\"doubt\",\"justice\",\"moving\",\"latter\",\"gives\",\"straight\",\"hit\",\"plane\",\"quality\",\"design\",\"obviously\",\"operation\",\"plans\",\"shot\",\"seven\",\"a.\",\"choice\",\"poor\",\"staff\",\"function\",\"figures\",\"parts\",\"stay\",\"saying\",\"include\",\"born\",\"pattern\",\"cars\",\"whatever\",\"sun\",\"faith\",\"DG:DGDG\",\"pool\",\"hospital\",\"corps\",\"wish\",\"lack\",\"completely\",\"heavy\",\"waiting\",\"speak\",\"ball\",\"standard\",\"extent\",\"visit\",\"democratic\",\"firm\",\"income\",\"ahead\",\"deep\",\"there's\",\"language\",\"principle\",\"none\",\"price\",\"designed\",\"indicated\",\"analysis\",\"distance\",\"expect\",\"established\",\"products\",\"effects\",\"growing\",\"importance\",\"continue\",\"serve\",\"determine\",\"cities\",\"elements\",\"negro\",\"leaders\",\"division\",\"pretty\"],\"x\":{\"__ndarray__\":\"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\",\"dtype\":\"float64\",\"shape\":[1000]},\"y\":{\"__ndarray__\":\"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\",\"dtype\":\"float64\",\"shape\":[1000]}}},\"id\":\"047c7d67-e7d9-4db0-b33f-658bce8aa4b0\",\"type\":\"ColumnDataSource\"},{\"attributes\":{\"plot\":null,\"text\":\"\"},\"id\":\"bb5c35c2-6244-48dc-9bea-5c96d070df69\",\"type\":\"Title\"},{\"attributes\":{\"active_drag\":\"auto\",\"active_inspect\":\"auto\",\"active_scroll\":{\"id\":\"f6895b4d-c156-4743-bb51-af9d73db22d8\",\"type\":\"WheelZoomTool\"},\"active_tap\":\"auto\",\"tools\":[{\"id\":\"1122bc55-310f-4f78-b216-02ad1492637c\",\"type\":\"HoverTool\"},{\"id\":\"f6895b4d-c156-4743-bb51-af9d73db22d8\",\"type\":\"WheelZoomTool\"},{\"id\":\"dadabc1f-4f46-4e49-b39c-36ef27d70e67\",\"type\":\"PanTool\"},{\"id\":\"165a1f2e-c46c-4b08-9a56-3502ad4b0f34\",\"type\":\"ResetTool\"}]},\"id\":\"f655b8bc-13d0-4069-b3b4-6dc21f442e45\",\"type\":\"Toolbar\"},{\"attributes\":{},\"id\":\"e3b27a04-7578-47d9-b178-ddfad5b34e5c\",\"type\":\"BasicTicker\"},{\"attributes\":{\"data_source\":{\"id\":\"047c7d67-e7d9-4db0-b33f-658bce8aa4b0\",\"type\":\"ColumnDataSource\"},\"glyph\":{\"id\":\"4dccc04d-0031-4674-b4a0-a55fd174aa57\",\"type\":\"Circle\"},\"hover_glyph\":null,\"muted_glyph\":null,\"nonselection_glyph\":{\"id\":\"558fb7b6-7fe4-4baf-82f8-79fa162da56a\",\"type\":\"Circle\"},\"selection_glyph\":null,\"view\":{\"id\":\"f622ef8e-7294-47af-a409-218f21bc68b9\",\"type\":\"CDSView\"}},\"id\":\"7901a0cd-a290-4b97-b0c6-8dcb589b7ae2\",\"type\":\"GlyphRenderer\"},{\"attributes\":{\"plot\":{\"id\":\"3faf1ff4-6302-4d9d-872f-f63245856f5a\",\"subtype\":\"Figure\",\"type\":\"Plot\"},\"source\":{\"id\":\"047c7d67-e7d9-4db0-b33f-658bce8aa4b0\",\"type\":\"ColumnDataSource\"},\"text\":{\"field\":\"desc\"},\"x\":{\"field\":\"x\"},\"x_offset\":{\"value\":2},\"y\":{\"field\":\"y\"},\"y_offset\":{\"value\":2}},\"id\":\"7edc4fb6-aa3d-4d27-937b-c960bf5d871d\",\"type\":\"LabelSet\"},{\"attributes\":{},\"id\":\"165a1f2e-c46c-4b08-9a56-3502ad4b0f34\",\"type\":\"ResetTool\"},{\"attributes\":{\"formatter\":{\"id\":\"be682200-67e0-46df-8c01-9a8885cab403\",\"type\":\"BasicTickFormatter\"},\"plot\":{\"id\":\"3faf1ff4-6302-4d9d-872f-f63245856f5a\",\"subtype\":\"Figure\",\"type\":\"Plot\"},\"ticker\":{\"id\":\"0dd3a6cc-302b-443e-ba01-cca81ca1d01f\",\"type\":\"BasicTicker\"}},\"id\":\"e7fdf9f9-3926-408e-93f6-feff28ec680a\",\"type\":\"LinearAxis\"},{\"attributes\":{\"formatter\":{\"id\":\"e9540446-3839-41ce-8243-5e604d660053\",\"type\":\"BasicTickFormatter\"},\"plot\":{\"id\":\"3faf1ff4-6302-4d9d-872f-f63245856f5a\",\"subtype\":\"Figure\",\"type\":\"Plot\"},\"ticker\":{\"id\":\"e3b27a04-7578-47d9-b178-ddfad5b34e5c\",\"type\":\"BasicTicker\"}},\"id\":\"8891b94b-5d12-4fac-8440-da2098ca67e0\",\"type\":\"LinearAxis\"},{\"attributes\":{\"plot\":{\"id\":\"3faf1ff4-6302-4d9d-872f-f63245856f5a\",\"subtype\":\"Figure\",\"type\":\"Plot\"},\"ticker\":{\"id\":\"0dd3a6cc-302b-443e-ba01-cca81ca1d01f\",\"type\":\"BasicTicker\"}},\"id\":\"4cd6deb6-05ff-47df-91a3-28f826988ff6\",\"type\":\"Grid\"},{\"attributes\":{\"dimension\":1,\"plot\":{\"id\":\"3faf1ff4-6302-4d9d-872f-f63245856f5a\",\"subtype\":\"Figure\",\"type\":\"Plot\"},\"ticker\":{\"id\":\"e3b27a04-7578-47d9-b178-ddfad5b34e5c\",\"type\":\"BasicTicker\"}},\"id\":\"3e0b1ed0-8181-4cc4-937f-2361fd4612f4\",\"type\":\"Grid\"},{\"attributes\":{},\"id\":\"eae72220-c6e3-48b8-886c-f0dd40224cbf\",\"type\":\"LinearScale\"},{\"attributes\":{},\"id\":\"e9540446-3839-41ce-8243-5e604d660053\",\"type\":\"BasicTickFormatter\"},{\"attributes\":{\"callback\":null},\"id\":\"6db121bf-8300-4414-83f9-7115e4abb6a5\",\"type\":\"DataRange1d\"},{\"attributes\":{\"fill_color\":{\"value\":\"#1f77b4\"},\"line_color\":{\"value\":\"#1f77b4\"},\"x\":{\"field\":\"x\"},\"y\":{\"field\":\"y\"}},\"id\":\"4dccc04d-0031-4674-b4a0-a55fd174aa57\",\"type\":\"Circle\"},{\"attributes\":{\"callback\":null,\"tooltips\":[[\"word\",\"@desc\"]]},\"id\":\"1122bc55-310f-4f78-b216-02ad1492637c\",\"type\":\"HoverTool\"},{\"attributes\":{},\"id\":\"dadabc1f-4f46-4e49-b39c-36ef27d70e67\",\"type\":\"PanTool\"}],\"root_ids\":[\"3faf1ff4-6302-4d9d-872f-f63245856f5a\"]},\"title\":\"Bokeh Application\",\"version\":\"0.12.13\"}};\n",
       "  var render_items = [{\"docid\":\"93bd06b3-4ef4-43ae-93dc-34c6ce5f3aa5\",\"elementid\":\"85f72cf9-1d84-4f5f-873d-dd5643b4d873\",\"modelid\":\"3faf1ff4-6302-4d9d-872f-f63245856f5a\"}];\n",
       "  root.Bokeh.embed.embed_items_notebook(docs_json, render_items);\n",
       "\n",
       "  }\n",
       "  if (root.Bokeh !== undefined) {\n",
       "    embed_document(root);\n",
       "  } else {\n",
       "    var attempts = 0;\n",
       "    var timer = setInterval(function(root) {\n",
       "      if (root.Bokeh !== undefined) {\n",
       "        embed_document(root);\n",
       "        clearInterval(timer);\n",
       "      }\n",
       "      attempts++;\n",
       "      if (attempts > 100) {\n",
       "        console.log(\"Bokeh: ERROR: Unable to run BokehJS code because BokehJS library is missing\")\n",
       "        clearInterval(timer);\n",
       "      }\n",
       "    }, 10, root)\n",
       "  }\n",
       "})(window);"
      ],
      "application/vnd.bokehjs_exec.v0+json": ""
     },
     "metadata": {
      "application/vnd.bokehjs_exec.v0+json": {
       "id": "3faf1ff4-6302-4d9d-872f-f63245856f5a"
      }
     },
     "output_type": "display_data"
    }
   ],
   "source": [
    "n = 1000\n",
    "\n",
    "hover = HoverTool(tooltips=[(\"word\", \"@desc\")])\n",
    "wztool = WheelZoomTool()\n",
    "fig = bp.figure(plot_width=600, plot_height=600, tools=[hover, wztool, 'pan', 'reset'])\n",
    "fig.toolbar.active_scroll = wztool\n",
    "df = bp.ColumnDataSource(dict(x=Wv[:n,0], y=Wv[:n,1], desc=vocab.ids_to_words(range(n))))\n",
    "fig.circle('x', 'y', source=df)\n",
    "fig.add_layout(LabelSet(x='x', y='y', text='desc', source=df,\n",
    "                        x_offset=2, y_offset=2))\n",
    "bp.show(fig)"
   ]
  },
  {
   "cell_type": "markdown",
   "metadata": {},
   "source": [
    "Unfortunately, this plot is quite limited. Pick a point and look at the words nearby - do they look related, either syntactically or semantically?\n",
    "\n",
    "Plotting two dimensions directly like this is equivalent to just doing the truncated SVD with $d=2$, which throws away quite a lot of information.\n",
    "\n",
    "## t-SNE\n",
    "\n",
    "To get a better sense of our embedding structure, we can use [t-SNE](https://en.wikipedia.org/wiki/T-distributed_stochastic_neighbor_embedding) instead. This is a *non*-linear way of embedding high-dimensional data (like our embedding vectors) into a low dimensional space. It works by preserving local distances (like nearby neighbors), at the expense of some global distortion.\n",
    "\n",
    "The result is no longer a projection, but because it preserves locality  t-SNE is a very useful took to look at **clusters**.\n",
    "\n",
    "To get our t-SNE visualization, we'll break out the big guns: the [TensorFlow Embedding Projector](https://www.tensorflow.org/how_tos/embedding_viz/). There's a bit of boilerplate needed to provide TensorFlow with the right metadata, so we've wrapped it in a helper library [`tf_embed_viz.py`](w266_common/tf_embed_viz.py). For now, just run the cell below.\n",
    "\n",
    "*Note: there's also a demo at http://projector.tensorflow.org/, pre-loaded with word2vec vectors.*"
   ]
  },
  {
   "cell_type": "code",
   "execution_count": 15,
   "metadata": {},
   "outputs": [
    {
     "name": "stdout",
     "output_type": "stream",
     "text": [
      "Vocabulary (48,174 words) written to '/tmp/week4_embeddings_viz/metadata.tsv'\n",
      "Saved 5000 x 25 embedding matrix 'WordVectors' to LOGDIR='/tmp/week4_embeddings_viz'\n",
      "To view, run:\n",
      "\n",
      "  tensorboard --logdir=\"/tmp/week4_embeddings_viz\"\n",
      "\n",
      "and navigate to the \"Embeddings\" tab in the web interface.\n"
     ]
    }
   ],
   "source": [
    "write_top_words = 5000\n",
    "\n",
    "LOGDIR=\"/tmp/week4_embeddings_viz\"\n",
    "if os.path.isdir(LOGDIR): shutil.rmtree(LOGDIR)  # remove old directory\n",
    "ev = tf_embed_viz.TFEmbeddingVizWrapper(LOGDIR=LOGDIR)\n",
    "ev.write_vocab_file(words=vocab.ids_to_words(range(Wv.shape[0])))\n",
    "ev.write_embeddings(Wv[:write_top_words])"
   ]
  },
  {
   "cell_type": "markdown",
   "metadata": {},
   "source": [
    "To view them in your browser, run TensorBoard with:\n",
    "```\n",
    "cd ~/w266/materials/embeddings\n",
    "tensorboard --logdir=\"tf_embedding_viz\" --port 6006\n",
    "```\n",
    "Then navigate to http://localhost:6006/, and go to the \"Embeddings\" tab. \n",
    "\n",
    "You can select either PCA, which will give a plot similar to the above, or to run t-SNE. The t-SNE mode computes t-SNE _in real time_ in your browser, so it can be slow on older machines. \n",
    "\n",
    "t-SNE is an iterative algorithm based on gradient descent, and the visualization will show the points move with each iteration. Watch carefully, and you should see the word cloud gradually develop a cluster structure!"
   ]
  },
  {
   "cell_type": "markdown",
   "metadata": {},
   "source": [
    "## (optional) Running t-SNE in-notebook\n",
    "\n",
    "We recommend using the TensorFlow projector, but you can also run t-SNE directly in the notebook, then plot the points with Plotly or another plotting library.\n",
    "\n",
    "Scikit-learn includes a t-SNE implementation in [`sklearn.manifold.TSNE`](http://scikit-learn.org/stable/modules/generated/sklearn.manifold.TSNE.html), but the implementation is slow and tends to crash by using too much (>4 GB) memory.\n",
    "\n",
    "Instead, we'll use the excellent [`bhtsne`](https://github.com/dominiek/python-bhtsne) package. Install with:\n",
    "```\n",
    "sudo apt-get install gcc g++\n",
    "pip install bhtsne\n",
    "```\n",
    "\n",
    "The cell below will take around 2-3 minutes to run on a 2 CPU Cloud Compute instance."
   ]
  },
  {
   "cell_type": "code",
   "execution_count": 16,
   "metadata": {},
   "outputs": [
    {
     "name": "stdout",
     "output_type": "stream",
     "text": [
      "Running Barnes-Hut t-SNE on word vectors; matrix shape = (48174, 25)\n",
      "Transformed in 0:01:28\n"
     ]
    }
   ],
   "source": [
    "import bhtsne\n",
    "\n",
    "n = 5000  # t-SNE is very slow, so restrict vocab size\n",
    "\n",
    "t0 = time.time()\n",
    "print(\"Running Barnes-Hut t-SNE on word vectors; matrix shape = {:s}\".format(str(Wv.shape)))\n",
    "Wv2 = bhtsne.tsne(Wv[:n])\n",
    "print(\"Transformed in {:s}\".format(utils.pretty_timedelta(since=t0)))"
   ]
  },
  {
   "cell_type": "code",
   "execution_count": 17,
   "metadata": {},
   "outputs": [
    {
     "data": {
      "text/html": [
       "\n",
       "<div class=\"bk-root\">\n",
       "    <div class=\"bk-plotdiv\" id=\"dac9a86a-631a-41b3-adba-10069d7854b5\"></div>\n",
       "</div>"
      ]
     },
     "metadata": {},
     "output_type": "display_data"
    },
    {
     "data": {
      "application/javascript": [
       "(function(root) {\n",
       "  function embed_document(root) {\n",
       "    \n",
       "  var docs_json = {\"5168d334-499c-4fcf-9277-775a5d44efad\":{\"roots\":{\"references\":[{\"attributes\":{},\"id\":\"7fdeb2ec-b1a2-4768-a926-322ec2b687b1\",\"type\":\"BasicTicker\"},{\"attributes\":{\"active_drag\":\"auto\",\"active_inspect\":\"auto\",\"active_scroll\":{\"id\":\"7f3a94fc-e2d9-4121-9ade-3695fbc8bd19\",\"type\":\"WheelZoomTool\"},\"active_tap\":\"auto\",\"tools\":[{\"id\":\"dee6f483-3523-4845-a82b-7db7a9cfcf09\",\"type\":\"HoverTool\"},{\"id\":\"7f3a94fc-e2d9-4121-9ade-3695fbc8bd19\",\"type\":\"WheelZoomTool\"},{\"id\":\"f8155dd2-af7b-4a80-8f96-acb9df5bca71\",\"type\":\"PanTool\"},{\"id\":\"94d1b99d-2400-41f1-9474-b58a51c6caef\",\"type\":\"ResetTool\"}]},\"id\":\"56902702-f046-4b7e-a8b6-380322eb9eac\",\"type\":\"Toolbar\"},{\"attributes\":{\"below\":[{\"id\":\"93bcda50-7cf5-4878-aaf7-5b3046270722\",\"type\":\"LinearAxis\"}],\"left\":[{\"id\":\"c9b2f350-0505-4d53-9e12-9ffdf27a807d\",\"type\":\"LinearAxis\"}],\"renderers\":[{\"id\":\"93bcda50-7cf5-4878-aaf7-5b3046270722\",\"type\":\"LinearAxis\"},{\"id\":\"95bc78cd-c9a1-41a9-96c6-a72cc1ef2675\",\"type\":\"Grid\"},{\"id\":\"c9b2f350-0505-4d53-9e12-9ffdf27a807d\",\"type\":\"LinearAxis\"},{\"id\":\"83b53713-02f9-44f5-92fb-1cbb0b303e97\",\"type\":\"Grid\"},{\"id\":\"f80ec837-d8e0-4b60-a0ba-f8989ea8d7ae\",\"type\":\"GlyphRenderer\"},{\"id\":\"a961e82b-5b88-4483-a0be-b267bf349d0a\",\"type\":\"LabelSet\"}],\"title\":{\"id\":\"ac219c58-dcb7-4e4a-b97f-d863696285ff\",\"type\":\"Title\"},\"toolbar\":{\"id\":\"56902702-f046-4b7e-a8b6-380322eb9eac\",\"type\":\"Toolbar\"},\"x_range\":{\"id\":\"6eaae6a7-f022-429b-9466-3fd210dff5f0\",\"type\":\"DataRange1d\"},\"x_scale\":{\"id\":\"50a9edd5-6d12-46fd-af24-c24a0dd28c2a\",\"type\":\"LinearScale\"},\"y_range\":{\"id\":\"062aaf3a-874a-4b05-906d-323f13e40f72\",\"type\":\"DataRange1d\"},\"y_scale\":{\"id\":\"7cf57ee3-2a23-4962-8b6b-8363d73aceb3\",\"type\":\"LinearScale\"}},\"id\":\"a09797bb-327e-463a-8d94-888e285917a8\",\"subtype\":\"Figure\",\"type\":\"Plot\"},{\"attributes\":{\"formatter\":{\"id\":\"9e7cef9d-b820-41be-8f52-c77da1ff44b5\",\"type\":\"BasicTickFormatter\"},\"plot\":{\"id\":\"a09797bb-327e-463a-8d94-888e285917a8\",\"subtype\":\"Figure\",\"type\":\"Plot\"},\"ticker\":{\"id\":\"06889e37-9575-47d9-95a7-5183900104d3\",\"type\":\"BasicTicker\"}},\"id\":\"c9b2f350-0505-4d53-9e12-9ffdf27a807d\",\"type\":\"LinearAxis\"},{\"attributes\":{\"plot\":{\"id\":\"a09797bb-327e-463a-8d94-888e285917a8\",\"subtype\":\"Figure\",\"type\":\"Plot\"},\"source\":{\"id\":\"52ca2777-40f9-41a3-ae4a-08fdcacbe3cc\",\"type\":\"ColumnDataSource\"},\"text\":{\"field\":\"desc\"},\"x\":{\"field\":\"x\"},\"x_offset\":{\"value\":2},\"y\":{\"field\":\"y\"},\"y_offset\":{\"value\":2}},\"id\":\"a961e82b-5b88-4483-a0be-b267bf349d0a\",\"type\":\"LabelSet\"},{\"attributes\":{},\"id\":\"06889e37-9575-47d9-95a7-5183900104d3\",\"type\":\"BasicTicker\"},{\"attributes\":{},\"id\":\"7f3a94fc-e2d9-4121-9ade-3695fbc8bd19\",\"type\":\"WheelZoomTool\"},{\"attributes\":{\"data_source\":{\"id\":\"52ca2777-40f9-41a3-ae4a-08fdcacbe3cc\",\"type\":\"ColumnDataSource\"},\"glyph\":{\"id\":\"7c001867-fb0b-4a15-bc65-fc6d3745a90d\",\"type\":\"Circle\"},\"hover_glyph\":null,\"muted_glyph\":null,\"nonselection_glyph\":{\"id\":\"af1b7144-f578-4a49-9e0b-4a70c1729251\",\"type\":\"Circle\"},\"selection_glyph\":null,\"view\":{\"id\":\"bbcc94a3-7ee8-44f2-87f9-6e6397832654\",\"type\":\"CDSView\"}},\"id\":\"f80ec837-d8e0-4b60-a0ba-f8989ea8d7ae\",\"type\":\"GlyphRenderer\"},{\"attributes\":{\"plot\":{\"id\":\"a09797bb-327e-463a-8d94-888e285917a8\",\"subtype\":\"Figure\",\"type\":\"Plot\"},\"ticker\":{\"id\":\"7fdeb2ec-b1a2-4768-a926-322ec2b687b1\",\"type\":\"BasicTicker\"}},\"id\":\"95bc78cd-c9a1-41a9-96c6-a72cc1ef2675\",\"type\":\"Grid\"},{\"attributes\":{\"plot\":null,\"text\":\"\"},\"id\":\"ac219c58-dcb7-4e4a-b97f-d863696285ff\",\"type\":\"Title\"},{\"attributes\":{\"fill_alpha\":{\"value\":0.1},\"fill_color\":{\"value\":\"#1f77b4\"},\"line_alpha\":{\"value\":0.1},\"line_color\":{\"value\":\"#1f77b4\"},\"x\":{\"field\":\"x\"},\"y\":{\"field\":\"y\"}},\"id\":\"af1b7144-f578-4a49-9e0b-4a70c1729251\",\"type\":\"Circle\"},{\"attributes\":{\"dimension\":1,\"plot\":{\"id\":\"a09797bb-327e-463a-8d94-888e285917a8\",\"subtype\":\"Figure\",\"type\":\"Plot\"},\"ticker\":{\"id\":\"06889e37-9575-47d9-95a7-5183900104d3\",\"type\":\"BasicTicker\"}},\"id\":\"83b53713-02f9-44f5-92fb-1cbb0b303e97\",\"type\":\"Grid\"},{\"attributes\":{\"formatter\":{\"id\":\"ad2b7a3d-01c6-4597-894c-7b6ff88ca3fc\",\"type\":\"BasicTickFormatter\"},\"plot\":{\"id\":\"a09797bb-327e-463a-8d94-888e285917a8\",\"subtype\":\"Figure\",\"type\":\"Plot\"},\"ticker\":{\"id\":\"7fdeb2ec-b1a2-4768-a926-322ec2b687b1\",\"type\":\"BasicTicker\"}},\"id\":\"93bcda50-7cf5-4878-aaf7-5b3046270722\",\"type\":\"LinearAxis\"},{\"attributes\":{},\"id\":\"9e7cef9d-b820-41be-8f52-c77da1ff44b5\",\"type\":\"BasicTickFormatter\"},{\"attributes\":{\"callback\":null},\"id\":\"6eaae6a7-f022-429b-9466-3fd210dff5f0\",\"type\":\"DataRange1d\"},{\"attributes\":{},\"id\":\"94d1b99d-2400-41f1-9474-b58a51c6caef\",\"type\":\"ResetTool\"},{\"attributes\":{\"fill_color\":{\"value\":\"#1f77b4\"},\"line_color\":{\"value\":\"#1f77b4\"},\"x\":{\"field\":\"x\"},\"y\":{\"field\":\"y\"}},\"id\":\"7c001867-fb0b-4a15-bc65-fc6d3745a90d\",\"type\":\"Circle\"},{\"attributes\":{},\"id\":\"ad2b7a3d-01c6-4597-894c-7b6ff88ca3fc\",\"type\":\"BasicTickFormatter\"},{\"attributes\":{},\"id\":\"7cf57ee3-2a23-4962-8b6b-8363d73aceb3\",\"type\":\"LinearScale\"},{\"attributes\":{\"callback\":null,\"column_names\":[\"x\",\"y\",\"desc\"],\"data\":{\"desc\":[\"<s>\",\"</s>\",\"<unk>\",\"the\",\",\",\".\",\"of\",\"and\",\"to\",\"a\",\"in\",\"that\",\"is\",\"was\",\"he\",\"for\",\"``\",\"''\",\"it\",\"with\",\"as\",\"his\",\"on\",\"be\",\";\",\"at\",\"by\",\"i\",\"this\",\"had\",\"?\",\"not\",\"are\",\"but\",\"from\",\"or\",\"have\",\"an\",\"they\",\"which\",\"--\",\"one\",\"you\",\"were\",\"her\",\"all\",\"she\",\"there\",\"would\",\"their\",\"we\",\"him\",\"been\",\")\",\"has\",\"(\",\"when\",\"who\",\"will\",\"more\",\"if\",\"no\",\"out\",\"DG\",\"so\",\"said\",\"DGDGDGDG\",\"DGDG\",\"what\",\"up\",\"its\",\"about\",\":\",\"into\",\"than\",\"them\",\"can\",\"only\",\"other\",\"new\",\"some\",\"could\",\"time\",\"!\",\"these\",\"two\",\"may\",\"then\",\"do\",\"first\",\"any\",\"my\",\"now\",\"such\",\"like\",\"our\",\"over\",\"man\",\"me\",\"even\",\"most\",\"made\",\"also\",\"after\",\"did\",\"many\",\"before\",\"must\",\"af\",\"through\",\"back\",\"years\",\"where\",\"much\",\"your\",\"way\",\"well\",\"down\",\"should\",\"because\",\"each\",\"just\",\"those\",\"people\",\"mr.\",\"too\",\"how\",\"little\",\"state\",\"good\",\"very\",\"make\",\"world\",\"still\",\"see\",\"own\",\"men\",\"work\",\"long\",\"here\",\"get\",\"both\",\"between\",\"life\",\"being\",\"under\",\"never\",\"day\",\"same\",\"another\",\"know\",\"while\",\"last\",\"us\",\"might\",\"great\",\"old\",\"year\",\"off\",\"come\",\"since\",\"against\",\"go\",\"DGDGDG\",\"came\",\"right\",\"used\",\"take\",\"three\",\"himself\",\"states\",\"few\",\"house\",\"use\",\"during\",\"without\",\"again\",\"place\",\"american\",\"around\",\"however\",\"home\",\"small\",\"found\",\"mrs.\",\"thought\",\"went\",\"say\",\"part\",\"once\",\"general\",\"high\",\"upon\",\"school\",\"every\",\"don't\",\"does\",\"got\",\"united\",\"left\",\"number\",\"course\",\"war\",\"until\",\"always\",\"away\",\"something\",\"fact\",\"water\",\"though\",\"public\",\"less\",\"put\",\"think\",\"almost\",\"hand\",\"enough\",\"took\",\"far\",\"head\",\"yet\",\"government\",\"system\",\"set\",\"better\",\"told\",\"night\",\"nothing\",\"end\",\"why\",\"didn't\",\"called\",\"eyes\",\"find\",\"going\",\"look\",\"asked\",\"later\",\"knew\",\"point\",\"next\",\"program\",\"city\",\"business\",\"group\",\"give\",\"toward\",\"young\",\"let\",\"days\",\"room\",\"president\",\"side\",\"social\",\"present\",\"given\",\"several\",\"order\",\"national\",\"possible\",\"rather\",\"second\",\"face\",\"per\",\"among\",\"form\",\"often\",\"important\",\"things\",\"looked\",\"early\",\"white\",\"john\",\"case\",\"large\",\"four\",\"need\",\"big\",\"become\",\"within\",\"felt\",\"children\",\"along\",\"saw\",\"best\",\"church\",\"ever\",\"least\",\"power\",\"development\",\"seemed\",\"thing\",\"light\",\"family\",\"interest\",\"want\",\"members\",\"mind\",\"area\",\"country\",\"others\",\"although\",\"turned\",\"done\",\"open\",\"'\",\"god\",\"service\",\"problem\",\"certain\",\"kind\",\"different\",\"thus\",\"began\",\"door\",\"help\",\"sense\",\"means\",\"whole\",\"matter\",\"perhaps\",\"itself\",\"york\",\"it's\",\"times\",\"law\",\"human\",\"line\",\"above\",\"name\",\"example\",\"action\",\"company\",\"hands\",\"local\",\"show\",\"whether\",\"five\",\"history\",\"gave\",\"today\",\"either\",\"act\",\"feet\",\"across\",\"taken\",\"past\",\"quite\",\"anything\",\"seen\",\"having\",\"death\",\"experience\",\"body\",\"week\",\"half\",\"really\",\"word\",\"field\",\"car\",\"words\",\"already\",\"themselves\",\"i'm\",\"information\",\"tell\",\"shall\",\"together\",\"college\",\"money\",\"period\",\"held\",\"keep\",\"sure\",\"probably\",\"free\",\"seems\",\"political\",\"real\",\"cannot\",\"behind\",\"question\",\"air\",\"office\",\"making\",\"brought\",\"miss\",\"whose\",\"special\",\"major\",\"heard\",\"problems\",\"federal\",\"became\",\"study\",\"ago\",\"moment\",\"available\",\"known\",\"result\",\"street\",\"economic\",\"boy\",\"position\",\"reason\",\"change\",\"south\",\"board\",\"individual\",\"job\",\"am\",\"society\",\"areas\",\"west\",\"close\",\"turn\",\"community\",\"true\",\"love\",\"court\",\"force\",\"full\",\"cost\",\"seem\",\"wife\",\"future\",\"age\",\"wanted\",\"voice\",\"department\",\"center\",\"woman\",\"control\",\"common\",\"policy\",\"necessary\",\"following\",\"front\",\"sometimes\",\"six\",\"girl\",\"clear\",\"further\",\"land\",\"provide\",\"feel\",\"party\",\"able\",\"mother\",\"music\",\"education\",\"university\",\"child\",\"effect\",\"students\",\"level\",\"run\",\"stood\",\"military\",\"town\",\"short\",\"morning\",\"total\",\"outside\",\"rate\",\"figure\",\"art\",\"century\",\"class\",\"washington\",\"north\",\"usually\",\"plan\",\"leave\",\"therefore\",\"evidence\",\"top\",\"million\",\"sound\",\"black\",\"strong\",\"hard\",\"tax\",\"various\",\"says\",\"believe\",\"type\",\"value\",\"play\",\"surface\",\"soon\",\"mean\",\"near\",\"lines\",\"table\",\"peace\",\"modern\",\"road\",\"red\",\"book\",\"personal\",\"process\",\"situation\",\"minutes\",\"increase\",\"schools\",\"idea\",\"english\",\"alone\",\"women\",\"gone\",\"nor\",\"living\",\"america\",\"started\",\"longer\",\"dr.\",\"cut\",\"finally\",\"secretary\",\"nature\",\"private\",\"third\",\"months\",\"section\",\"greater\",\"call\",\"fire\",\"expected\",\"needed\",\"that's\",\"kept\",\"ground\",\"view\",\"values\",\"everything\",\"pressure\",\"dark\",\"basis\",\"space\",\"east\",\"father\",\"required\",\"union\",\"spirit\",\"complete\",\"except\",\"wrote\",\"i'll\",\"moved\",\"support\",\"return\",\"conditions\",\"recent\",\"attention\",\"late\",\"particular\",\"live\",\"hope\",\"costs\",\"else\",\"brown\",\"taking\",\"couldn't\",\"forces\",\"nations\",\"beyond\",\"stage\",\"read\",\"report\",\"coming\",\"hours\",\"person\",\"inside\",\"dead\",\"material\",\"instead\",\"lost\",\"heart\",\"looking\",\"low\",\"miles\",\"data\",\"added\",\"pay\",\"amount\",\"followed\",\"feeling\",\"single\",\"makes\",\"research\",\"including\",\"basic\",\"hundred\",\"move\",\"industry\",\"cold\",\"simply\",\"developed\",\"tried\",\"hold\",\"can't\",\"reached\",\"committee\",\"island\",\"defense\",\"equipment\",\"actually\",\"shown\",\"son\",\"central\",\"religious\",\"river\",\"getting\",\"st.\",\"beginning\",\"sort\",\"ten\",\"received\",\"&\",\"doing\",\"terms\",\"trying\",\"rest\",\"medical\",\"u.s.\",\"care\",\"especially\",\"friends\",\"picture\",\"indeed\",\"administration\",\"fine\",\"subject\",\"difficult\",\"building\",\"higher\",\"wall\",\"simple\",\"meeting\",\"walked\",\"floor\",\"foreign\",\"bring\",\"similar\",\"passed\",\"range\",\"paper\",\"property\",\"natural\",\"final\",\"training\",\"county\",\"police\",\"cent\",\"international\",\"growth\",\"market\",\"wasn't\",\"talk\",\"start\",\"england\",\"written\",\"hear\",\"suddenly\",\"story\",\"issue\",\"congress\",\"needs\",\"answer\",\"hall\",\"likely\",\"working\",\"countries\",\"considered\",\"you're\",\"earth\",\"sat\",\"purpose\",\"meet\",\"labor\",\"results\",\"entire\",\"happened\",\"william\",\"cases\",\"stand\",\"difference\",\"production\",\"hair\",\"involved\",\"fall\",\"stock\",\"food\",\"earlier\",\"increased\",\"whom\",\"particularly\",\"paid\",\"sent\",\"effort\",\"knowledge\",\"hour\",\"letter\",\"club\",\"using\",\"below\",\"thinking\",\"yes\",\"christian\",\"blue\",\"ready\",\"bill\",\"deal\",\"points\",\"trade\",\"certainly\",\"ideas\",\"industrial\",\"square\",\"boys\",\"methods\",\"addition\",\"method\",\"bad\",\"due\",\"girls\",\"moral\",\"decided\",\"reading\",\"statement\",\"weeks\",\"neither\",\"nearly\",\"directly\",\"showed\",\"throughout\",\"according\",\"questions\",\"color\",\"kennedy\",\"anyone\",\"try\",\"services\",\"DG.DG\",\"programs\",\"nation\",\"lay\",\"french\",\"size\",\"remember\",\"physical\",\"record\",\"member\",\"comes\",\"understand\",\"southern\",\"western\",\"strength\",\"population\",\"normal\",\"merely\",\"district\",\"volume\",\"concerned\",\"appeared\",\"temperature\",\"aid\",\"trouble\",\"trial\",\"summer\",\"direction\",\"ran\",\"sales\",\"list\",\"continued\",\"friend\",\"evening\",\"maybe\",\"literature\",\"generally\",\"association\",\"provided\",\"led\",\"army\",\"met\",\"influence\",\"opened\",\"former\",\"science\",\"student\",\"step\",\"changes\",\"chance\",\"husband\",\"hot\",\"series\",\"average\",\"works\",\"month\",\"cause\",\"effective\",\"george\",\"planning\",\"systems\",\"wouldn't\",\"direct\",\"soviet\",\"stopped\",\"wrong\",\"lead\",\"myself\",\"piece\",\"theory\",\"ask\",\"worked\",\"freedom\",\"organization\",\"clearly\",\"movement\",\"ways\",\"press\",\"somewhat\",\"spring\",\"efforts\",\"consider\",\"meaning\",\"bed\",\"fear\",\"lot\",\"treatment\",\"beautiful\",\"note\",\"forms\",\"placed\",\"hotel\",\"truth\",\"apparently\",\"degree\",\"groups\",\"he's\",\"plant\",\"carried\",\"wide\",\"i've\",\"respect\",\"man's\",\"herself\",\"numbers\",\"manner\",\"$DGDGDG\",\"reaction\",\"easy\",\"farm\",\"immediately\",\"running\",\"approach\",\"game\",\"recently\",\"larger\",\"lower\",\"charge\",\"couple\",\"de\",\"daily\",\"eye\",\"performance\",\"feed\",\"oh\",\"march\",\"persons\",\"understanding\",\"arms\",\"opportunity\",\"c\",\"blood\",\"additional\",\"j.\",\"technical\",\"fiscal\",\"radio\",\"described\",\"stop\",\"progress\",\"steps\",\"test\",\"chief\",\"reported\",\"served\",\"based\",\"main\",\"determined\",\"image\",\"decision\",\"window\",\"religion\",\"aj\",\"gun\",\"responsibility\",\"middle\",\"europe\",\"british\",\"character\",\"learned\",\"horse\",\"writing\",\"appear\",\"s.\",\"account\",\"ones\",\"serious\",\"activity\",\"types\",\"green\",\"length\",\"lived\",\"audience\",\"letters\",\"returned\",\"obtained\",\"nuclear\",\"specific\",\"corner\",\"forward\",\"activities\",\"slowly\",\"doubt\",\"justice\",\"moving\",\"latter\",\"gives\",\"straight\",\"hit\",\"plane\",\"quality\",\"design\",\"obviously\",\"operation\",\"plans\",\"shot\",\"seven\",\"a.\",\"choice\",\"poor\",\"staff\",\"function\",\"figures\",\"parts\",\"stay\",\"saying\",\"include\",\"born\",\"pattern\",\"cars\",\"whatever\",\"sun\",\"faith\",\"DG:DGDG\",\"pool\",\"hospital\",\"corps\",\"wish\",\"lack\",\"completely\",\"heavy\",\"waiting\",\"speak\",\"ball\",\"standard\",\"extent\",\"visit\",\"democratic\",\"firm\",\"income\",\"ahead\",\"deep\",\"there's\",\"language\",\"principle\",\"none\",\"price\",\"designed\",\"indicated\",\"analysis\",\"distance\",\"expect\",\"established\",\"products\",\"effects\",\"growing\",\"importance\",\"continue\",\"serve\",\"determine\",\"cities\",\"elements\",\"negro\",\"leaders\",\"division\",\"pretty\"],\"x\":{\"__ndarray__\":\"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\",\"dtype\":\"float64\",\"shape\":[1000]},\"y\":{\"__ndarray__\":\"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\",\"dtype\":\"float64\",\"shape\":[1000]}}},\"id\":\"52ca2777-40f9-41a3-ae4a-08fdcacbe3cc\",\"type\":\"ColumnDataSource\"},{\"attributes\":{\"callback\":null},\"id\":\"062aaf3a-874a-4b05-906d-323f13e40f72\",\"type\":\"DataRange1d\"},{\"attributes\":{\"callback\":null,\"tooltips\":[[\"word\",\"@desc\"]]},\"id\":\"dee6f483-3523-4845-a82b-7db7a9cfcf09\",\"type\":\"HoverTool\"},{\"attributes\":{\"source\":{\"id\":\"52ca2777-40f9-41a3-ae4a-08fdcacbe3cc\",\"type\":\"ColumnDataSource\"}},\"id\":\"bbcc94a3-7ee8-44f2-87f9-6e6397832654\",\"type\":\"CDSView\"},{\"attributes\":{},\"id\":\"f8155dd2-af7b-4a80-8f96-acb9df5bca71\",\"type\":\"PanTool\"},{\"attributes\":{},\"id\":\"50a9edd5-6d12-46fd-af24-c24a0dd28c2a\",\"type\":\"LinearScale\"}],\"root_ids\":[\"a09797bb-327e-463a-8d94-888e285917a8\"]},\"title\":\"Bokeh Application\",\"version\":\"0.12.13\"}};\n",
       "  var render_items = [{\"docid\":\"5168d334-499c-4fcf-9277-775a5d44efad\",\"elementid\":\"dac9a86a-631a-41b3-adba-10069d7854b5\",\"modelid\":\"a09797bb-327e-463a-8d94-888e285917a8\"}];\n",
       "  root.Bokeh.embed.embed_items_notebook(docs_json, render_items);\n",
       "\n",
       "  }\n",
       "  if (root.Bokeh !== undefined) {\n",
       "    embed_document(root);\n",
       "  } else {\n",
       "    var attempts = 0;\n",
       "    var timer = setInterval(function(root) {\n",
       "      if (root.Bokeh !== undefined) {\n",
       "        embed_document(root);\n",
       "        clearInterval(timer);\n",
       "      }\n",
       "      attempts++;\n",
       "      if (attempts > 100) {\n",
       "        console.log(\"Bokeh: ERROR: Unable to run BokehJS code because BokehJS library is missing\")\n",
       "        clearInterval(timer);\n",
       "      }\n",
       "    }, 10, root)\n",
       "  }\n",
       "})(window);"
      ],
      "application/vnd.bokehjs_exec.v0+json": ""
     },
     "metadata": {
      "application/vnd.bokehjs_exec.v0+json": {
       "id": "a09797bb-327e-463a-8d94-888e285917a8"
      }
     },
     "output_type": "display_data"
    }
   ],
   "source": [
    "n = 1000\n",
    "\n",
    "hover = HoverTool(tooltips=[(\"word\", \"@desc\")])\n",
    "wztool = WheelZoomTool()\n",
    "fig = bp.figure(plot_width=600, plot_height=600, tools=[hover, wztool, 'pan', 'reset'])\n",
    "fig.toolbar.active_scroll = wztool\n",
    "df = bp.ColumnDataSource(dict(x=Wv2[:n,0], y=Wv2[:n,1], desc=vocab.ids_to_words(range(n))))\n",
    "fig.circle('x', 'y', source=df)\n",
    "fig.add_layout(LabelSet(x='x', y='y', text='desc', source=df,\n",
    "                        x_offset=2, y_offset=2))\n",
    "bp.show(fig)"
   ]
  },
  {
   "cell_type": "code",
   "execution_count": null,
   "metadata": {
    "collapsed": true
   },
   "outputs": [],
   "source": []
  }
 ],
 "metadata": {
  "anaconda-cloud": {},
  "kernelspec": {
   "display_name": "Python 3",
   "language": "python",
   "name": "python3"
  },
  "language_info": {
   "codemirror_mode": {
    "name": "ipython",
    "version": 3
   },
   "file_extension": ".py",
   "mimetype": "text/x-python",
   "name": "python",
   "nbconvert_exporter": "python",
   "pygments_lexer": "ipython3",
   "version": "3.6.3"
  }
 },
 "nbformat": 4,
 "nbformat_minor": 1
}
