{
 "cells": [
  {
   "cell_type": "markdown",
   "metadata": {},
   "source": [
    "# Part 1: Compositionality with Math"
   ]
  },
  {
   "cell_type": "markdown",
   "metadata": {},
   "source": [
    "Compositional semantics is the study of how to construct the meaning of complex phrases and sentences from their component parts."
   ]
  },
  {
   "cell_type": "markdown",
   "metadata": {},
   "source": [
    "Before moving into language, we will start with the following simple example from math: What is the meaning of the following sentence?\n",
    "\n",
    "**two plus three times five equals seventeen**"
   ]
  },
  {
   "cell_type": "markdown",
   "metadata": {},
   "source": [
    "To start off, the easiest things to deal with in this sentence are the numbers. For example, the meaning of \"three\" is the number 3. We indicate this by writing [[three]] = 3, where the double brackets are used to represent the meaning of whatever is contained in the brackets. Run the following cell to store this meaning of the word \"three\" in this notebook's memory:"
   ]
  },
  {
   "cell_type": "code",
   "execution_count": 1,
   "metadata": {},
   "outputs": [
    {
     "data": {
      "text/html": [
       "$[\\![\\mathbf{\\text{three}}]\\!]^{}_{n} \\:=\\: $${3}$"
      ],
      "text/latex": [
       "$[\\![\\mathbf{\\text{three}}]\\!]^{}_{n} \\:=\\: $${3}$"
      ],
      "text/plain": [
       "$[\\![\\mathbf{\\text{three}}]\\!]^{}_{n} \\:=\\: $${3}$"
      ]
     },
     "execution_count": 1,
     "metadata": {},
     "output_type": "execute_result"
    }
   ],
   "source": [
    "%%lamb\n",
    "||three|| = 3"
   ]
  },
  {
   "cell_type": "markdown",
   "metadata": {},
   "source": [
    "Now replace the question marks with the proper meanings for the remaining relevant numbers:"
   ]
  },
  {
   "cell_type": "code",
   "execution_count": 2,
   "metadata": {},
   "outputs": [
    {
     "data": {
      "text/html": [
       "$[\\![\\mathbf{\\text{two}}]\\!]^{}_{n} \\:=\\: $${2}$<br />\n",
       "$[\\![\\mathbf{\\text{five}}]\\!]^{}_{n} \\:=\\: $${5}$<br />\n",
       "$[\\![\\mathbf{\\text{seventeen}}]\\!]^{}_{n} \\:=\\: $${17}$"
      ],
      "text/latex": [
       "$[\\![\\mathbf{\\text{two}}]\\!]^{}_{n} \\:=\\: $${2}$<br />\n",
       "$[\\![\\mathbf{\\text{five}}]\\!]^{}_{n} \\:=\\: $${5}$<br />\n",
       "$[\\![\\mathbf{\\text{seventeen}}]\\!]^{}_{n} \\:=\\: $${17}$"
      ],
      "text/plain": [
       "$[\\![\\mathbf{\\text{two}}]\\!]^{}_{n} \\:=\\: $${2}$<br />\n",
       "$[\\![\\mathbf{\\text{five}}]\\!]^{}_{n} \\:=\\: $${5}$<br />\n",
       "$[\\![\\mathbf{\\text{seventeen}}]\\!]^{}_{n} \\:=\\: $${17}$"
      ]
     },
     "execution_count": 2,
     "metadata": {},
     "output_type": "execute_result"
    }
   ],
   "source": [
    "%%lamb\n",
    "||two|| = 2\n",
    "||five|| = 5\n",
    "||seventeen|| = 17"
   ]
  },
  {
   "cell_type": "markdown",
   "metadata": {},
   "source": [
    "Now we come to a somewhat harder question: What is the meaning of \"times\"? It's pretty easy to tell what the meaning of \"three times five\" should be, namely 15. However, in the semantics framework we are using, you may only combine two words at a time, whereas \"three times five\" contains three words. Therefore, we need to find some way to build up the phrase \"three times five\" from smaller units. \n",
    "\n",
    "We will do this by first creating a meaning for just the phrase \"times five.\" What can \"times five\" mean? Well, we know that when we insert \"three\" we get \"three times five\", so we can think of \"times five\" as being a function that takes an argument (in this case 3) and multiplies it by 5. It is easy to write such a function in Python:"
   ]
  },
  {
   "cell_type": "code",
   "execution_count": 3,
   "metadata": {},
   "outputs": [],
   "source": [
    "def times_five(x):\n",
    "    return x * 5"
   ]
  },
  {
   "cell_type": "code",
   "execution_count": 4,
   "metadata": {},
   "outputs": [
    {
     "data": {
      "text/plain": [
       "15"
      ]
     },
     "execution_count": 4,
     "metadata": {},
     "output_type": "execute_result"
    }
   ],
   "source": [
    "times_five(3) # This should give 15"
   ]
  },
  {
   "cell_type": "markdown",
   "metadata": {},
   "source": [
    "Equivalently, the Python function can be written with a lambda expression as follows:"
   ]
  },
  {
   "cell_type": "code",
   "execution_count": 5,
   "metadata": {},
   "outputs": [
    {
     "data": {
      "text/plain": [
       "15"
      ]
     },
     "execution_count": 5,
     "metadata": {},
     "output_type": "execute_result"
    }
   ],
   "source": [
    "(lambda x: x * 5)(3)"
   ]
  },
  {
   "cell_type": "markdown",
   "metadata": {},
   "source": [
    "The first component of that line (lambda x: x \\* 5) defines a function, which takes x as its argument and returns x\\*5. Then the 3 in parentheses is an argument that has been passed to this function, and the result of passing this argument is 15."
   ]
  },
  {
   "cell_type": "markdown",
   "metadata": {},
   "source": [
    "Now we can ask again what \"times\" should mean. Since \"times five\" should give us something like the Python function (lambda x: x \\* 5), we want \"times\" to give us something that, when given 5 as an argument, returns (lambda x: x \\* 5). To accomplish this, we can simply add in another lambda layer as follows:\n",
    "(lambda y: (lambda x: x \\* y))\n",
    "When this function is given 5 as an argument, the outer lambda layer is evaluated, and the value that is returned is the function (lambda x: x \\* 5), which is the same as out times_five function from before. And if you then pass 3 as an argument to this output function, you should get 15 as before, as demonstrated in the following cell:"
   ]
  },
  {
   "cell_type": "code",
   "execution_count": 6,
   "metadata": {},
   "outputs": [
    {
     "data": {
      "text/plain": [
       "15"
      ]
     },
     "execution_count": 6,
     "metadata": {},
     "output_type": "execute_result"
    }
   ],
   "source": [
    "(lambda y: (lambda x: x* y))(5)(3)"
   ]
  },
  {
   "cell_type": "markdown",
   "metadata": {},
   "source": [
    "Therefore, we now can write the meaning for \"times\" using this lambda notation (the subscript $n$ indicates that $x$ and $y$ are of type number):"
   ]
  },
  {
   "cell_type": "code",
   "execution_count": 7,
   "metadata": {},
   "outputs": [
    {
     "data": {
      "text/html": [
       "$[\\![\\mathbf{\\text{times}}]\\!]^{}_{\\left\\langle{}n,\\left\\langle{}n,n\\right\\rangle{}\\right\\rangle{}} \\:=\\: $$\\lambda{} y_{n} \\: . \\: \\lambda{} x_{n} \\: . \\: ({x} * {y})$"
      ],
      "text/latex": [
       "$[\\![\\mathbf{\\text{times}}]\\!]^{}_{\\left\\langle{}n,\\left\\langle{}n,n\\right\\rangle{}\\right\\rangle{}} \\:=\\: $$\\lambda{} y_{n} \\: . \\: \\lambda{} x_{n} \\: . \\: ({x} * {y})$"
      ],
      "text/plain": [
       "$[\\![\\mathbf{\\text{times}}]\\!]^{}_{\\left\\langle{}n,\\left\\langle{}n,n\\right\\rangle{}\\right\\rangle{}} \\:=\\: $$\\lambda{} y_{n} \\: . \\: \\lambda{} x_{n} \\: . \\: ({x} * {y})$"
      ]
     },
     "execution_count": 7,
     "metadata": {},
     "output_type": "execute_result"
    }
   ],
   "source": [
    "%%lamb\n",
    "||times|| = L y_n : L x_n : x * y"
   ]
  },
  {
   "cell_type": "markdown",
   "metadata": {},
   "source": [
    "Now we can compose together \"times\" and \"five\" to get the meaning of \"times five\". In our notation, we use the \"\\*\" symbol to compose together the meanings of two words:"
   ]
  },
  {
   "cell_type": "code",
   "execution_count": 8,
   "metadata": {},
   "outputs": [
    {
     "data": {
      "text/html": [
       "1 composition path.  Result:\n",
       "<br />&nbsp;&nbsp;&nbsp;&nbsp;[0]: $[\\![\\mathbf{\\text{[times five]}}]\\!]^{}_{\\left\\langle{}n,n\\right\\rangle{}} \\:=\\: $$\\lambda{} x_{n} \\: . \\: ({x} * {5})$"
      ],
      "text/plain": [
       "CompositionResult(results=[⟦[times five]⟧ = (λ x_n: (x_n * 5_n))], failures=[⟦[five times]⟧ = Type mismatch: '⟦five⟧ = 5_n'/n and '⟦times⟧ = (λ y_n: (λ x_n: (x_n * y_n)))'/<n,<n,n>> conflict (mode: Function Application), ⟦[times five]⟧ = Type mismatch: '⟦times⟧ = (λ y_n: (λ x_n: (x_n * y_n)))'/<n,<n,n>> and '⟦five⟧ = 5_n'/n conflict (mode: Predicate Modification), ⟦[times five]⟧ = Type mismatch: '⟦times⟧ = (λ y_n: (λ x_n: (x_n * y_n)))'/<n,<n,n>> and '⟦five⟧ = 5_n'/n conflict (mode: Predicate Abstraction), ⟦[five times]⟧ = Type mismatch: '⟦five⟧ = 5_n'/n and '⟦times⟧ = (λ y_n: (λ x_n: (x_n * y_n)))'/<n,<n,n>> conflict (mode: Predicate Abstraction)])"
      ]
     },
     "execution_count": 8,
     "metadata": {},
     "output_type": "execute_result"
    }
   ],
   "source": [
    "times * five"
   ]
  },
  {
   "cell_type": "markdown",
   "metadata": {},
   "source": [
    "The output should tell you that the meaning of \"times five\" is a function that takes an argument $x$ and returns $x * 5$. The meaning of \"three times five\" should also behave as expected:"
   ]
  },
  {
   "cell_type": "code",
   "execution_count": 9,
   "metadata": {},
   "outputs": [
    {
     "data": {
      "text/html": [
       "1 composition path.  Result:\n",
       "<br />&nbsp;&nbsp;&nbsp;&nbsp;[0]: $[\\![\\mathbf{\\text{[[times five] three]}}]\\!]^{}_{n} \\:=\\: $${15}$"
      ],
      "text/plain": [
       "CompositionResult(results=[⟦[[times five] three]⟧ = 15_n], failures=[⟦[three [times five]]⟧ = Type mismatch: '⟦three⟧ = 3_n'/n and '⟦[times five]⟧ = (λ x_n: (x_n * 5_n))'/<n,n> conflict (mode: Function Application), ⟦[three [times five]]⟧ = Type mismatch: '⟦three⟧ = 3_n'/n and '⟦[times five]⟧ = (λ x_n: (x_n * 5_n))'/<n,n> conflict (mode: Predicate Modification), ⟦[three [times five]]⟧ = Type mismatch: '⟦three⟧ = 3_n'/n and '⟦[times five]⟧ = (λ x_n: (x_n * 5_n))'/<n,n> conflict (mode: Predicate Abstraction), ⟦[[times five] three]⟧ = Type mismatch: '⟦[times five]⟧ = (λ x_n: (x_n * 5_n))'/<n,n> and '⟦three⟧ = 3_n'/n conflict (mode: Predicate Abstraction)])"
      ]
     },
     "execution_count": 9,
     "metadata": {},
     "output_type": "execute_result"
    }
   ],
   "source": [
    "three * (times * five)"
   ]
  },
  {
   "cell_type": "markdown",
   "metadata": {},
   "source": [
    "In the cell below, fill in the proper meaning for \"plus\""
   ]
  },
  {
   "cell_type": "code",
   "execution_count": 10,
   "metadata": {},
   "outputs": [
    {
     "data": {
      "text/html": [
       "$[\\![\\mathbf{\\text{plus}}]\\!]^{}_{\\left\\langle{}n,\\left\\langle{}n,n\\right\\rangle{}\\right\\rangle{}} \\:=\\: $$\\lambda{} y_{n} \\: . \\: \\lambda{} x_{n} \\: . \\: ({x} + {y})$"
      ],
      "text/latex": [
       "$[\\![\\mathbf{\\text{plus}}]\\!]^{}_{\\left\\langle{}n,\\left\\langle{}n,n\\right\\rangle{}\\right\\rangle{}} \\:=\\: $$\\lambda{} y_{n} \\: . \\: \\lambda{} x_{n} \\: . \\: ({x} + {y})$"
      ],
      "text/plain": [
       "$[\\![\\mathbf{\\text{plus}}]\\!]^{}_{\\left\\langle{}n,\\left\\langle{}n,n\\right\\rangle{}\\right\\rangle{}} \\:=\\: $$\\lambda{} y_{n} \\: . \\: \\lambda{} x_{n} \\: . \\: ({x} + {y})$"
      ]
     },
     "execution_count": 10,
     "metadata": {},
     "output_type": "execute_result"
    }
   ],
   "source": [
    "%%lamb\n",
    "||plus|| = L y_n : L x_n : x + y"
   ]
  },
  {
   "cell_type": "markdown",
   "metadata": {},
   "source": [
    "Finally, we just need to define \"equals\" (in this notation, you have to use \"<=>\" for equality):"
   ]
  },
  {
   "cell_type": "code",
   "execution_count": 11,
   "metadata": {},
   "outputs": [
    {
     "data": {
      "text/html": [
       "$[\\![\\mathbf{\\text{equals}}]\\!]^{}_{\\left\\langle{}n,\\left\\langle{}n,t\\right\\rangle{}\\right\\rangle{}} \\:=\\: $$\\lambda{} y_{n} \\: . \\: \\lambda{} x_{n} \\: . \\: ({x} = {y})$"
      ],
      "text/latex": [
       "$[\\![\\mathbf{\\text{equals}}]\\!]^{}_{\\left\\langle{}n,\\left\\langle{}n,t\\right\\rangle{}\\right\\rangle{}} \\:=\\: $$\\lambda{} y_{n} \\: . \\: \\lambda{} x_{n} \\: . \\: ({x} = {y})$"
      ],
      "text/plain": [
       "$[\\![\\mathbf{\\text{equals}}]\\!]^{}_{\\left\\langle{}n,\\left\\langle{}n,t\\right\\rangle{}\\right\\rangle{}} \\:=\\: $$\\lambda{} y_{n} \\: . \\: \\lambda{} x_{n} \\: . \\: ({x} = {y})$"
      ]
     },
     "execution_count": 11,
     "metadata": {},
     "output_type": "execute_result"
    }
   ],
   "source": [
    "%%lamb\n",
    "||equals|| = L y_n : L x_n : x <=> y"
   ]
  },
  {
   "cell_type": "markdown",
   "metadata": {},
   "source": [
    "Now we can evaluate the meaning of our entire original equation. The equation is true, so the expression will evaluate as True."
   ]
  },
  {
   "cell_type": "code",
   "execution_count": 12,
   "metadata": {},
   "outputs": [
    {
     "data": {
      "text/html": [
       "1 composition path.  Result:\n",
       "<br />&nbsp;&nbsp;&nbsp;&nbsp;[0]: $[\\![\\mathbf{\\text{[[equals seventeen] [[plus [[times five] three]] two]]}}]\\!]^{}_{t} \\:=\\: $${True}_{t}$"
      ],
      "text/plain": [
       "CompositionResult(results=[⟦[[equals seventeen] [[plus [[times five] three]] two]]⟧ = True_t], failures=[⟦[[[plus [[times five] three]] two] [equals seventeen]]⟧ = Type mismatch: '⟦[[plus [[times five] three]] two]⟧ = 17_n'/n and '⟦[equals seventeen]⟧ = (λ x_n: (x_n <=> 17_n))'/<n,t> conflict (mode: Function Application), ⟦[[[plus [[times five] three]] two] [equals seventeen]]⟧ = Type mismatch: '⟦[[plus [[times five] three]] two]⟧ = 17_n'/n and '⟦[equals seventeen]⟧ = (λ x_n: (x_n <=> 17_n))'/<n,t> conflict (mode: Predicate Modification), ⟦[[[plus [[times five] three]] two] [equals seventeen]]⟧ = Type mismatch: '⟦[[plus [[times five] three]] two]⟧ = 17_n'/n and '⟦[equals seventeen]⟧ = (λ x_n: (x_n <=> 17_n))'/<n,t> conflict (mode: Predicate Abstraction), ⟦[[equals seventeen] [[plus [[times five] three]] two]]⟧ = Type mismatch: '⟦[equals seventeen]⟧ = (λ x_n: (x_n <=> 17_n))'/<n,t> and '⟦[[plus [[times five] three]] two]⟧ = 17_n'/n conflict (mode: Predicate Abstraction)])"
      ]
     },
     "execution_count": 12,
     "metadata": {},
     "output_type": "execute_result"
    }
   ],
   "source": [
    "((two * (plus * (three * (times * five)))) * (equals * seventeen))"
   ]
  },
  {
   "cell_type": "code",
   "execution_count": null,
   "metadata": {},
   "outputs": [],
   "source": []
  },
  {
   "cell_type": "markdown",
   "metadata": {},
   "source": [
    "# Part 2: Compositionality with Language"
   ]
  },
  {
   "cell_type": "markdown",
   "metadata": {},
   "source": [
    "### a. Proper nouns"
   ]
  },
  {
   "cell_type": "markdown",
   "metadata": {},
   "source": [
    "Now that we've sorted out numbers, we can extend the formalism to the more interesting case of natural language. The linguistic components with the simplest meanings are proper nouns; much as number words have numbers as their meanings, proper nouns have entities in the real world as their meanings. For example, the meaning of \"John\" is the person John (shown here with a subscript $e$ because John is an entity):"
   ]
  },
  {
   "cell_type": "code",
   "execution_count": 13,
   "metadata": {},
   "outputs": [
    {
     "data": {
      "text/html": [
       "$[\\![\\mathbf{\\text{John}}]\\!]^{}_{e} \\:=\\: $${John}_{e}$"
      ],
      "text/latex": [
       "$[\\![\\mathbf{\\text{John}}]\\!]^{}_{e} \\:=\\: $${John}_{e}$"
      ],
      "text/plain": [
       "$[\\![\\mathbf{\\text{John}}]\\!]^{}_{e} \\:=\\: $${John}_{e}$"
      ]
     },
     "execution_count": 13,
     "metadata": {},
     "output_type": "execute_result"
    }
   ],
   "source": [
    "%%lamb\n",
    "||John|| = John_e"
   ]
  },
  {
   "cell_type": "markdown",
   "metadata": {},
   "source": [
    "### b. Verbs"
   ]
  },
  {
   "cell_type": "markdown",
   "metadata": {},
   "source": [
    "Next up are verbs. We will think of verbs as functions that take entities as their arguments and return either true or false depending on whether the verb applies to that argument. In pseudocode, we might write this sort of function as follows:\n",
    "\n",
    "`\n",
    "def Walked(x):\n",
    "    if x walked:\n",
    "        return True\n",
    "    if x did not walk:\n",
    "        return False\n",
    "`\n",
    "\n",
    "In our notation, we would write the meaning of \"walked\" as follows:"
   ]
  },
  {
   "cell_type": "code",
   "execution_count": 14,
   "metadata": {},
   "outputs": [
    {
     "name": "stdout",
     "output_type": "stream",
     "text": [
      "INFO (meta): Coerced guessed type for 'Walked_t' into <e,t>, to match argument 'x_e'\n"
     ]
    },
    {
     "data": {
      "text/html": [
       "$[\\![\\mathbf{\\text{walked}}]\\!]^{}_{\\left\\langle{}e,t\\right\\rangle{}} \\:=\\: $$\\lambda{} x_{e} \\: . \\: {Walked}({x})$"
      ],
      "text/latex": [
       "$[\\![\\mathbf{\\text{walked}}]\\!]^{}_{\\left\\langle{}e,t\\right\\rangle{}} \\:=\\: $$\\lambda{} x_{e} \\: . \\: {Walked}({x})$"
      ],
      "text/plain": [
       "$[\\![\\mathbf{\\text{walked}}]\\!]^{}_{\\left\\langle{}e,t\\right\\rangle{}} \\:=\\: $$\\lambda{} x_{e} \\: . \\: {Walked}({x})$"
      ]
     },
     "execution_count": 14,
     "metadata": {},
     "output_type": "execute_result"
    }
   ],
   "source": [
    "%%lamb\n",
    "||walked|| = L x: Walked(x)"
   ]
  },
  {
   "cell_type": "markdown",
   "metadata": {},
   "source": [
    "We can now compute the meaning of the short sentence \"John walked\":"
   ]
  },
  {
   "cell_type": "code",
   "execution_count": 15,
   "metadata": {},
   "outputs": [
    {
     "data": {
      "text/html": [
       "1 composition path.  Result:\n",
       "<br />&nbsp;&nbsp;&nbsp;&nbsp;[0]: $[\\![\\mathbf{\\text{[walked John]}}]\\!]^{}_{t} \\:=\\: $${Walked}({John}_{e})$"
      ],
      "text/plain": [
       "CompositionResult(results=[⟦[walked John]⟧ = Walked_<e,t>(John_e)], failures=[⟦[John walked]⟧ = Type mismatch: '⟦John⟧ = John_e'/e and '⟦walked⟧ = (λ x_e: Walked_<e,t>(x_e))'/<e,t> conflict (mode: Function Application), ⟦[John walked]⟧ = Type mismatch: '⟦John⟧ = John_e'/e and '⟦walked⟧ = (λ x_e: Walked_<e,t>(x_e))'/<e,t> conflict (mode: Predicate Modification), ⟦[John walked]⟧ = Type mismatch: '⟦John⟧ = John_e'/e and '⟦walked⟧ = (λ x_e: Walked_<e,t>(x_e))'/<e,t> conflict (mode: Predicate Abstraction), ⟦[walked John]⟧ = Type mismatch: '⟦walked⟧ = (λ x_e: Walked_<e,t>(x_e))'/<e,t> and '⟦John⟧ = John_e'/e conflict (mode: Predicate Abstraction)])"
      ]
     },
     "execution_count": 15,
     "metadata": {},
     "output_type": "execute_result"
    }
   ],
   "source": [
    "John * walked"
   ]
  },
  {
   "cell_type": "markdown",
   "metadata": {},
   "source": [
    "In semantics terminology, the meaning of the sentence \"John walked\" is the proposition \"Walked(John)\", which is evaluated as true if John did indeed walk or false otherwise. A proposition is simply some claim about the state of the world. For example, in this case, \"Walked(John)\" is making the claim that the world is such that John walked."
   ]
  },
  {
   "cell_type": "markdown",
   "metadata": {},
   "source": [
    "### c. Common nouns"
   ]
  },
  {
   "cell_type": "markdown",
   "metadata": {},
   "source": [
    "We've dealt with proper nouns (such as \"John\"), but what about regular nouns, like \"dog\"? Whereas \"John\" refers to a specific entity in the world, \"dog\" refers to a more general class of things. It turns out that we can think of nouns (like verbs) as denoting propositions. For example, the sentence we would say that [[John is a dog]] = dog(John). To allow this sort of interpretation, we will give \"dog\" the following meaning:"
   ]
  },
  {
   "cell_type": "code",
   "execution_count": 16,
   "metadata": {},
   "outputs": [
    {
     "name": "stdout",
     "output_type": "stream",
     "text": [
      "INFO (meta): Coerced guessed type for 'Dog_t' into <e,t>, to match argument 'x_e'\n"
     ]
    },
    {
     "data": {
      "text/html": [
       "$[\\![\\mathbf{\\text{dog}}]\\!]^{}_{\\left\\langle{}e,t\\right\\rangle{}} \\:=\\: $$\\lambda{} x_{e} \\: . \\: {Dog}({x})$"
      ],
      "text/latex": [
       "$[\\![\\mathbf{\\text{dog}}]\\!]^{}_{\\left\\langle{}e,t\\right\\rangle{}} \\:=\\: $$\\lambda{} x_{e} \\: . \\: {Dog}({x})$"
      ],
      "text/plain": [
       "$[\\![\\mathbf{\\text{dog}}]\\!]^{}_{\\left\\langle{}e,t\\right\\rangle{}} \\:=\\: $$\\lambda{} x_{e} \\: . \\: {Dog}({x})$"
      ]
     },
     "execution_count": 16,
     "metadata": {},
     "output_type": "execute_result"
    }
   ],
   "source": [
    "%%lamb\n",
    "||dog|| = L x: Dog(x)"
   ]
  },
  {
   "cell_type": "markdown",
   "metadata": {},
   "source": [
    "Even though \"dog\" does not refer to a specific entity, the phrase \"the dog\" does refer to a specific entity - namely, whichever dog is currently most relevant to the conversation. To facilitate this, we give the following definition for \"the\", where $\\iota x$ means \"the unique conversationally relevant entity x\" (that symbol is the Greek letter iota):"
   ]
  },
  {
   "cell_type": "code",
   "execution_count": 17,
   "metadata": {},
   "outputs": [
    {
     "data": {
      "text/html": [
       "$[\\![\\mathbf{\\text{the}}]\\!]^{}_{\\left\\langle{}\\left\\langle{}e,t\\right\\rangle{},e\\right\\rangle{}} \\:=\\: $$\\lambda{} f_{\\left\\langle{}e,t\\right\\rangle{}} \\: . \\: \\iota{} x_{e} \\: . \\: {f}({x})$"
      ],
      "text/latex": [
       "$[\\![\\mathbf{\\text{the}}]\\!]^{}_{\\left\\langle{}\\left\\langle{}e,t\\right\\rangle{},e\\right\\rangle{}} \\:=\\: $$\\lambda{} f_{\\left\\langle{}e,t\\right\\rangle{}} \\: . \\: \\iota{} x_{e} \\: . \\: {f}({x})$"
      ],
      "text/plain": [
       "$[\\![\\mathbf{\\text{the}}]\\!]^{}_{\\left\\langle{}\\left\\langle{}e,t\\right\\rangle{},e\\right\\rangle{}} \\:=\\: $$\\lambda{} f_{\\left\\langle{}e,t\\right\\rangle{}} \\: . \\: \\iota{} x_{e} \\: . \\: {f}({x})$"
      ]
     },
     "execution_count": 17,
     "metadata": {},
     "output_type": "execute_result"
    }
   ],
   "source": [
    "%%lamb\n",
    "||the|| = L f_<e,t> : Iota x_e : f(x) "
   ]
  },
  {
   "cell_type": "markdown",
   "metadata": {},
   "source": [
    "Thus, for example, we can view the meaning of \"the dog\" as follows, where the output of the cell should be read as \"the unique conversationally relevant entity x such that x is a dog\":"
   ]
  },
  {
   "cell_type": "code",
   "execution_count": 18,
   "metadata": {},
   "outputs": [
    {
     "data": {
      "text/html": [
       "1 composition path.  Result:\n",
       "<br />&nbsp;&nbsp;&nbsp;&nbsp;[0]: $[\\![\\mathbf{\\text{[the dog]}}]\\!]^{}_{e} \\:=\\: $$\\iota{} x_{e} \\: . \\: {Dog}({x})$"
      ],
      "text/plain": [
       "CompositionResult(results=[⟦[the dog]⟧ = (ι x_e: Dog_<e,t>(x_e))], failures=[⟦[dog the]⟧ = Type mismatch: '⟦dog⟧ = (λ x_e: Dog_<e,t>(x_e))'/<e,t> and '⟦the⟧ = (λ f_<e,t>: (ι x_e: f_<e,t>(x_e)))'/<<e,t>,e> conflict (mode: Function Application), ⟦[the dog]⟧ = Type mismatch: '⟦the⟧ = (λ f_<e,t>: (ι x_e: f_<e,t>(x_e)))'/<<e,t>,e> and '⟦dog⟧ = (λ x_e: Dog_<e,t>(x_e))'/<e,t> conflict (mode: Predicate Modification), ⟦[the dog]⟧ = Type mismatch: '⟦the⟧ = (λ f_<e,t>: (ι x_e: f_<e,t>(x_e)))'/<<e,t>,e> and '⟦dog⟧ = (λ x_e: Dog_<e,t>(x_e))'/<e,t> conflict (mode: Predicate Abstraction), ⟦[dog the]⟧ = Type mismatch: '⟦dog⟧ = (λ x_e: Dog_<e,t>(x_e))'/<e,t> and '⟦the⟧ = (λ f_<e,t>: (ι x_e: f_<e,t>(x_e)))'/<<e,t>,e> conflict (mode: Predicate Abstraction)])"
      ]
     },
     "execution_count": 18,
     "metadata": {},
     "output_type": "execute_result"
    }
   ],
   "source": [
    "the * dog"
   ]
  },
  {
   "cell_type": "markdown",
   "metadata": {},
   "source": [
    "### d. Transitive verbs"
   ]
  },
  {
   "cell_type": "markdown",
   "metadata": {},
   "source": [
    "Try running the following cell:"
   ]
  },
  {
   "cell_type": "code",
   "execution_count": 19,
   "metadata": {},
   "outputs": [
    {
     "data": {
      "text/html": [
       "Composition failed.  Attempts:<br />\n",
       "&nbsp;&nbsp;&nbsp;&nbsp;<span style=\"color:red\">Type mismatch</span>: '$[\\![\\mathbf{\\text{John}}]\\!]^{}_{e} \\:=\\: $${John}_{e}$'/$e$ and '$[\\![\\mathbf{\\text{[walked [the dog]]}}]\\!]^{}_{t} \\:=\\: $${Walked}(\\iota{} x_{e} \\: . \\: {Dog}({x}))$'/$t$ conflict (mode: Function Application)<br />\n",
       "&nbsp;&nbsp;&nbsp;&nbsp;<span style=\"color:red\">Type mismatch</span>: '$[\\![\\mathbf{\\text{[walked [the dog]]}}]\\!]^{}_{t} \\:=\\: $${Walked}(\\iota{} x_{e} \\: . \\: {Dog}({x}))$'/$t$ and '$[\\![\\mathbf{\\text{John}}]\\!]^{}_{e} \\:=\\: $${John}_{e}$'/$e$ conflict (mode: Function Application)<br />\n",
       "&nbsp;&nbsp;&nbsp;&nbsp;<span style=\"color:red\">Type mismatch</span>: '$[\\![\\mathbf{\\text{John}}]\\!]^{}_{e} \\:=\\: $${John}_{e}$'/$e$ and '$[\\![\\mathbf{\\text{[walked [the dog]]}}]\\!]^{}_{t} \\:=\\: $${Walked}(\\iota{} x_{e} \\: . \\: {Dog}({x}))$'/$t$ conflict (mode: Predicate Modification)<br />\n",
       "&nbsp;&nbsp;&nbsp;&nbsp;<span style=\"color:red\">Type mismatch</span>: '$[\\![\\mathbf{\\text{John}}]\\!]^{}_{e} \\:=\\: $${John}_{e}$'/$e$ and '$[\\![\\mathbf{\\text{[walked [the dog]]}}]\\!]^{}_{t} \\:=\\: $${Walked}(\\iota{} x_{e} \\: . \\: {Dog}({x}))$'/$t$ conflict (mode: Predicate Abstraction)<br />\n",
       "&nbsp;&nbsp;&nbsp;&nbsp;<span style=\"color:red\">Type mismatch</span>: '$[\\![\\mathbf{\\text{[walked [the dog]]}}]\\!]^{}_{t} \\:=\\: $${Walked}(\\iota{} x_{e} \\: . \\: {Dog}({x}))$'/$t$ and '$[\\![\\mathbf{\\text{John}}]\\!]^{}_{e} \\:=\\: $${John}_{e}$'/$e$ conflict (mode: Predicate Abstraction)<br />\n"
      ],
      "text/plain": [
       "CompositionResult(results=[], failures=[⟦[John [walked [the dog]]]⟧ = Type mismatch: '⟦John⟧ = John_e'/e and '⟦[walked [the dog]]⟧ = Walked_<e,t>((ι x_e: Dog_<e,t>(x_e)))'/t conflict (mode: Function Application), ⟦[[walked [the dog]] John]⟧ = Type mismatch: '⟦[walked [the dog]]⟧ = Walked_<e,t>((ι x_e: Dog_<e,t>(x_e)))'/t and '⟦John⟧ = John_e'/e conflict (mode: Function Application), ⟦[John [walked [the dog]]]⟧ = Type mismatch: '⟦John⟧ = John_e'/e and '⟦[walked [the dog]]⟧ = Walked_<e,t>((ι x_e: Dog_<e,t>(x_e)))'/t conflict (mode: Predicate Modification), ⟦[John [walked [the dog]]]⟧ = Type mismatch: '⟦John⟧ = John_e'/e and '⟦[walked [the dog]]⟧ = Walked_<e,t>((ι x_e: Dog_<e,t>(x_e)))'/t conflict (mode: Predicate Abstraction), ⟦[[walked [the dog]] John]⟧ = Type mismatch: '⟦[walked [the dog]]⟧ = Walked_<e,t>((ι x_e: Dog_<e,t>(x_e)))'/t and '⟦John⟧ = John_e'/e conflict (mode: Predicate Abstraction)])"
      ]
     },
     "execution_count": 19,
     "metadata": {},
     "output_type": "execute_result"
    }
   ],
   "source": [
    "John * (walked * (the * dog))"
   ]
  },
  {
   "cell_type": "markdown",
   "metadata": {},
   "source": [
    "You should have gotten an error. This is because, when we defined \"walked\" above, we did not allow it to have a direct object; it was a function that only took one argument (its subject). Therefore, when we tried to give it two arguments as in the above cell, we got an error. To fix this, we'll need to create a second definition of \"walked\" where it is transitive. Think back to how we defined \"times\" as a two-layer lambda function; transitive verbs are handled similarly."
   ]
  },
  {
   "cell_type": "code",
   "execution_count": 20,
   "metadata": {},
   "outputs": [
    {
     "name": "stdout",
     "output_type": "stream",
     "text": [
      "INFO (meta): Coerced guessed type for 'Walked2_t' into <(e,e),t>, to match argument '(x_e, y_e)'\n"
     ]
    },
    {
     "data": {
      "text/html": [
       "$[\\![\\mathbf{\\text{walked2}}]\\!]^{}_{\\left\\langle{}e,\\left\\langle{}e,t\\right\\rangle{}\\right\\rangle{}} \\:=\\: $$\\lambda{} y_{e} \\: . \\: \\lambda{} x_{e} \\: . \\: {Walked2}({x}, {y})$"
      ],
      "text/latex": [
       "$[\\![\\mathbf{\\text{walked2}}]\\!]^{}_{\\left\\langle{}e,\\left\\langle{}e,t\\right\\rangle{}\\right\\rangle{}} \\:=\\: $$\\lambda{} y_{e} \\: . \\: \\lambda{} x_{e} \\: . \\: {Walked2}({x}, {y})$"
      ],
      "text/plain": [
       "$[\\![\\mathbf{\\text{walked2}}]\\!]^{}_{\\left\\langle{}e,\\left\\langle{}e,t\\right\\rangle{}\\right\\rangle{}} \\:=\\: $$\\lambda{} y_{e} \\: . \\: \\lambda{} x_{e} \\: . \\: {Walked2}({x}, {y})$"
      ]
     },
     "execution_count": 20,
     "metadata": {},
     "output_type": "execute_result"
    }
   ],
   "source": [
    "%%lamb\n",
    "||walked2|| = L y: L x: Walked2(x,y)"
   ]
  },
  {
   "cell_type": "markdown",
   "metadata": {},
   "source": [
    "Now we can get the meaning for \"John walked the dog\" without an error:"
   ]
  },
  {
   "cell_type": "code",
   "execution_count": 21,
   "metadata": {},
   "outputs": [
    {
     "data": {
      "text/html": [
       "1 composition path.  Result:\n",
       "<br />&nbsp;&nbsp;&nbsp;&nbsp;[0]: $[\\![\\mathbf{\\text{[[walked2 [the dog]] John]}}]\\!]^{}_{t} \\:=\\: $${Walked2}({John}_{e}, \\iota{} x_{e} \\: . \\: {Dog}({x}))$"
      ],
      "text/plain": [
       "CompositionResult(results=[⟦[[walked2 [the dog]] John]⟧ = Walked2_<(e,e),t>(John_e, (ι x_e: Dog_<e,t>(x_e)))], failures=[⟦[John [walked2 [the dog]]]⟧ = Type mismatch: '⟦John⟧ = John_e'/e and '⟦[walked2 [the dog]]⟧ = (λ x_e: Walked2_<(e,e),t>(x_e, (ι x_e: Dog_<e,t>(x_e))))'/<e,t> conflict (mode: Function Application), ⟦[John [walked2 [the dog]]]⟧ = Type mismatch: '⟦John⟧ = John_e'/e and '⟦[walked2 [the dog]]⟧ = (λ x_e: Walked2_<(e,e),t>(x_e, (ι x_e: Dog_<e,t>(x_e))))'/<e,t> conflict (mode: Predicate Modification), ⟦[John [walked2 [the dog]]]⟧ = Type mismatch: '⟦John⟧ = John_e'/e and '⟦[walked2 [the dog]]⟧ = (λ x_e: Walked2_<(e,e),t>(x_e, (ι x_e: Dog_<e,t>(x_e))))'/<e,t> conflict (mode: Predicate Abstraction), ⟦[[walked2 [the dog]] John]⟧ = Type mismatch: '⟦[walked2 [the dog]]⟧ = (λ x_e: Walked2_<(e,e),t>(x_e, (ι x_e: Dog_<e,t>(x_e))))'/<e,t> and '⟦John⟧ = John_e'/e conflict (mode: Predicate Abstraction)])"
      ]
     },
     "execution_count": 21,
     "metadata": {},
     "output_type": "execute_result"
    }
   ],
   "source": [
    "John * (walked2 * (the * dog))"
   ]
  },
  {
   "cell_type": "markdown",
   "metadata": {},
   "source": [
    "### e. Prepositional phrases"
   ]
  },
  {
   "cell_type": "markdown",
   "metadata": {},
   "source": [
    "So far, most of the meanings we've built up may have seemed pretty obvious. But it becomes more interesting when we add in modifiers. For example, what should the meaning of \"the dog near John\" be? With just \"the dog\", we had the meaning $\\iota$x . Dog(x), but now we want to add in the fact that the dog is near John. We would represent this as $\\iota$x . Dog(x) $\\wedge$ Near(x, John) (to be read as \"the unique conversationally relevant entity x such that x is a dog and x is near John\"; the $\\wedge$ symbol means \"and). In the cell below, we give a definition for \"near\" that accomplishes this:"
   ]
  },
  {
   "cell_type": "code",
   "execution_count": 22,
   "metadata": {},
   "outputs": [
    {
     "name": "stdout",
     "output_type": "stream",
     "text": [
      "INFO (meta): Coerced guessed type for 'Near_t' into <(e,e),t>, to match argument '(x_e, z_e)'\n"
     ]
    },
    {
     "data": {
      "text/html": [
       "$[\\![\\mathbf{\\text{near}}]\\!]^{}_{\\left\\langle{}e,\\left\\langle{}\\left\\langle{}e,t\\right\\rangle{},\\left\\langle{}e,t\\right\\rangle{}\\right\\rangle{}\\right\\rangle{}} \\:=\\: $$\\lambda{} z_{e} \\: . \\: \\lambda{} y_{\\left\\langle{}e,t\\right\\rangle{}} \\: . \\: \\lambda{} x_{e} \\: . \\: ({y}({x}) \\wedge{} {Near}({x}, {z}))$"
      ],
      "text/latex": [
       "$[\\![\\mathbf{\\text{near}}]\\!]^{}_{\\left\\langle{}e,\\left\\langle{}\\left\\langle{}e,t\\right\\rangle{},\\left\\langle{}e,t\\right\\rangle{}\\right\\rangle{}\\right\\rangle{}} \\:=\\: $$\\lambda{} z_{e} \\: . \\: \\lambda{} y_{\\left\\langle{}e,t\\right\\rangle{}} \\: . \\: \\lambda{} x_{e} \\: . \\: ({y}({x}) \\wedge{} {Near}({x}, {z}))$"
      ],
      "text/plain": [
       "$[\\![\\mathbf{\\text{near}}]\\!]^{}_{\\left\\langle{}e,\\left\\langle{}\\left\\langle{}e,t\\right\\rangle{},\\left\\langle{}e,t\\right\\rangle{}\\right\\rangle{}\\right\\rangle{}} \\:=\\: $$\\lambda{} z_{e} \\: . \\: \\lambda{} y_{\\left\\langle{}e,t\\right\\rangle{}} \\: . \\: \\lambda{} x_{e} \\: . \\: ({y}({x}) \\wedge{} {Near}({x}, {z}))$"
      ]
     },
     "execution_count": 22,
     "metadata": {},
     "output_type": "execute_result"
    }
   ],
   "source": [
    "%%lamb\n",
    "||near|| = L z: L y_<e,t>: L x: y(x) & Near(x, z)"
   ]
  },
  {
   "cell_type": "code",
   "execution_count": 23,
   "metadata": {},
   "outputs": [
    {
     "data": {
      "text/html": [
       "1 composition path.  Result:\n",
       "<br />&nbsp;&nbsp;&nbsp;&nbsp;[0]: $[\\![\\mathbf{\\text{[the [[near John] dog]]}}]\\!]^{}_{e} \\:=\\: $$\\iota{} x_{e} \\: . \\: ({Dog}({x}) \\wedge{} {Near}({x}, {John}_{e}))$"
      ],
      "text/plain": [
       "CompositionResult(results=[⟦[the [[near John] dog]]⟧ = (ι x_e: (Dog_<e,t>(x_e) & Near_<(e,e),t>(x_e, John_e)))], failures=[⟦[[[near John] dog] the]⟧ = Type mismatch: '⟦[[near John] dog]⟧ = (λ x_e: (Dog_<e,t>(x_e) & Near_<(e,e),t>(x_e, John_e)))'/<e,t> and '⟦the⟧ = (λ f_<e,t>: (ι x_e: f_<e,t>(x_e)))'/<<e,t>,e> conflict (mode: Function Application), ⟦[the [[near John] dog]]⟧ = Type mismatch: '⟦the⟧ = (λ f_<e,t>: (ι x_e: f_<e,t>(x_e)))'/<<e,t>,e> and '⟦[[near John] dog]⟧ = (λ x_e: (Dog_<e,t>(x_e) & Near_<(e,e),t>(x_e, John_e)))'/<e,t> conflict (mode: Predicate Modification), ⟦[the [[near John] dog]]⟧ = Type mismatch: '⟦the⟧ = (λ f_<e,t>: (ι x_e: f_<e,t>(x_e)))'/<<e,t>,e> and '⟦[[near John] dog]⟧ = (λ x_e: (Dog_<e,t>(x_e) & Near_<(e,e),t>(x_e, John_e)))'/<e,t> conflict (mode: Predicate Abstraction), ⟦[[[near John] dog] the]⟧ = Type mismatch: '⟦[[near John] dog]⟧ = (λ x_e: (Dog_<e,t>(x_e) & Near_<(e,e),t>(x_e, John_e)))'/<e,t> and '⟦the⟧ = (λ f_<e,t>: (ι x_e: f_<e,t>(x_e)))'/<<e,t>,e> conflict (mode: Predicate Abstraction)])"
      ]
     },
     "execution_count": 23,
     "metadata": {},
     "output_type": "execute_result"
    }
   ],
   "source": [
    "the * (dog * (near * John))"
   ]
  },
  {
   "cell_type": "markdown",
   "metadata": {},
   "source": [
    "Here are a few more words; fill in the relevant meanings:"
   ]
  },
  {
   "cell_type": "code",
   "execution_count": 24,
   "metadata": {},
   "outputs": [
    {
     "name": "stdout",
     "output_type": "stream",
     "text": [
      "INFO (meta): Coerced guessed type for 'Inside_t' into <(e,e),t>, to match argument '(x_e, z_e)'\n",
      "INFO (meta): Coerced guessed type for 'On_t' into <(e,e),t>, to match argument '(x_e, z_e)'\n",
      "INFO (meta): Coerced guessed type for 'Sandwich_t' into <e,t>, to match argument 'x_e'\n",
      "INFO (meta): Coerced guessed type for 'House_t' into <e,t>, to match argument 'x_e'\n",
      "INFO (meta): Coerced guessed type for 'Table_t' into <e,t>, to match argument 'x_e'\n"
     ]
    },
    {
     "data": {
      "text/html": [
       "$[\\![\\mathbf{\\text{inside}}]\\!]^{}_{\\left\\langle{}e,\\left\\langle{}\\left\\langle{}e,t\\right\\rangle{},\\left\\langle{}e,t\\right\\rangle{}\\right\\rangle{}\\right\\rangle{}} \\:=\\: $$\\lambda{} z_{e} \\: . \\: \\lambda{} y_{\\left\\langle{}e,t\\right\\rangle{}} \\: . \\: \\lambda{} x_{e} \\: . \\: ({y}({x}) \\wedge{} {Inside}({x}, {z}))$<br />\n",
       "$[\\![\\mathbf{\\text{on}}]\\!]^{}_{\\left\\langle{}e,\\left\\langle{}\\left\\langle{}e,t\\right\\rangle{},\\left\\langle{}e,t\\right\\rangle{}\\right\\rangle{}\\right\\rangle{}} \\:=\\: $$\\lambda{} z_{e} \\: . \\: \\lambda{} y_{\\left\\langle{}e,t\\right\\rangle{}} \\: . \\: \\lambda{} x_{e} \\: . \\: ({y}({x}) \\wedge{} {On}({x}, {z}))$<br />\n",
       "$[\\![\\mathbf{\\text{sandwich}}]\\!]^{}_{\\left\\langle{}e,t\\right\\rangle{}} \\:=\\: $$\\lambda{} x_{e} \\: . \\: {Sandwich}({x})$<br />\n",
       "$[\\![\\mathbf{\\text{house}}]\\!]^{}_{\\left\\langle{}e,t\\right\\rangle{}} \\:=\\: $$\\lambda{} x_{e} \\: . \\: {House}({x})$<br />\n",
       "$[\\![\\mathbf{\\text{table}}]\\!]^{}_{\\left\\langle{}e,t\\right\\rangle{}} \\:=\\: $$\\lambda{} x_{e} \\: . \\: {Table}({x})$"
      ],
      "text/latex": [
       "$[\\![\\mathbf{\\text{inside}}]\\!]^{}_{\\left\\langle{}e,\\left\\langle{}\\left\\langle{}e,t\\right\\rangle{},\\left\\langle{}e,t\\right\\rangle{}\\right\\rangle{}\\right\\rangle{}} \\:=\\: $$\\lambda{} z_{e} \\: . \\: \\lambda{} y_{\\left\\langle{}e,t\\right\\rangle{}} \\: . \\: \\lambda{} x_{e} \\: . \\: ({y}({x}) \\wedge{} {Inside}({x}, {z}))$<br />\n",
       "$[\\![\\mathbf{\\text{on}}]\\!]^{}_{\\left\\langle{}e,\\left\\langle{}\\left\\langle{}e,t\\right\\rangle{},\\left\\langle{}e,t\\right\\rangle{}\\right\\rangle{}\\right\\rangle{}} \\:=\\: $$\\lambda{} z_{e} \\: . \\: \\lambda{} y_{\\left\\langle{}e,t\\right\\rangle{}} \\: . \\: \\lambda{} x_{e} \\: . \\: ({y}({x}) \\wedge{} {On}({x}, {z}))$<br />\n",
       "$[\\![\\mathbf{\\text{sandwich}}]\\!]^{}_{\\left\\langle{}e,t\\right\\rangle{}} \\:=\\: $$\\lambda{} x_{e} \\: . \\: {Sandwich}({x})$<br />\n",
       "$[\\![\\mathbf{\\text{house}}]\\!]^{}_{\\left\\langle{}e,t\\right\\rangle{}} \\:=\\: $$\\lambda{} x_{e} \\: . \\: {House}({x})$<br />\n",
       "$[\\![\\mathbf{\\text{table}}]\\!]^{}_{\\left\\langle{}e,t\\right\\rangle{}} \\:=\\: $$\\lambda{} x_{e} \\: . \\: {Table}({x})$"
      ],
      "text/plain": [
       "$[\\![\\mathbf{\\text{inside}}]\\!]^{}_{\\left\\langle{}e,\\left\\langle{}\\left\\langle{}e,t\\right\\rangle{},\\left\\langle{}e,t\\right\\rangle{}\\right\\rangle{}\\right\\rangle{}} \\:=\\: $$\\lambda{} z_{e} \\: . \\: \\lambda{} y_{\\left\\langle{}e,t\\right\\rangle{}} \\: . \\: \\lambda{} x_{e} \\: . \\: ({y}({x}) \\wedge{} {Inside}({x}, {z}))$<br />\n",
       "$[\\![\\mathbf{\\text{on}}]\\!]^{}_{\\left\\langle{}e,\\left\\langle{}\\left\\langle{}e,t\\right\\rangle{},\\left\\langle{}e,t\\right\\rangle{}\\right\\rangle{}\\right\\rangle{}} \\:=\\: $$\\lambda{} z_{e} \\: . \\: \\lambda{} y_{\\left\\langle{}e,t\\right\\rangle{}} \\: . \\: \\lambda{} x_{e} \\: . \\: ({y}({x}) \\wedge{} {On}({x}, {z}))$<br />\n",
       "$[\\![\\mathbf{\\text{sandwich}}]\\!]^{}_{\\left\\langle{}e,t\\right\\rangle{}} \\:=\\: $$\\lambda{} x_{e} \\: . \\: {Sandwich}({x})$<br />\n",
       "$[\\![\\mathbf{\\text{house}}]\\!]^{}_{\\left\\langle{}e,t\\right\\rangle{}} \\:=\\: $$\\lambda{} x_{e} \\: . \\: {House}({x})$<br />\n",
       "$[\\![\\mathbf{\\text{table}}]\\!]^{}_{\\left\\langle{}e,t\\right\\rangle{}} \\:=\\: $$\\lambda{} x_{e} \\: . \\: {Table}({x})$"
      ]
     },
     "execution_count": 24,
     "metadata": {},
     "output_type": "execute_result"
    }
   ],
   "source": [
    "%%lamb\n",
    "||inside|| = L z: L y_<e,t>: L x: y(x) & Inside(x, z)\n",
    "||on|| = L z: L y_<e,t>: L x: y(x) & On(x, z)\n",
    "||sandwich|| = L x: Sandwich(x)\n",
    "||house|| = L x: House(x)\n",
    "||table|| = L x: Table(x)"
   ]
  },
  {
   "cell_type": "markdown",
   "metadata": {},
   "source": [
    "Now you should be able to run the following cell to get the meaning of \"the sandwich inside the house on the table\":"
   ]
  },
  {
   "cell_type": "code",
   "execution_count": 25,
   "metadata": {},
   "outputs": [
    {
     "data": {
      "text/html": [
       "1 composition path.  Result:\n",
       "<br />&nbsp;&nbsp;&nbsp;&nbsp;[0]: $[\\![\\mathbf{\\text{[the [[inside [the [[on [the table]] house]]] sandwich]]}}]\\!]^{}_{e} \\:=\\: $$\\iota{} x_{e} \\: . \\: ({Sandwich}({x}) \\wedge{} {Inside}({x}, \\iota{} x2_{e} \\: . \\: ({House}({x2}) \\wedge{} {On}({x2}, \\iota{} x1_{e} \\: . \\: {Table}({x1})))))$"
      ],
      "text/plain": [
       "CompositionResult(results=[⟦[the [[inside [the [[on [the table]] house]]] sandwich]]⟧ = (ι x_e: (Sandwich_<e,t>(x_e) & Inside_<(e,e),t>(x_e, (ι x2_e: (House_<e,t>(x2_e) & On_<(e,e),t>(x2_e, (ι x1_e: Table_<e,t>(x1_e))))))))], failures=[⟦[[[inside [the [[on [the table]] house]]] sandwich] the]⟧ = Type mismatch: '⟦[[inside [the [[on [the table]] house]]] sandwich]⟧ = (λ x_e: (Sandwich_<e,t>(x_e) & Inside_<(e,e),t>(x_e, (ι x_e: (House_<e,t>(x_e) & On_<(e,e),t>(x_e, (ι x1_e: Table_<e,t>(x1_e))))))))'/<e,t> and '⟦the⟧ = (λ f_<e,t>: (ι x_e: f_<e,t>(x_e)))'/<<e,t>,e> conflict (mode: Function Application), ⟦[the [[inside [the [[on [the table]] house]]] sandwich]]⟧ = Type mismatch: '⟦the⟧ = (λ f_<e,t>: (ι x_e: f_<e,t>(x_e)))'/<<e,t>,e> and '⟦[[inside [the [[on [the table]] house]]] sandwich]⟧ = (λ x_e: (Sandwich_<e,t>(x_e) & Inside_<(e,e),t>(x_e, (ι x_e: (House_<e,t>(x_e) & On_<(e,e),t>(x_e, (ι x1_e: Table_<e,t>(x1_e))))))))'/<e,t> conflict (mode: Predicate Modification), ⟦[the [[inside [the [[on [the table]] house]]] sandwich]]⟧ = Type mismatch: '⟦the⟧ = (λ f_<e,t>: (ι x_e: f_<e,t>(x_e)))'/<<e,t>,e> and '⟦[[inside [the [[on [the table]] house]]] sandwich]⟧ = (λ x_e: (Sandwich_<e,t>(x_e) & Inside_<(e,e),t>(x_e, (ι x_e: (House_<e,t>(x_e) & On_<(e,e),t>(x_e, (ι x1_e: Table_<e,t>(x1_e))))))))'/<e,t> conflict (mode: Predicate Abstraction), ⟦[[[inside [the [[on [the table]] house]]] sandwich] the]⟧ = Type mismatch: '⟦[[inside [the [[on [the table]] house]]] sandwich]⟧ = (λ x_e: (Sandwich_<e,t>(x_e) & Inside_<(e,e),t>(x_e, (ι x_e: (House_<e,t>(x_e) & On_<(e,e),t>(x_e, (ι x1_e: Table_<e,t>(x1_e))))))))'/<e,t> and '⟦the⟧ = (λ f_<e,t>: (ι x_e: f_<e,t>(x_e)))'/<<e,t>,e> conflict (mode: Predicate Abstraction)])"
      ]
     },
     "execution_count": 25,
     "metadata": {},
     "output_type": "execute_result"
    }
   ],
   "source": [
    "(the * (sandwich * (inside * (the * (house * (on * (the * table)))))))"
   ]
  },
  {
   "cell_type": "markdown",
   "metadata": {},
   "source": [
    "But wait a second! Examine the above output carefully; it says that the house is on the table, which seems wrong. What we really want to say is that the sandwich is inside the house and that the sandwich is on the table. In other words, we really want to have [[the sandwich inside the house on the table]] = $\\iota$x . Sandwich(x) $\\wedge$ Inside(x, $\\iota$x1 . House(x1)) $\\wedge$ On(x, $\\iota$x2.Table(x2)). Edit the cell above so that it gives you the correct meaning."
   ]
  },
  {
   "cell_type": "markdown",
   "metadata": {},
   "source": [
    "### f. Adjectives"
   ]
  },
  {
   "cell_type": "markdown",
   "metadata": {},
   "source": [
    "Adjectives are another type of common modifier for nouns. Based on the prepositional phrase examples above, write the meaning for \"blue\" in the cell below so that \"the blue dog\" in the next cell evaluates properly as [[the blue dog]] = $\\iota$x . Dog(x) $\\wedge$ Blue(x):"
   ]
  },
  {
   "cell_type": "code",
   "execution_count": 26,
   "metadata": {},
   "outputs": [
    {
     "name": "stdout",
     "output_type": "stream",
     "text": [
      "INFO (meta): Coerced guessed type for 'Blue_t' into <e,t>, to match argument 'x_e'\n"
     ]
    },
    {
     "data": {
      "text/html": [
       "$[\\![\\mathbf{\\text{blue}}]\\!]^{}_{\\left\\langle{}\\left\\langle{}e,t\\right\\rangle{},\\left\\langle{}e,t\\right\\rangle{}\\right\\rangle{}} \\:=\\: $$\\lambda{} y_{\\left\\langle{}e,t\\right\\rangle{}} \\: . \\: \\lambda{} x_{e} \\: . \\: ({y}({x}) \\wedge{} {Blue}({x}))$"
      ],
      "text/latex": [
       "$[\\![\\mathbf{\\text{blue}}]\\!]^{}_{\\left\\langle{}\\left\\langle{}e,t\\right\\rangle{},\\left\\langle{}e,t\\right\\rangle{}\\right\\rangle{}} \\:=\\: $$\\lambda{} y_{\\left\\langle{}e,t\\right\\rangle{}} \\: . \\: \\lambda{} x_{e} \\: . \\: ({y}({x}) \\wedge{} {Blue}({x}))$"
      ],
      "text/plain": [
       "$[\\![\\mathbf{\\text{blue}}]\\!]^{}_{\\left\\langle{}\\left\\langle{}e,t\\right\\rangle{},\\left\\langle{}e,t\\right\\rangle{}\\right\\rangle{}} \\:=\\: $$\\lambda{} y_{\\left\\langle{}e,t\\right\\rangle{}} \\: . \\: \\lambda{} x_{e} \\: . \\: ({y}({x}) \\wedge{} {Blue}({x}))$"
      ]
     },
     "execution_count": 26,
     "metadata": {},
     "output_type": "execute_result"
    }
   ],
   "source": [
    "%%lamb\n",
    "||blue|| = L y_<e,t>: L x: y(x) & Blue(x)"
   ]
  },
  {
   "cell_type": "code",
   "execution_count": 27,
   "metadata": {},
   "outputs": [
    {
     "data": {
      "text/html": [
       "1 composition path.  Result:\n",
       "<br />&nbsp;&nbsp;&nbsp;&nbsp;[0]: $[\\![\\mathbf{\\text{[the [blue dog]]}}]\\!]^{}_{e} \\:=\\: $$\\iota{} x_{e} \\: . \\: ({Dog}({x}) \\wedge{} {Blue}({x}))$"
      ],
      "text/plain": [
       "CompositionResult(results=[⟦[the [blue dog]]⟧ = (ι x_e: (Dog_<e,t>(x_e) & Blue_<e,t>(x_e)))], failures=[⟦[[blue dog] the]⟧ = Type mismatch: '⟦[blue dog]⟧ = (λ x_e: (Dog_<e,t>(x_e) & Blue_<e,t>(x_e)))'/<e,t> and '⟦the⟧ = (λ f_<e,t>: (ι x_e: f_<e,t>(x_e)))'/<<e,t>,e> conflict (mode: Function Application), ⟦[the [blue dog]]⟧ = Type mismatch: '⟦the⟧ = (λ f_<e,t>: (ι x_e: f_<e,t>(x_e)))'/<<e,t>,e> and '⟦[blue dog]⟧ = (λ x_e: (Dog_<e,t>(x_e) & Blue_<e,t>(x_e)))'/<e,t> conflict (mode: Predicate Modification), ⟦[the [blue dog]]⟧ = Type mismatch: '⟦the⟧ = (λ f_<e,t>: (ι x_e: f_<e,t>(x_e)))'/<<e,t>,e> and '⟦[blue dog]⟧ = (λ x_e: (Dog_<e,t>(x_e) & Blue_<e,t>(x_e)))'/<e,t> conflict (mode: Predicate Abstraction), ⟦[[blue dog] the]⟧ = Type mismatch: '⟦[blue dog]⟧ = (λ x_e: (Dog_<e,t>(x_e) & Blue_<e,t>(x_e)))'/<e,t> and '⟦the⟧ = (λ f_<e,t>: (ι x_e: f_<e,t>(x_e)))'/<<e,t>,e> conflict (mode: Predicate Abstraction)])"
      ]
     },
     "execution_count": 27,
     "metadata": {},
     "output_type": "execute_result"
    }
   ],
   "source": [
    "the * (blue * dog)"
   ]
  },
  {
   "cell_type": "markdown",
   "metadata": {},
   "source": [
    "### g. Quantifiers"
   ]
  },
  {
   "cell_type": "markdown",
   "metadata": {},
   "source": [
    "The final types of words we'll discuss are the quantifiers \"every\" and \"a\", defined below:"
   ]
  },
  {
   "cell_type": "code",
   "execution_count": 28,
   "metadata": {},
   "outputs": [
    {
     "data": {
      "text/html": [
       "$[\\![\\mathbf{\\text{every}}]\\!]^{}_{\\left\\langle{}\\left\\langle{}e,t\\right\\rangle{},\\left\\langle{}\\left\\langle{}e,t\\right\\rangle{},t\\right\\rangle{}\\right\\rangle{}} \\:=\\: $$\\lambda{} f_{\\left\\langle{}e,t\\right\\rangle{}} \\: . \\: \\lambda{} g_{\\left\\langle{}e,t\\right\\rangle{}} \\: . \\: \\forall{} x_{e} \\: . \\: ({f}({x}) \\rightarrow{} {g}({x}))$<br />\n",
       "$[\\![\\mathbf{\\text{a}}]\\!]^{}_{\\left\\langle{}\\left\\langle{}e,t\\right\\rangle{},\\left\\langle{}\\left\\langle{}e,t\\right\\rangle{},t\\right\\rangle{}\\right\\rangle{}} \\:=\\: $$\\lambda{} f_{\\left\\langle{}e,t\\right\\rangle{}} \\: . \\: \\lambda{} g_{\\left\\langle{}e,t\\right\\rangle{}} \\: . \\: \\exists{} x_{e} \\: . \\: ({f}({x}) \\wedge{} {g}({x}))$"
      ],
      "text/latex": [
       "$[\\![\\mathbf{\\text{every}}]\\!]^{}_{\\left\\langle{}\\left\\langle{}e,t\\right\\rangle{},\\left\\langle{}\\left\\langle{}e,t\\right\\rangle{},t\\right\\rangle{}\\right\\rangle{}} \\:=\\: $$\\lambda{} f_{\\left\\langle{}e,t\\right\\rangle{}} \\: . \\: \\lambda{} g_{\\left\\langle{}e,t\\right\\rangle{}} \\: . \\: \\forall{} x_{e} \\: . \\: ({f}({x}) \\rightarrow{} {g}({x}))$<br />\n",
       "$[\\![\\mathbf{\\text{a}}]\\!]^{}_{\\left\\langle{}\\left\\langle{}e,t\\right\\rangle{},\\left\\langle{}\\left\\langle{}e,t\\right\\rangle{},t\\right\\rangle{}\\right\\rangle{}} \\:=\\: $$\\lambda{} f_{\\left\\langle{}e,t\\right\\rangle{}} \\: . \\: \\lambda{} g_{\\left\\langle{}e,t\\right\\rangle{}} \\: . \\: \\exists{} x_{e} \\: . \\: ({f}({x}) \\wedge{} {g}({x}))$"
      ],
      "text/plain": [
       "$[\\![\\mathbf{\\text{every}}]\\!]^{}_{\\left\\langle{}\\left\\langle{}e,t\\right\\rangle{},\\left\\langle{}\\left\\langle{}e,t\\right\\rangle{},t\\right\\rangle{}\\right\\rangle{}} \\:=\\: $$\\lambda{} f_{\\left\\langle{}e,t\\right\\rangle{}} \\: . \\: \\lambda{} g_{\\left\\langle{}e,t\\right\\rangle{}} \\: . \\: \\forall{} x_{e} \\: . \\: ({f}({x}) \\rightarrow{} {g}({x}))$<br />\n",
       "$[\\![\\mathbf{\\text{a}}]\\!]^{}_{\\left\\langle{}\\left\\langle{}e,t\\right\\rangle{},\\left\\langle{}\\left\\langle{}e,t\\right\\rangle{},t\\right\\rangle{}\\right\\rangle{}} \\:=\\: $$\\lambda{} f_{\\left\\langle{}e,t\\right\\rangle{}} \\: . \\: \\lambda{} g_{\\left\\langle{}e,t\\right\\rangle{}} \\: . \\: \\exists{} x_{e} \\: . \\: ({f}({x}) \\wedge{} {g}({x}))$"
      ]
     },
     "execution_count": 28,
     "metadata": {},
     "output_type": "execute_result"
    }
   ],
   "source": [
    "%%lamb\n",
    "||every|| = L f_<e,t> : L g_<e,t> : Forall x_e : f(x) >> g(x)\n",
    "||a|| = L f_<e,t> : L g_<e,t> : Exists x_e : f(x) & g(x)"
   ]
  },
  {
   "cell_type": "markdown",
   "metadata": {},
   "source": [
    "These definitions introduce a few more symbols. The symbol $\\forall$ means \"for all\", the symbol $\\exists$ means \"there exists\", and the symbol $\\rightarrow$ means \"implies\". For example, running the cell below shows that the meaning of \"every dog walked\" is \"for all entities x, the fact that x is a dog implies that x walked\":"
   ]
  },
  {
   "cell_type": "code",
   "execution_count": 29,
   "metadata": {},
   "outputs": [
    {
     "data": {
      "text/html": [
       "1 composition path.  Result:\n",
       "<br />&nbsp;&nbsp;&nbsp;&nbsp;[0]: $[\\![\\mathbf{\\text{[[every dog] walked]}}]\\!]^{}_{t} \\:=\\: $$\\forall{} x_{e} \\: . \\: ({Dog}({x}) \\rightarrow{} {Walked}({x}))$"
      ],
      "text/plain": [
       "CompositionResult(results=[⟦[[every dog] walked]⟧ = (Forall x_e: (Dog_<e,t>(x_e) >> Walked_<e,t>(x_e)))], failures=[⟦[walked [every dog]]⟧ = Type mismatch: '⟦walked⟧ = (λ x_e: Walked_<e,t>(x_e))'/<e,t> and '⟦[every dog]⟧ = (λ g_<e,t>: (Forall x_e: (Dog_<e,t>(x_e) >> g_<e,t>(x_e))))'/<<e,t>,t> conflict (mode: Function Application), ⟦[[every dog] walked]⟧ = Type mismatch: '⟦[every dog]⟧ = (λ g_<e,t>: (Forall x_e: (Dog_<e,t>(x_e) >> g_<e,t>(x_e))))'/<<e,t>,t> and '⟦walked⟧ = (λ x_e: Walked_<e,t>(x_e))'/<e,t> conflict (mode: Predicate Modification), ⟦[[every dog] walked]⟧ = Type mismatch: '⟦[every dog]⟧ = (λ g_<e,t>: (Forall x_e: (Dog_<e,t>(x_e) >> g_<e,t>(x_e))))'/<<e,t>,t> and '⟦walked⟧ = (λ x_e: Walked_<e,t>(x_e))'/<e,t> conflict (mode: Predicate Abstraction), ⟦[walked [every dog]]⟧ = Type mismatch: '⟦walked⟧ = (λ x_e: Walked_<e,t>(x_e))'/<e,t> and '⟦[every dog]⟧ = (λ g_<e,t>: (Forall x_e: (Dog_<e,t>(x_e) >> g_<e,t>(x_e))))'/<<e,t>,t> conflict (mode: Predicate Abstraction)])"
      ]
     },
     "execution_count": 29,
     "metadata": {},
     "output_type": "execute_result"
    }
   ],
   "source": [
    "(every * dog) * walked"
   ]
  },
  {
   "cell_type": "markdown",
   "metadata": {},
   "source": [
    "And the next cell shows that the meaning of \"a dog walked\" is \"there exists an entity x such that x is a dog and x walked\":"
   ]
  },
  {
   "cell_type": "code",
   "execution_count": 30,
   "metadata": {},
   "outputs": [
    {
     "data": {
      "text/html": [
       "1 composition path.  Result:\n",
       "<br />&nbsp;&nbsp;&nbsp;&nbsp;[0]: $[\\![\\mathbf{\\text{[[a dog] walked]}}]\\!]^{}_{t} \\:=\\: $$\\exists{} x_{e} \\: . \\: ({Dog}({x}) \\wedge{} {Walked}({x}))$"
      ],
      "text/plain": [
       "CompositionResult(results=[⟦[[a dog] walked]⟧ = (Exists x_e: (Dog_<e,t>(x_e) & Walked_<e,t>(x_e)))], failures=[⟦[walked [a dog]]⟧ = Type mismatch: '⟦walked⟧ = (λ x_e: Walked_<e,t>(x_e))'/<e,t> and '⟦[a dog]⟧ = (λ g_<e,t>: (Exists x_e: (Dog_<e,t>(x_e) & g_<e,t>(x_e))))'/<<e,t>,t> conflict (mode: Function Application), ⟦[[a dog] walked]⟧ = Type mismatch: '⟦[a dog]⟧ = (λ g_<e,t>: (Exists x_e: (Dog_<e,t>(x_e) & g_<e,t>(x_e))))'/<<e,t>,t> and '⟦walked⟧ = (λ x_e: Walked_<e,t>(x_e))'/<e,t> conflict (mode: Predicate Modification), ⟦[[a dog] walked]⟧ = Type mismatch: '⟦[a dog]⟧ = (λ g_<e,t>: (Exists x_e: (Dog_<e,t>(x_e) & g_<e,t>(x_e))))'/<<e,t>,t> and '⟦walked⟧ = (λ x_e: Walked_<e,t>(x_e))'/<e,t> conflict (mode: Predicate Abstraction), ⟦[walked [a dog]]⟧ = Type mismatch: '⟦walked⟧ = (λ x_e: Walked_<e,t>(x_e))'/<e,t> and '⟦[a dog]⟧ = (λ g_<e,t>: (Exists x_e: (Dog_<e,t>(x_e) & g_<e,t>(x_e))))'/<<e,t>,t> conflict (mode: Predicate Abstraction)])"
      ]
     },
     "execution_count": 30,
     "metadata": {},
     "output_type": "execute_result"
    }
   ],
   "source": [
    "(a * dog) * walked"
   ]
  },
  {
   "cell_type": "markdown",
   "metadata": {},
   "source": [
    "### h. Some puzzles"
   ]
  },
  {
   "cell_type": "markdown",
   "metadata": {},
   "source": [
    "Below are meaning representations for several English words. Figure out which word goes with each representation (there may be multiple correct answers):\n",
    "\n",
    "1. $\\lambda$f . $\\lambda$ x. f(x) $\\wedge$ $\\forall$ y . f(y) $\\rightarrow$ height(y) $\\leq$ height(x)\n",
    "2. $\\lambda$f . $\\iota$ x. f(x) $\\wedge$ possesses(you, x)\n",
    "3. $\\lambda$f . $\\lambda$ x. f(x,x) \n",
    "\n"
   ]
  },
  {
   "cell_type": "markdown",
   "metadata": {},
   "source": [
    "# Part 3: Word embeddings"
   ]
  },
  {
   "cell_type": "code",
   "execution_count": 31,
   "metadata": {},
   "outputs": [
    {
     "ename": "NameError",
     "evalue": "name 'np' is not defined",
     "output_type": "error",
     "traceback": [
      "\u001b[0;31m---------------------------------------------------------------------------\u001b[0m",
      "\u001b[0;31mNameError\u001b[0m                                 Traceback (most recent call last)",
      "\u001b[0;32m<ipython-input-31-79e87f200521>\u001b[0m in \u001b[0;36m<module>\u001b[0;34m()\u001b[0m\n\u001b[1;32m      4\u001b[0m \u001b[0;32mfor\u001b[0m \u001b[0mline\u001b[0m \u001b[0;32min\u001b[0m \u001b[0mglove\u001b[0m\u001b[0;34m:\u001b[0m\u001b[0;34m\u001b[0m\u001b[0m\n\u001b[1;32m      5\u001b[0m     \u001b[0mparts\u001b[0m \u001b[0;34m=\u001b[0m \u001b[0mline\u001b[0m\u001b[0;34m.\u001b[0m\u001b[0msplit\u001b[0m\u001b[0;34m(\u001b[0m\u001b[0;34m)\u001b[0m\u001b[0;34m\u001b[0m\u001b[0m\n\u001b[0;32m----> 6\u001b[0;31m     \u001b[0mglove_dict\u001b[0m\u001b[0;34m[\u001b[0m\u001b[0mparts\u001b[0m\u001b[0;34m[\u001b[0m\u001b[0;36m0\u001b[0m\u001b[0;34m]\u001b[0m\u001b[0;34m]\u001b[0m \u001b[0;34m=\u001b[0m \u001b[0mnp\u001b[0m\u001b[0;34m.\u001b[0m\u001b[0marray\u001b[0m\u001b[0;34m(\u001b[0m\u001b[0mlist\u001b[0m\u001b[0;34m(\u001b[0m\u001b[0mmap\u001b[0m\u001b[0;34m(\u001b[0m\u001b[0mfloat\u001b[0m\u001b[0;34m,\u001b[0m \u001b[0mparts\u001b[0m\u001b[0;34m[\u001b[0m\u001b[0;36m1\u001b[0m\u001b[0;34m:\u001b[0m\u001b[0;34m]\u001b[0m\u001b[0;34m)\u001b[0m\u001b[0;34m)\u001b[0m\u001b[0;34m)\u001b[0m\u001b[0;34m\u001b[0m\u001b[0m\n\u001b[0m",
      "\u001b[0;31mNameError\u001b[0m: name 'np' is not defined"
     ]
    }
   ],
   "source": [
    "glove = open(\"/Users/tommccoy/srproj/data/glove.6B.50d.txt\")\n",
    "\n",
    "glove_dict = {}\n",
    "for line in glove:\n",
    "    parts = line.split()\n",
    "    glove_dict[parts[0]] = np.array(list(map(float, parts[1:])))"
   ]
  },
  {
   "cell_type": "code",
   "execution_count": 32,
   "metadata": {},
   "outputs": [],
   "source": [
    "import numpy as np\n",
    "\n",
    "def cos_sim(vec_a, vec_b):\n",
    "    return np.dot(vec_a, vec_b)/(np.linalg.norm(vec_a) * np.linalg.norm(vec_b))\n",
    "\n"
   ]
  },
  {
   "cell_type": "code",
   "execution_count": 33,
   "metadata": {},
   "outputs": [
    {
     "ename": "KeyError",
     "evalue": "'the'",
     "output_type": "error",
     "traceback": [
      "\u001b[0;31m---------------------------------------------------------------------------\u001b[0m",
      "\u001b[0;31mKeyError\u001b[0m                                  Traceback (most recent call last)",
      "\u001b[0;32m<ipython-input-33-df64dd9925bd>\u001b[0m in \u001b[0;36m<module>\u001b[0;34m()\u001b[0m\n\u001b[0;32m----> 1\u001b[0;31m \u001b[0mcos_sim\u001b[0m\u001b[0;34m(\u001b[0m\u001b[0mnp\u001b[0m\u001b[0;34m.\u001b[0m\u001b[0marray\u001b[0m\u001b[0;34m(\u001b[0m\u001b[0mlist\u001b[0m\u001b[0;34m(\u001b[0m\u001b[0mglove_dict\u001b[0m\u001b[0;34m[\u001b[0m\u001b[0;34m\"the\"\u001b[0m\u001b[0;34m]\u001b[0m\u001b[0;34m)\u001b[0m\u001b[0;34m)\u001b[0m\u001b[0;34m,\u001b[0m \u001b[0mnp\u001b[0m\u001b[0;34m.\u001b[0m\u001b[0marray\u001b[0m\u001b[0;34m(\u001b[0m\u001b[0mlist\u001b[0m\u001b[0;34m(\u001b[0m\u001b[0mglove_dict\u001b[0m\u001b[0;34m[\u001b[0m\u001b[0;34m\"you\"\u001b[0m\u001b[0;34m]\u001b[0m\u001b[0;34m)\u001b[0m\u001b[0;34m)\u001b[0m\u001b[0;34m)\u001b[0m\u001b[0;34m\u001b[0m\u001b[0m\n\u001b[0m",
      "\u001b[0;31mKeyError\u001b[0m: 'the'"
     ]
    }
   ],
   "source": [
    "cos_sim(np.array(list(glove_dict[\"the\"])), np.array(list(glove_dict[\"you\"])))"
   ]
  },
  {
   "cell_type": "code",
   "execution_count": 34,
   "metadata": {},
   "outputs": [],
   "source": [
    "def find_closest(word_a):\n",
    "    max_sim = 0.0\n",
    "    closest = \"\"\n",
    "    \n",
    "    for word_b in glove_dict:\n",
    "        dist = cos_sim(glove_dict[word_a], glove_dict[word_b])\n",
    "        if dist > max_sim and word_b != word_a:\n",
    "            max_sim = dist\n",
    "            closest = word_b\n",
    "            \n",
    "    return closest\n",
    "        "
   ]
  },
  {
   "cell_type": "code",
   "execution_count": 35,
   "metadata": {},
   "outputs": [],
   "source": [
    "def find_closest_vec(vec, word_a, word_b, word_c):\n",
    "    max_sim = 0.0\n",
    "    closest = \"\"\n",
    "    \n",
    "    for word_d in glove_dict:\n",
    "        dist = cos_sim(vec, glove_dict[word_d])\n",
    "        if dist > max_sim and word_d != word_a and word_d != word_b and word_d != word_c:\n",
    "            max_sim = dist\n",
    "            closest = word_d\n",
    "            \n",
    "    return closest"
   ]
  },
  {
   "cell_type": "code",
   "execution_count": 36,
   "metadata": {},
   "outputs": [
    {
     "data": {
      "text/plain": [
       "''"
      ]
     },
     "execution_count": 36,
     "metadata": {},
     "output_type": "execute_result"
    }
   ],
   "source": [
    "find_closest(\"king\")"
   ]
  },
  {
   "cell_type": "code",
   "execution_count": 37,
   "metadata": {},
   "outputs": [
    {
     "ename": "KeyError",
     "evalue": "'cat'",
     "output_type": "error",
     "traceback": [
      "\u001b[0;31m---------------------------------------------------------------------------\u001b[0m",
      "\u001b[0;31mKeyError\u001b[0m                                  Traceback (most recent call last)",
      "\u001b[0;32m<ipython-input-37-a59dd441dafe>\u001b[0m in \u001b[0;36m<module>\u001b[0;34m()\u001b[0m\n\u001b[0;32m----> 1\u001b[0;31m \u001b[0mcos_sim\u001b[0m\u001b[0;34m(\u001b[0m\u001b[0mglove_dict\u001b[0m\u001b[0;34m[\u001b[0m\u001b[0;34m\"cat\"\u001b[0m\u001b[0;34m]\u001b[0m\u001b[0;34m,\u001b[0m \u001b[0mglove_dict\u001b[0m\u001b[0;34m[\u001b[0m\u001b[0;34m\"dog\"\u001b[0m\u001b[0;34m]\u001b[0m\u001b[0;34m)\u001b[0m\u001b[0;34m\u001b[0m\u001b[0m\n\u001b[0m",
      "\u001b[0;31mKeyError\u001b[0m: 'cat'"
     ]
    }
   ],
   "source": [
    "cos_sim(glove_dict[\"cat\"], glove_dict[\"dog\"])"
   ]
  },
  {
   "cell_type": "code",
   "execution_count": 38,
   "metadata": {},
   "outputs": [],
   "source": [
    "def analogy(word_a, word_b, word_c):\n",
    "    new_vec = glove_dict[word_a] - glove_dict[word_b] + glove_dict[word_c]\n",
    "    return find_closest_vec(new_vec, word_a, word_b, word_c)"
   ]
  },
  {
   "cell_type": "code",
   "execution_count": 39,
   "metadata": {},
   "outputs": [
    {
     "ename": "KeyError",
     "evalue": "'kitten'",
     "output_type": "error",
     "traceback": [
      "\u001b[0;31m---------------------------------------------------------------------------\u001b[0m",
      "\u001b[0;31mKeyError\u001b[0m                                  Traceback (most recent call last)",
      "\u001b[0;32m<ipython-input-39-47adb346854f>\u001b[0m in \u001b[0;36m<module>\u001b[0;34m()\u001b[0m\n\u001b[0;32m----> 1\u001b[0;31m \u001b[0manalogy\u001b[0m\u001b[0;34m(\u001b[0m\u001b[0;34m\"kitten\"\u001b[0m\u001b[0;34m,\u001b[0m \u001b[0;34m\"cat\"\u001b[0m\u001b[0;34m,\u001b[0m \u001b[0;34m\"dog\"\u001b[0m\u001b[0;34m)\u001b[0m\u001b[0;34m\u001b[0m\u001b[0m\n\u001b[0m",
      "\u001b[0;32m<ipython-input-38-d790c66069e8>\u001b[0m in \u001b[0;36manalogy\u001b[0;34m(word_a, word_b, word_c)\u001b[0m\n\u001b[1;32m      1\u001b[0m \u001b[0;32mdef\u001b[0m \u001b[0manalogy\u001b[0m\u001b[0;34m(\u001b[0m\u001b[0mword_a\u001b[0m\u001b[0;34m,\u001b[0m \u001b[0mword_b\u001b[0m\u001b[0;34m,\u001b[0m \u001b[0mword_c\u001b[0m\u001b[0;34m)\u001b[0m\u001b[0;34m:\u001b[0m\u001b[0;34m\u001b[0m\u001b[0m\n\u001b[0;32m----> 2\u001b[0;31m     \u001b[0mnew_vec\u001b[0m \u001b[0;34m=\u001b[0m \u001b[0mglove_dict\u001b[0m\u001b[0;34m[\u001b[0m\u001b[0mword_a\u001b[0m\u001b[0;34m]\u001b[0m \u001b[0;34m-\u001b[0m \u001b[0mglove_dict\u001b[0m\u001b[0;34m[\u001b[0m\u001b[0mword_b\u001b[0m\u001b[0;34m]\u001b[0m \u001b[0;34m+\u001b[0m \u001b[0mglove_dict\u001b[0m\u001b[0;34m[\u001b[0m\u001b[0mword_c\u001b[0m\u001b[0;34m]\u001b[0m\u001b[0;34m\u001b[0m\u001b[0m\n\u001b[0m\u001b[1;32m      3\u001b[0m     \u001b[0;32mreturn\u001b[0m \u001b[0mfind_closest_vec\u001b[0m\u001b[0;34m(\u001b[0m\u001b[0mnew_vec\u001b[0m\u001b[0;34m,\u001b[0m \u001b[0mword_a\u001b[0m\u001b[0;34m,\u001b[0m \u001b[0mword_b\u001b[0m\u001b[0;34m,\u001b[0m \u001b[0mword_c\u001b[0m\u001b[0;34m)\u001b[0m\u001b[0;34m\u001b[0m\u001b[0m\n",
      "\u001b[0;31mKeyError\u001b[0m: 'kitten'"
     ]
    }
   ],
   "source": [
    "analogy(\"kitten\", \"cat\", \"dog\")"
   ]
  },
  {
   "cell_type": "code",
   "execution_count": 40,
   "metadata": {},
   "outputs": [
    {
     "ename": "KeyError",
     "evalue": "'king'",
     "output_type": "error",
     "traceback": [
      "\u001b[0;31m---------------------------------------------------------------------------\u001b[0m",
      "\u001b[0;31mKeyError\u001b[0m                                  Traceback (most recent call last)",
      "\u001b[0;32m<ipython-input-40-afed3125fc65>\u001b[0m in \u001b[0;36m<module>\u001b[0;34m()\u001b[0m\n\u001b[0;32m----> 1\u001b[0;31m \u001b[0manalogy\u001b[0m\u001b[0;34m(\u001b[0m\u001b[0;34m\"king\"\u001b[0m\u001b[0;34m,\u001b[0m \u001b[0;34m\"man\"\u001b[0m\u001b[0;34m,\u001b[0m \u001b[0;34m\"woman\"\u001b[0m\u001b[0;34m)\u001b[0m\u001b[0;34m\u001b[0m\u001b[0m\n\u001b[0m",
      "\u001b[0;32m<ipython-input-38-d790c66069e8>\u001b[0m in \u001b[0;36manalogy\u001b[0;34m(word_a, word_b, word_c)\u001b[0m\n\u001b[1;32m      1\u001b[0m \u001b[0;32mdef\u001b[0m \u001b[0manalogy\u001b[0m\u001b[0;34m(\u001b[0m\u001b[0mword_a\u001b[0m\u001b[0;34m,\u001b[0m \u001b[0mword_b\u001b[0m\u001b[0;34m,\u001b[0m \u001b[0mword_c\u001b[0m\u001b[0;34m)\u001b[0m\u001b[0;34m:\u001b[0m\u001b[0;34m\u001b[0m\u001b[0m\n\u001b[0;32m----> 2\u001b[0;31m     \u001b[0mnew_vec\u001b[0m \u001b[0;34m=\u001b[0m \u001b[0mglove_dict\u001b[0m\u001b[0;34m[\u001b[0m\u001b[0mword_a\u001b[0m\u001b[0;34m]\u001b[0m \u001b[0;34m-\u001b[0m \u001b[0mglove_dict\u001b[0m\u001b[0;34m[\u001b[0m\u001b[0mword_b\u001b[0m\u001b[0;34m]\u001b[0m \u001b[0;34m+\u001b[0m \u001b[0mglove_dict\u001b[0m\u001b[0;34m[\u001b[0m\u001b[0mword_c\u001b[0m\u001b[0;34m]\u001b[0m\u001b[0;34m\u001b[0m\u001b[0m\n\u001b[0m\u001b[1;32m      3\u001b[0m     \u001b[0;32mreturn\u001b[0m \u001b[0mfind_closest_vec\u001b[0m\u001b[0;34m(\u001b[0m\u001b[0mnew_vec\u001b[0m\u001b[0;34m,\u001b[0m \u001b[0mword_a\u001b[0m\u001b[0;34m,\u001b[0m \u001b[0mword_b\u001b[0m\u001b[0;34m,\u001b[0m \u001b[0mword_c\u001b[0m\u001b[0;34m)\u001b[0m\u001b[0;34m\u001b[0m\u001b[0m\n",
      "\u001b[0;31mKeyError\u001b[0m: 'king'"
     ]
    }
   ],
   "source": [
    "analogy(\"king\", \"man\", \"woman\")"
   ]
  },
  {
   "cell_type": "code",
   "execution_count": 41,
   "metadata": {},
   "outputs": [
    {
     "ename": "KeyError",
     "evalue": "'man'",
     "output_type": "error",
     "traceback": [
      "\u001b[0;31m---------------------------------------------------------------------------\u001b[0m",
      "\u001b[0;31mKeyError\u001b[0m                                  Traceback (most recent call last)",
      "\u001b[0;32m<ipython-input-41-82d1f0c028e6>\u001b[0m in \u001b[0;36m<module>\u001b[0;34m()\u001b[0m\n\u001b[0;32m----> 1\u001b[0;31m \u001b[0manalogy\u001b[0m\u001b[0;34m(\u001b[0m\u001b[0;34m\"man\"\u001b[0m\u001b[0;34m,\u001b[0m \u001b[0;34m\"men\"\u001b[0m\u001b[0;34m,\u001b[0m \u001b[0;34m\"women\"\u001b[0m\u001b[0;34m)\u001b[0m\u001b[0;34m\u001b[0m\u001b[0m\n\u001b[0m",
      "\u001b[0;32m<ipython-input-38-d790c66069e8>\u001b[0m in \u001b[0;36manalogy\u001b[0;34m(word_a, word_b, word_c)\u001b[0m\n\u001b[1;32m      1\u001b[0m \u001b[0;32mdef\u001b[0m \u001b[0manalogy\u001b[0m\u001b[0;34m(\u001b[0m\u001b[0mword_a\u001b[0m\u001b[0;34m,\u001b[0m \u001b[0mword_b\u001b[0m\u001b[0;34m,\u001b[0m \u001b[0mword_c\u001b[0m\u001b[0;34m)\u001b[0m\u001b[0;34m:\u001b[0m\u001b[0;34m\u001b[0m\u001b[0m\n\u001b[0;32m----> 2\u001b[0;31m     \u001b[0mnew_vec\u001b[0m \u001b[0;34m=\u001b[0m \u001b[0mglove_dict\u001b[0m\u001b[0;34m[\u001b[0m\u001b[0mword_a\u001b[0m\u001b[0;34m]\u001b[0m \u001b[0;34m-\u001b[0m \u001b[0mglove_dict\u001b[0m\u001b[0;34m[\u001b[0m\u001b[0mword_b\u001b[0m\u001b[0;34m]\u001b[0m \u001b[0;34m+\u001b[0m \u001b[0mglove_dict\u001b[0m\u001b[0;34m[\u001b[0m\u001b[0mword_c\u001b[0m\u001b[0;34m]\u001b[0m\u001b[0;34m\u001b[0m\u001b[0m\n\u001b[0m\u001b[1;32m      3\u001b[0m     \u001b[0;32mreturn\u001b[0m \u001b[0mfind_closest_vec\u001b[0m\u001b[0;34m(\u001b[0m\u001b[0mnew_vec\u001b[0m\u001b[0;34m,\u001b[0m \u001b[0mword_a\u001b[0m\u001b[0;34m,\u001b[0m \u001b[0mword_b\u001b[0m\u001b[0;34m,\u001b[0m \u001b[0mword_c\u001b[0m\u001b[0;34m)\u001b[0m\u001b[0;34m\u001b[0m\u001b[0m\n",
      "\u001b[0;31mKeyError\u001b[0m: 'man'"
     ]
    }
   ],
   "source": [
    "analogy(\"man\", \"men\", \"women\")"
   ]
  },
  {
   "cell_type": "code",
   "execution_count": 42,
   "metadata": {},
   "outputs": [
    {
     "ename": "KeyError",
     "evalue": "'ate'",
     "output_type": "error",
     "traceback": [
      "\u001b[0;31m---------------------------------------------------------------------------\u001b[0m",
      "\u001b[0;31mKeyError\u001b[0m                                  Traceback (most recent call last)",
      "\u001b[0;32m<ipython-input-42-3c7b6acf5621>\u001b[0m in \u001b[0;36m<module>\u001b[0;34m()\u001b[0m\n\u001b[0;32m----> 1\u001b[0;31m \u001b[0manalogy\u001b[0m\u001b[0;34m(\u001b[0m\u001b[0;34m\"ate\"\u001b[0m\u001b[0;34m,\u001b[0m \u001b[0;34m\"eat\"\u001b[0m\u001b[0;34m,\u001b[0m \u001b[0;34m\"run\"\u001b[0m\u001b[0;34m)\u001b[0m\u001b[0;34m\u001b[0m\u001b[0m\n\u001b[0m",
      "\u001b[0;32m<ipython-input-38-d790c66069e8>\u001b[0m in \u001b[0;36manalogy\u001b[0;34m(word_a, word_b, word_c)\u001b[0m\n\u001b[1;32m      1\u001b[0m \u001b[0;32mdef\u001b[0m \u001b[0manalogy\u001b[0m\u001b[0;34m(\u001b[0m\u001b[0mword_a\u001b[0m\u001b[0;34m,\u001b[0m \u001b[0mword_b\u001b[0m\u001b[0;34m,\u001b[0m \u001b[0mword_c\u001b[0m\u001b[0;34m)\u001b[0m\u001b[0;34m:\u001b[0m\u001b[0;34m\u001b[0m\u001b[0m\n\u001b[0;32m----> 2\u001b[0;31m     \u001b[0mnew_vec\u001b[0m \u001b[0;34m=\u001b[0m \u001b[0mglove_dict\u001b[0m\u001b[0;34m[\u001b[0m\u001b[0mword_a\u001b[0m\u001b[0;34m]\u001b[0m \u001b[0;34m-\u001b[0m \u001b[0mglove_dict\u001b[0m\u001b[0;34m[\u001b[0m\u001b[0mword_b\u001b[0m\u001b[0;34m]\u001b[0m \u001b[0;34m+\u001b[0m \u001b[0mglove_dict\u001b[0m\u001b[0;34m[\u001b[0m\u001b[0mword_c\u001b[0m\u001b[0;34m]\u001b[0m\u001b[0;34m\u001b[0m\u001b[0m\n\u001b[0m\u001b[1;32m      3\u001b[0m     \u001b[0;32mreturn\u001b[0m \u001b[0mfind_closest_vec\u001b[0m\u001b[0;34m(\u001b[0m\u001b[0mnew_vec\u001b[0m\u001b[0;34m,\u001b[0m \u001b[0mword_a\u001b[0m\u001b[0;34m,\u001b[0m \u001b[0mword_b\u001b[0m\u001b[0;34m,\u001b[0m \u001b[0mword_c\u001b[0m\u001b[0;34m)\u001b[0m\u001b[0;34m\u001b[0m\u001b[0m\n",
      "\u001b[0;31mKeyError\u001b[0m: 'ate'"
     ]
    }
   ],
   "source": [
    "analogy(\"ate\", \"eat\", \"run\")"
   ]
  },
  {
   "cell_type": "code",
   "execution_count": null,
   "metadata": {},
   "outputs": [],
   "source": []
  },
  {
   "cell_type": "code",
   "execution_count": null,
   "metadata": {},
   "outputs": [],
   "source": []
  },
  {
   "cell_type": "code",
   "execution_count": null,
   "metadata": {},
   "outputs": [],
   "source": []
  },
  {
   "cell_type": "markdown",
   "metadata": {},
   "source": [
    "# Part 4: Tree RNNs"
   ]
  },
  {
   "cell_type": "markdown",
   "metadata": {},
   "source": [
    "We can now combine these two ideas to create sentence representations that a computer can actually use! (have tree, initialize leaves with word embeddings, train LSTM to compose together into single vector)"
   ]
  },
  {
   "cell_type": "code",
   "execution_count": null,
   "metadata": {},
   "outputs": [],
   "source": []
  },
  {
   "cell_type": "code",
   "execution_count": null,
   "metadata": {},
   "outputs": [],
   "source": []
  },
  {
   "cell_type": "code",
   "execution_count": null,
   "metadata": {},
   "outputs": [],
   "source": []
  },
  {
   "cell_type": "code",
   "execution_count": null,
   "metadata": {},
   "outputs": [],
   "source": []
  },
  {
   "cell_type": "code",
   "execution_count": null,
   "metadata": {},
   "outputs": [],
   "source": []
  },
  {
   "cell_type": "code",
   "execution_count": null,
   "metadata": {},
   "outputs": [],
   "source": []
  },
  {
   "cell_type": "code",
   "execution_count": null,
   "metadata": {},
   "outputs": [],
   "source": []
  },
  {
   "cell_type": "code",
   "execution_count": null,
   "metadata": {},
   "outputs": [],
   "source": []
  }
 ],
 "metadata": {
  "kernelspec": {
   "display_name": "Lambda Notebook (Python 3)",
   "language": "python",
   "name": "lambda-notebook"
  },
  "language_info": {
   "codemirror_mode": {
    "name": "ipython",
    "version": 3
   },
   "file_extension": ".py",
   "mimetype": "text/x-python",
   "name": "python",
   "nbconvert_exporter": "python",
   "pygments_lexer": "ipython3",
   "version": "3.6.3"
  }
 },
 "nbformat": 4,
 "nbformat_minor": 2
}
