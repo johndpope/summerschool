{
 "cells": [
  {
   "cell_type": "markdown",
   "metadata": {},
   "source": [
    "###Upgrading from IPython 2\n",
    "\n",
    "The lambda notebook now requires IPython 3 / Jupyter notebook.  This is a somewhat substantial upgrade to the infrastructure, though it doesn't majorly affect lambda notebook operations.  \n",
    "\n",
    "There is one main change: lambda notebooks need to run under a specialized \"kernel\" that preloads the lambda notebook packages and infrastructure.  If this kernel is running, you will see \"Lambda Notebook\" in the upper right corner of your browser window.\n",
    "\n",
    "  * Running the lambda notebook will install the kernel.  (Note: This will allow lambda notebooks to work in IPython notebook in general.)\n",
    "  * When creating a new notebook, choose \"Lambda Notebook (Python 3)\" as the kernel, not just \"Python 3\".\n",
    "  * To upgrade a notebook, open the notebook (you should get a message about updating the format), and then under the Kernel menu, choose \"Change kernel\" -> \"Lambda Notebook (Python 3)\".\n",
    "  \n",
    "The IPython notebook is being renamed to \"Jupyter Notebook\", hence the change in graphics."
   ]
  },
  {
   "cell_type": "code",
   "execution_count": null,
   "metadata": {
    "collapsed": true
   },
   "outputs": [],
   "source": []
  }
 ],
 "metadata": {
  "kernelspec": {
   "display_name": "Lambda Notebook (Python 3)",
   "language": "python",
   "name": "lambda-notebook"
  },
  "language_info": {
   "codemirror_mode": {
    "name": "ipython",
    "version": 3
   },
   "file_extension": ".py",
   "mimetype": "text/x-python",
   "name": "python",
   "nbconvert_exporter": "python",
   "pygments_lexer": "ipython3",
   "version": "3.3.4"
  }
 },
 "nbformat": 4,
 "nbformat_minor": 0
}
